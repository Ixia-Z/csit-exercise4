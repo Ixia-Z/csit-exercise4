{
 "cells": [
  {
   "cell_type": "markdown",
   "metadata": {},
   "source": [
    "# MatplotlibでMatlabライクにMatlabライクなグラフを作成する\n",
    "\n",
    "Matplotlib (https://matplotlib.org/) はPython（+主にNumPy）のためのグラフ描画ライブラリです．Pythonのグラフ描画ライブラリとしては他にPlotly (https://plot.ly/python/) やSeaborn (https://seaborn.pydata.org/) 等様々ありますが，MatploblibはMatlabのグラフ機能とほぼ同じ記法を取っており，そして皆さんがMatlabを用いる実験を行っていることを考慮して，本演習ではMatplotlibを紹介します（既にMatlabでグラフを描画することに慣れていれば，最初の1,2個のセル以外ほとんど読む必要は無いと考えられます）．興味のある方は他のライブラリもぜひ参照してみてください．"
   ]
  },
  {
   "cell_type": "markdown",
   "metadata": {},
   "source": [
    "## インポートとインライン表示"
   ]
  },
  {
   "cell_type": "code",
   "execution_count": null,
   "metadata": {},
   "outputs": [],
   "source": [
    "# ノートブック上にグラフを表示するマジックコマンド\n",
    "%matplotlib inline\n",
    "import matplotlib.pyplot as plt\n",
    "import numpy as np"
   ]
  },
  {
   "cell_type": "markdown",
   "metadata": {},
   "source": [
    "## とりあえず使ってみる\n",
    "- `plt.plot`でグラフを作る\n",
    "- `plt.savefig`でグラフを保存する\n",
    "- `plt.show`でグラフを表示（上のマジックコマンドを使っているため今回はなくてもよい）"
   ]
  },
  {
   "cell_type": "code",
   "execution_count": null,
   "metadata": {},
   "outputs": [],
   "source": [
    "# sin関数を表示\n",
    "x = np.linspace(0, 10, 100) # 0から10までの数字を等間隔に，100個生成\n",
    "y  = np.sin(x)\n",
    "plt.plot(x, y)\n",
    "plt.savefig('sin.pdf')\n",
    "#plt.show() # inline表示をする場合なくてもよい（.pyファイルを動かして表示する場合は必要）"
   ]
  },
  {
   "cell_type": "markdown",
   "metadata": {},
   "source": [
    "正しく動いていれば sin.pdfという名前のグラフが保存されているはずです．"
   ]
  },
  {
   "cell_type": "markdown",
   "metadata": {},
   "source": [
    "## グラフのサイズを変更する\n",
    "- `plt.figure`の`figsize`で変更する（デフォルトは(8,6)）"
   ]
  },
  {
   "cell_type": "code",
   "execution_count": null,
   "metadata": {},
   "outputs": [],
   "source": [
    "plt.figure(figsize=(4.0, 3.0))\n",
    "y  = np.sin(x)\n",
    "plt.plot(x, y)\n",
    "plt.savefig('sin_small.pdf')\n",
    "plt.show()"
   ]
  },
  {
   "cell_type": "markdown",
   "metadata": {},
   "source": [
    "## 複数の結果を表示する\n",
    " - `plt.plot`を複数回動かせばよい"
   ]
  },
  {
   "cell_type": "code",
   "execution_count": null,
   "metadata": {},
   "outputs": [],
   "source": [
    "sin  = np.sin(x)\n",
    "cos = np.cos(x)\n",
    "plt.plot(x, y)\n",
    "plt.plot(x, cos)\n",
    "# 以下のようにまとめても良い\n",
    "# plt.plot(x, y, x, cos)\n",
    "plt.show()"
   ]
  },
  {
   "cell_type": "markdown",
   "metadata": {},
   "source": [
    "## 凡例をつける\n",
    "- `plt.plot`を動かす際に`label`引数で名前を付ける\n",
    "- `plt.legend`で凡例を表示する（`loc`：凡例の位置）"
   ]
  },
  {
   "cell_type": "code",
   "execution_count": null,
   "metadata": {},
   "outputs": [],
   "source": [
    "plt.plot(x, sin, label='sin')\n",
    "plt.plot(x, cos, label='cos')\n",
    "plt.legend(fontsize=12, loc='upper right')\n",
    "plt.show()"
   ]
  },
  {
   "cell_type": "markdown",
   "metadata": {},
   "source": [
    "## 各軸にラベルを付ける・タイトルを表示する\n",
    "- 軸ラベル：`plt.xlabel`・`plt.ylabel`\n",
    "- タイトル：`plt.title`"
   ]
  },
  {
   "cell_type": "code",
   "execution_count": null,
   "metadata": {},
   "outputs": [],
   "source": [
    "plt.plot(x, sin, label='sin')\n",
    "plt.plot(x, cos, label='cos')\n",
    "plt.legend(fontsize=12, loc='upper right')\n",
    "plt.xlabel('x', fontsize=18)\n",
    "plt.ylabel('y', fontsize=18)\n",
    "plt.title(\"sin function and cos function\")\n",
    "plt.show() "
   ]
  },
  {
   "cell_type": "markdown",
   "metadata": {},
   "source": [
    "## グラフの線のタイプ・色・マーカーを指定する\n",
    "- `plt.plot`の3つ目の引数で指定する．`marker`・`line`・`color`をそれぞれ1から2文字で指定できる．\n",
    "- 詳しくは https://matplotlib.org/stable/api/_as_gen/matplotlib.pyplot.plot.html"
   ]
  },
  {
   "cell_type": "code",
   "execution_count": null,
   "metadata": {},
   "outputs": [],
   "source": [
    "# 'r-x'の意味：colorがredで，lineは'-'．markerは'x'\n",
    "plt.plot(x, sin, 'r-x', label='sin') \n",
    "# 'go'の意味：colorがgreenで，markerは`o`\n",
    "plt.plot(x, cos, 'go', label='cos')\n",
    "plt.legend(fontsize=12, loc='upper right')\n",
    "plt.xlabel('x', fontsize=18)\n",
    "plt.ylabel('y', fontsize=18)\n",
    "plt.show()"
   ]
  },
  {
   "cell_type": "markdown",
   "metadata": {},
   "source": [
    "## 複数のグラフを並べる\n",
    "- `plt.subplot`または`plt.subplots`を使う"
   ]
  },
  {
   "cell_type": "code",
   "execution_count": null,
   "metadata": {},
   "outputs": [],
   "source": [
    "plt.figure()\n",
    "plt.suptitle('sin, cos, sin, cos', fontsize=18) # 全体のタイトル\n",
    "# 221：2行2列で表示する．その1つめ（上の行から下の行に，左から右に番号が付けられる）\n",
    "plt.subplot(221)\n",
    "plt.plot(x, sin, label='sin')\n",
    "plt.legend(fontsize=12, loc='lower left')\n",
    "plt.ylabel('y', fontsize=18) \n",
    "plt.title('sin')\n",
    "\n",
    "# 222：2行2列で表示する．その2つめ\n",
    "plt.subplot(222)\n",
    "plt.plot(x, cos, 'r--', label='cos')\n",
    "plt.legend(fontsize=12, loc='upper right')\n",
    "\n",
    "# 223：2行2列で表示する．その3つめ\n",
    "plt.subplot(223)\n",
    "plt.plot(x, sin, 'g-o', label='sin')\n",
    "plt.legend(fontsize=12, loc='lower left')\n",
    "plt.ylabel('y', fontsize=16)\n",
    "\n",
    "# 224：2行2列で表示する．その4つめ\n",
    "plt.subplot(224)\n",
    "plt.plot(x, cos, 'c+', label='cos')\n",
    "plt.legend(fontsize=12, loc='upper right')\n",
    "plt.title('cos')\n",
    "\n",
    "plt.savefig('sin_cos_sin_cos.pdf')\n",
    "plt.show()"
   ]
  },
  {
   "cell_type": "markdown",
   "metadata": {},
   "source": [
    "これ以上紹介はしませんが，他にも様々な機能があります（棒グラフや散布図，ヒートマップや二次元ヒストグラム等様々なグラフを作ることができます）．\n",
    "公式よりユーザーガイドが提供されています (https://matplotlib.org/stable/users/index.html) ．\n",
    "また，基本的にMatlabのグラフ機能と同じ動作をするので，Matlabのグラフ機能に関するページ\n",
    "https://jp.mathworks.com/help/matlab/learn_matlab/basic-plotting-functions.html\n",
    "も参考になります．"
   ]
  },
  {
   "cell_type": "code",
   "execution_count": null,
   "metadata": {},
   "outputs": [],
   "source": []
  }
 ],
 "metadata": {
  "kernelspec": {
   "display_name": "Python 3",
   "language": "python",
   "name": "python3"
  },
  "language_info": {
   "codemirror_mode": {
    "name": "ipython",
    "version": 3
   },
   "file_extension": ".py",
   "mimetype": "text/x-python",
   "name": "python",
   "nbconvert_exporter": "python",
   "pygments_lexer": "ipython3",
   "version": "3.8.10"
  }
 },
 "nbformat": 4,
 "nbformat_minor": 4
}
