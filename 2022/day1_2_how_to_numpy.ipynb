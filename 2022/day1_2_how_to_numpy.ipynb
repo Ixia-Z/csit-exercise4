{
 "cells": [
  {
   "cell_type": "markdown",
   "metadata": {},
   "source": [
    "# 2.　NumPy入門"
   ]
  },
  {
   "cell_type": "markdown",
   "metadata": {},
   "source": [
    "## 目次（リンクをクリックすると対応する箇所まで飛べます）\n",
    "- [2.1 はじめに：NumPyとは](#what_is_numpy)\n",
    "     - [2.1.1 NumPyのインポート](#import_numpy)\n",
    "- [2.2 `np.ndarray`オブジェクトの作成・基本演算](#basic_operation)\n",
    "     - [2.2.1 オブジェクト(=NumPy配列)の作成](#create_object)\n",
    "     - [2.2.2 要素へのアクセス・代入](#access)\n",
    "     - [2.2.3 基本情報の取得](#attribute)\n",
    "     - [2.2.4 基本演算・基本操作](#basic_operation_sub)\n",
    "- [2.3 `np.ndarray`の様々な演算](#various_function)\n",
    "- [2.4 `np.ndarray`を用いた`np.ndarray`オブジェクトの作成](#create_array_by_numpy)\n",
    "- [2.5 ランダムな配列の生成](#create_random_array)\n",
    "- [2.6 `np.ndarray`の書き込み・読み込み](#load_and_save)\n",
    "- [2.7 Python標準機能と速度比較](#speed_test)\n",
    "- [2.8 まとめ](#summary)\n",
    "- [付録：NumPyに関するリンク](#pointer)\n"
   ]
  },
  {
   "cell_type": "markdown",
   "metadata": {},
   "source": [
    "<a id='what_is_numpy'></a>\n",
    "\n",
    "## 2.1 はじめに：NumPyとは"
   ]
  },
  {
   "cell_type": "markdown",
   "metadata": {},
   "source": [
    "**NumPy（ナムパイorヌムパイ）はPythonにおける数値計算のためのライブラリ**です（公式ページ https://docs.scipy.org/doc/ ）．機械学習のプログラムを書くために，より広義には，科学技術計算・数値計算のためにPythonを使う理由として，NumPyの存在が大きなウェイトを占めています．\n",
    "\n",
    "**なぜNumPyが重要なのか？**\n",
    "- データ分析を行う際には様々な演算・関数が要求されます．それらを毎回実装するのは非常に大変です．NumPy（及び後述のSciPy）は，**数値計算において頻出する多くの演算の関数を提供**しています．\n",
    "- Pythonはプログラムを柔軟に・簡単に書くことが出来ますが，C言語といった静的型付けと比べると多大な計算時間を要してしまいます．これは，Pythonは動的型付け言語であるため諸々の演算を行う際に逐一型のチェックを行う必要があるという点が大きく影響しています（静的な型付け言語では，事前に型が決まっているため，実行時に型のチェックを行う必要はありません）．\n",
    "NumPy（及び後述のSciPy）は，内部ではC言語やFotranで書かれたプログラムが実行されているため，**非常に高速に動作**します．\n",
    "\n",
    "**機械学習において(本演習において)NumPyはどのように使われているのか？**\n",
    "\n",
    "- 講義 **「データサイエンス」** の内容を思い出してみましょう．データは（数の）**ベクトル**で表現され，データの集まりは**行列**で表現されます．したがって，**ベクトル・行列演算**を多数用いるだろうことは容易に想像できます（例：行列の和，定数倍，積，内積，固有値固有ベクトル計算，逆行列計算，etc)．NumPyによって行列演算を簡単に高速に行うことが可能になります．次回以降用いる機械学習のPythonライブラリscikit-learnでは，データの表現としてNumPyを用いることが前提となっています．\n",
    "\n",
    "\n",
    "**このNotebookで何が学べるのか?**\n",
    "- NumPyの提供する多次元配列クラス `numpy.ndarray`の基本的な使い方\n",
    "\n",
    "より詳しく学びたい方は，公式のチュートリアルをご覧ください（https://docs.scipy.org/doc/numpy/user/quickstart.html ）．\n",
    "\n",
    "関数の使い方などでわからない箇所があれば，随時公式のリファレンス（https://docs.scipy.org/doc/numpy/reference/index.html ）を参照することをおすすめします．英語が苦手であれば，非公式の日本語の記事がウェブ上に沢山ありますので，それらを参考にするのもよいでしょう．また，Jupyter Notebookの強みの一つは，その場ですぐに試すことが出来るという点です．**適当にセルを作成して試しに動かしてみて挙動を確認するというのも，理解に大きく繋がるためオススメです．**\n",
    "また，NumPyには便利な関数が多数あるため，NumPy配列に対して何か処理を行いたくなったらまず**その処理を行う関数等が存在するかを調べることを強く推奨します**．\n",
    "\n",
    "このノートブックの内容を**完璧に覚える必要は全くありません**．次回以降，実際に機械学習を含んだデータ解析を行う際に適宜参照しながら，最低限の使い方を覚えれば良いです（NumPyの雰囲気を掴むだけでも問題ありません）．"
   ]
  },
  {
   "cell_type": "markdown",
   "metadata": {},
   "source": [
    "<a id='import_numpy'></a>\n",
    "\n",
    "## 2.1.1 NumPyのインポート"
   ]
  },
  {
   "cell_type": "markdown",
   "metadata": {},
   "source": [
    "Pythonでは，外部のライブラリ（モジュール）を使えるようにするために，`import`文を用いるのでした．NumPyを使う場合は次のようになります．"
   ]
  },
  {
   "cell_type": "code",
   "execution_count": null,
   "metadata": {},
   "outputs": [],
   "source": [
    "import numpy # NumPyがインストールされていれば使えるようになる"
   ]
  },
  {
   "cell_type": "markdown",
   "metadata": {},
   "source": [
    "これ以降，NumPyが使えるようになりました．実際に軽く動かしてみます（後ほど詳しく説明するので，今は使えているんだな，程度の理解で構いません）．"
   ]
  },
  {
   "cell_type": "code",
   "execution_count": null,
   "metadata": {},
   "outputs": [],
   "source": [
    "x_list = [3, 4, 1.5] # 要素数3のベクトルを定義 \n",
    "x = numpy.array(x_list)  # Python標準のlistオブジェクトだったx_listから，numpyのarray(=ndarray)オブジェクトを作成\n",
    "numpy.sum(x) # numpy.sum:行列・ベクトルの要素の和を表す"
   ]
  },
  {
   "cell_type": "markdown",
   "metadata": {},
   "source": [
    "$ \\mathbf{x} = (3, 4, 1.5)$というベクトルの各要素の和が計算できました．もちろん，リストのままでもこの程度のことは計算できますが，`numpy`を用いることで簡単に・高速に計算が出来ます．\n",
    "\n",
    "これ以降，我々は`numpy.hogehoge`という形で様々なことができるようになります．Pythonには`as`という機能があります（day1_1_how_to_python.ipynb参照）．これは，オブジェクトやモジュール・ライブラリに別の名前を付ける機能です．`numpy`については，次のように`np`という別名を付ける慣例があります．これについては賛否両論ありますが，本Notebookではこの慣例にしたがうことにします．"
   ]
  },
  {
   "cell_type": "code",
   "execution_count": null,
   "metadata": {},
   "outputs": [],
   "source": [
    "import numpy as np # numpyがこれ以降npという名前になった\n",
    "x = np.array(x_list)  # Python標準のlistオブジェクトだったxから，numpyのarray(=ndarray)オブジェクトを作成\n",
    "np.sum(x) # numpy.sum:行列・ベクトルの要素の和を表す"
   ]
  },
  {
   "cell_type": "markdown",
   "metadata": {},
   "source": [
    "<a id='basic_operation'></a>\n",
    "\n",
    "## 2.2 `np.ndarray`オブジェクトの作成・基本演算"
   ]
  },
  {
   "cell_type": "markdown",
   "metadata": {},
   "source": [
    "`np.ndarray`は**n次元（多次元）配列を扱うためのクラス**です．Pythonのリストを多重に用いることで多次元配列を扱うことも可能ですが，`np.ndarray`を用いることで様々な便利な関数を利用できます．"
   ]
  },
  {
   "cell_type": "markdown",
   "metadata": {},
   "source": [
    "<a id='create_object'></a>\n",
    "\n",
    "## 2.2.1 オブジェクト（=NumPy配列）の作成\n",
    "NumPyの配列，すなわち`np.ndarray`のオブジェクトの最も基本的な作成方法は，まずPythonの標準のリストやタプルといったarray-likeなオブジェクトを作成し，次に`np.ndarray`を被せるという方法です．以下のようになります．オブジェクトを作成する際に，`dtype`という引数を指定することで，配列の各要素の型（`int`や`float`等）を指定することができます．以下のコードからわかりますが，\"nd\"を省略した`np.array`によっても作成ができます（本Notebookでは，\"nd\"を省略した`np.array`を用いることにします）．標準の`list`から`np.array`にすることで，NumPyに実装されている様々な便利な関数の恩恵を受けることができます．\n",
    "\n",
    "なお，分かりやすさのために，本演習のNotebookではベクトル（1次元配列）の変数名には小文字を，行列（2次元配列）やより高次元の配列の変数名には大文字を使います．"
   ]
  },
  {
   "cell_type": "code",
   "execution_count": null,
   "metadata": {},
   "outputs": [],
   "source": [
    "x = np.array([3, 4, 1.5]) # numpy配列\n",
    "Y_list = [[4, 1.5, 2], [0, -9, 100]] # まだリスト\n",
    "Y = np.array(Y_list) # np.arrayに被せることでnumpy配列に\n",
    "z_tuple = (1, 2) # タプルでも良い\n",
    "z = np.array(z_tuple)\n",
    "W_list = [ [[4, 1.5, 2], [0, -9, 100]],  [[4, 1.5, 2], [0, -9, 100]],  [[4, 1.5, 2], [0, -9, 100]]]\n",
    "W = np.array(W_list, dtype='int') # int型 np.int64という指定でも良い\n",
    "print(x)\n",
    "print(Y)\n",
    "print(z)\n",
    "print(W)\n",
    "print(type(x))"
   ]
  },
  {
   "cell_type": "markdown",
   "metadata": {},
   "source": [
    "次元数が2より大きい時は，各次元毎に要素数が等しくなければなりません．n=2の時を例にすると，各行の長さ・各列の長さは等しくなければなりません．各次元数で等しくない場合でも一応オブジェクトは作成されますが，期待通りの動作にはなりません．"
   ]
  },
  {
   "cell_type": "code",
   "execution_count": null,
   "metadata": {},
   "outputs": [],
   "source": [
    "a_list = [[4, 1.5, 2], [0, -9]] # 1行目の要素の数と2行目の要素の数が違う\n",
    "print(a_list)\n",
    "a = np.array(a_list) # エラーはでないが意味のあるオブジェクトになっていない\n",
    "print(a) # 行列と言える状態になっていない\n",
    "print(np.sum(a)) # 上手く働かない (listとlistの和を計算=listを連結)"
   ]
  },
  {
   "cell_type": "markdown",
   "metadata": {},
   "source": [
    "<a id='access'></a>\n",
    "\n",
    "# 2.2.2 要素へのアクセス・代入"
   ]
  },
  {
   "cell_type": "markdown",
   "metadata": {},
   "source": [
    "Pythonのリストとほぼ同様にアクセスが出来ますが，`np.array`の場合`list`よりも直感にあう書き方が許されています．"
   ]
  },
  {
   "cell_type": "code",
   "execution_count": null,
   "metadata": {},
   "outputs": [],
   "source": [
    "print(x)\n",
    "print(\"1番目の要素にアクセス\")\n",
    "print(x_list[1], x[1]) \n",
    "print()\n",
    "print(Y)\n",
    "print(\"0行目の行ベクトルを表示\")\n",
    "print(Y_list[0], Y[0]) # 最初の行にアクセス\n",
    "print(\"0行目の行ベクトルの2番目の要素を表示\")\n",
    "print(Y_list[0][2], Y[0][2], Y[0, 2]) # np.ndarrayでは，最後のような書き方も許される"
   ]
  },
  {
   "cell_type": "markdown",
   "metadata": {},
   "source": [
    "配列を`for`で走査すると最初の次元に関して順に取り出されます．例えば行列の場合，行ベクトルが順に取り出されます．\n",
    "配列に対して`for`文を用いることで様々なことができるのは皆さんご存知かと思いますが，基本的には（可能ならば）**numpyに実装されている関数を用いて処理を行うほうが圧倒的に速いです**．"
   ]
  },
  {
   "cell_type": "code",
   "execution_count": null,
   "metadata": {},
   "outputs": [],
   "source": [
    "print(x)\n",
    "print(\"forで順番に取り出す\")\n",
    "for xi in x:\n",
    "    print(xi)\n",
    "# 上のプログラムは次のようにも書ける\n",
    "# 上の方がPythonらしい書き方\n",
    "\"\"\"\n",
    "for i in range(x.shape[0]):\n",
    "    print(x[i])\n",
    "\"\"\"\n",
    "print()\n",
    "print(Y)\n",
    "print(\"forで順番に取り出す\")\n",
    "for yi in Y:\n",
    "    print(yi)\n"
   ]
  },
  {
   "cell_type": "markdown",
   "metadata": {},
   "source": [
    "`list`と同様にスライスのようなリッチなアクセス方法もサポートされています．これらは後述する演算と組み合わせて用いることも多いです．\n",
    "\n",
    "2つ前のセルの最後の結果のような， `Y[i, j]`とすることで`i`行`j`列目の要素にアクセスする方法は，列方向の操作に便利です．次のセルの最後・最後から一つ前のアクセス方法は，一見同じ結果を返しそうな気がしますが，異なる結果となっています．\n",
    "\n",
    "次のセルの最後から一つ前のアクセス方法では，まず最初のコロン`:`によって全ての行にアクセスすることが指定され，その次に列のインデックス`1`が指定されています．この二つの指定が一つの`[]`の中に入っており，**（ある意味）同時に解釈**されるため，全ての行の1番目の要素，つまり**1列目の列ベクトル**が得られています．\n",
    "\n",
    "一方，最後のアクセス方法では行列の**2行目の行ベクトル**が得られています．`[:]`によるスライスと，`[1]`による要素を指定したアクセスが別々に解釈されたためです:\n",
    "`Y_list[:]・Y[:]`でまず`Y_list・Y`と同一の(2, 3)の2次元配列が返され，その後`[1]`によってその1番目の要素にアクセスし，1行目の行ベクトルが返されています．"
   ]
  },
  {
   "cell_type": "code",
   "execution_count": null,
   "metadata": {},
   "outputs": [],
   "source": [
    "print(x)\n",
    "print(\"2番目の手前（＝1番目）までの要素にアクセス\")\n",
    "print(x_list[:2], x[:2])\n",
    "print()\n",
    "print(Y)\n",
    "print(\"0行目の行ベクトルの-1=末尾の一つ手前までアクセス\")\n",
    "print(Y_list[0][0:-1], Y[0, 0:-1], Y[0, :-1]) # 0行目の，0列目から末尾から一つ前の列までを取り出す\n",
    "print(\"末尾の行ベクトルにアクセス\")\n",
    "print(Y_list[-1], Y[-1]) # 末尾の行にアクセス\n",
    "print(\"全ての行の1番目の列=1番目の列ベクトルにアクセス\")\n",
    "print(Y[:, 1]) # ：で全ての行にアクセス，1で1番目の列にアクセス，すなわち1番目の列ベクトルにアクセス)\n",
    "print(\"1番目の列ベクトルにアクセス…とはならない\")\n",
    "print(Y_list[:][1], Y[:][1]) # 1番目の列ベクトルにアクセスとはならない"
   ]
  },
  {
   "cell_type": "markdown",
   "metadata": {},
   "source": [
    "また，**アクセスしたいインデックスをリストや配列の形で渡すことで，複数の特定の要素に同時にアクセス**が出来ます．"
   ]
  },
  {
   "cell_type": "code",
   "execution_count": null,
   "metadata": {},
   "outputs": [],
   "source": [
    "print(x)\n",
    "print(\"0番目と2番目の要素にアクセス\")\n",
    "print(x[[0, 2]]) # 0番目，2番目の要素にアクセス\n",
    "print()\n",
    "print(Y)\n",
    "print(\"1行目の行ベクトルの1番目と2番目の要素にアクセス\")\n",
    "print(Y[1, [1, 2]]) # 1行目のベクトルの，1列目の値と2列目の値にアクセス\n",
    "print(\"すべての行ベクトルの0番目と2番目の要素にアクセス\")\n",
    "print(Y[:, [0, 2]]) # すべての行の0行目の要素と2列目の要素にアクセス"
   ]
  },
  {
   "cell_type": "markdown",
   "metadata": {},
   "source": [
    "インデックスをリストで渡す際に，**真偽値のリスト・配列を渡すことで，`True`になっている要素にのみアクセス**ができます．"
   ]
  },
  {
   "cell_type": "code",
   "execution_count": null,
   "metadata": {},
   "outputs": [],
   "source": [
    "print(x)\n",
    "print(x[[True, False, True]])\n",
    "print()\n",
    "print(Y)\n",
    "print(Y[:, [False, True, True]])"
   ]
  },
  {
   "cell_type": "markdown",
   "metadata": {},
   "source": [
    "代入式の左辺に上述の要素へのアクセスを，右辺に値を入れることで，`np.ndarray`オブジェクトへの**代入・変更**が出来ます．"
   ]
  },
  {
   "cell_type": "code",
   "execution_count": null,
   "metadata": {},
   "outputs": [],
   "source": [
    "print(\"要素の変更\")\n",
    "print(x)\n",
    "x[1] = 100000 # 前から2番目の値を100000に\n",
    "print(x)\n",
    "x[1] = 4\n",
    "print(x)\n",
    "\n",
    "print(\"要素の定数倍 (定数和も同様)\")\n",
    "print(Y)\n",
    "Y[1, 1] *= 5 # 1行1列目の値を5倍\n",
    "print(Y)\n",
    "Y[1, 1] /= 5 # 元に戻す\n",
    "print(Y)\n",
    "\n",
    "print(\"行の変更\")\n",
    "Y[0] = x # 0行目の行ベクトルを変更\n",
    "print(Y)\n",
    "Y[0] = 0 # 0行目のベクトルの要素の値をすべて0に変更\n",
    "print(Y)\n",
    "Y[0] = np.array([4, 1.5, 2.]) # 元に戻す\n",
    "print(Y)"
   ]
  },
  {
   "cell_type": "markdown",
   "metadata": {},
   "source": [
    "<a id='attribute'></a>\n",
    "\n",
    "# 2.2.3 基本情報の取得"
   ]
  },
  {
   "cell_type": "markdown",
   "metadata": {},
   "source": [
    "2.2.3では，配列の形・配列の次元・配列の各要素の型・配列の要素の数と言った**配列の基本情報の取得方法**を紹介します．\n",
    "\n",
    "\n",
    "ある`np.ndarray`が与えられた時に，その**配列の形**（行の数と列の数）を知りたいことは多いです．例えば，データの集まりは行列で表現されるので，配列の形の取得はデータの数や次元数（特徴の数）を取得することに対応します．`np.ndarray`オブジェクトは，`shape`という属性を持っており，これは配列の形をタプルで表現したものです．"
   ]
  },
  {
   "cell_type": "code",
   "execution_count": null,
   "metadata": {},
   "outputs": [],
   "source": [
    "print(x.shape)\n",
    "print(Y.shape)\n",
    "print(z.shape)\n",
    "print(W.shape)"
   ]
  },
  {
   "cell_type": "markdown",
   "metadata": {},
   "source": [
    "また，より基本的な情報として**配列の次元**を表す`ndim`という属性を持っています．これは`shape`の`len`と同じです．"
   ]
  },
  {
   "cell_type": "code",
   "execution_count": null,
   "metadata": {},
   "outputs": [],
   "source": [
    "print(x.ndim) # ベクトルなので1次元配列\n",
    "print(Y.ndim) # 行列なので2次元配列\n",
    "print(W.ndim)"
   ]
  },
  {
   "cell_type": "markdown",
   "metadata": {},
   "source": [
    "`dtype`は**配列の各要素の型**（`int`なのか？`float`なのか？等）を表す属性です．"
   ]
  },
  {
   "cell_type": "code",
   "execution_count": null,
   "metadata": {},
   "outputs": [],
   "source": [
    "print(x.dtype)\n",
    "print(Y.dtype)\n",
    "print(W.dtype)"
   ]
  },
  {
   "cell_type": "markdown",
   "metadata": {},
   "source": [
    "`np.array`に`len`を用いると，最初の次元の長さ，すなわち`shape`で得られるタプルの一つ目の要素が得られます．"
   ]
  },
  {
   "cell_type": "code",
   "execution_count": null,
   "metadata": {},
   "outputs": [],
   "source": [
    "print(len(x), x.shape[0])\n",
    "print(len(Y), Y.shape[0])"
   ]
  },
  {
   "cell_type": "markdown",
   "metadata": {},
   "source": [
    "`size`は**配列の要素数**を表す属性です．すなわち，`shape`の全ての要素を掛けたものです．"
   ]
  },
  {
   "cell_type": "code",
   "execution_count": null,
   "metadata": {},
   "outputs": [],
   "source": [
    "print(Y.shape)\n",
    "print(Y.size)"
   ]
  },
  {
   "cell_type": "markdown",
   "metadata": {},
   "source": [
    "<a id='basic_operation_sub'></a>\n",
    "\n",
    "## 2.2.4 基本演算・基本操作"
   ]
  },
  {
   "cell_type": "markdown",
   "metadata": {},
   "source": [
    "2.2.4の前半では，**配列の定数倍・定数和**，**要素ごとの和・要素ごとの積**，および**前述のスライスとの組合せ**について紹介します．次に，**配列の転置，配列の連結**に関して紹介します．"
   ]
  },
  {
   "cell_type": "markdown",
   "metadata": {},
   "source": [
    "**行列・ベクトルの定数倍・定数和**は，通常のスカラーの場合と同じように書くことが出来ます（差と商も同様です）．"
   ]
  },
  {
   "cell_type": "code",
   "execution_count": null,
   "metadata": {},
   "outputs": [],
   "source": [
    "print(x)\n",
    "print(\"全ての要素に3を足す\")\n",
    "print(x+3) # 全ての要素に3を足す\n",
    "print(\"全ての要素に2を掛ける\")\n",
    "print(x*2) # 全ての要素を2倍する\n",
    "print(Y)\n",
    "print(\"全ての要素に-1を足す\")\n",
    "print(Y-1) # 全ての要素に-1を足す\n",
    "print(\"全ての要素に-2を掛ける\")\n",
    "print(-2*Y) # 全ての要素を-2倍する"
   ]
  },
  {
   "cell_type": "markdown",
   "metadata": {},
   "source": [
    "これらの結果は全て新しい`np.ndarray`オブジェクトを返しています．したがって，代入式を書くことで新たなオブジェクトを作ることができます．"
   ]
  },
  {
   "cell_type": "code",
   "execution_count": null,
   "metadata": {},
   "outputs": [],
   "source": [
    "x_plus_3 = x+3\n",
    "print(x_plus_3)"
   ]
  },
  {
   "cell_type": "markdown",
   "metadata": {},
   "source": [
    "**ベクトルや行列の和・要素ごとの積（element-wise product or Hadamard product）** は，二つのベクトル・行列に対してを`+ *`を作用させることで計算できます．差と商は同様に`- /`で計算ができます．"
   ]
  },
  {
   "cell_type": "code",
   "execution_count": null,
   "metadata": {},
   "outputs": [],
   "source": [
    "a = np.array([1,2,3])\n",
    "print(x)\n",
    "print(a)\n",
    "\n",
    "print(\"xとaの要素ごとの和\")\n",
    "x_plus_a = x + a\n",
    "print(x_plus_a)\n",
    "\n",
    "print(\"xとaの要素ごとの差\")\n",
    "x_sub_a = x - a\n",
    "print(x_sub_a)\n",
    "\n",
    "print(\"xとaの要素ごとの積\")\n",
    "x_prod_a = x * a\n",
    "print(x_prod_a)\n",
    "\n",
    "print(\"xとaの要素ごとの商\")\n",
    "x_div_a = x / a\n",
    "print(x_div_a)"
   ]
  },
  {
   "cell_type": "markdown",
   "metadata": {},
   "source": [
    "**スライス等を利用し特定の行・列に関してのみ演算**を施すことも出来ます．"
   ]
  },
  {
   "cell_type": "code",
   "execution_count": null,
   "metadata": {},
   "outputs": [],
   "source": [
    "print(Y)\n",
    "print(\"全ての要素に1を足す\")\n",
    "_Y = Y+1\n",
    "print(_Y)\n",
    "print(\"0行目の行ベクトルに3を足す\")\n",
    "_Y[0] += 3\n",
    "print(_Y)\n",
    "print(\"0行目の行ベクトルにa=(1,2,3)を足す\")\n",
    "_Y[0] += a\n",
    "print(_Y)\n",
    "print(\"1列目の列ベクトルに0を掛ける\")\n",
    "_Y[:, 1] *= 0\n",
    "print(_Y)"
   ]
  },
  {
   "cell_type": "markdown",
   "metadata": {},
   "source": [
    "**ベクトルと行列の和**を計算することもできます．ある行列`X`とベクトル`a`対して`X+a`を行った場合，`X`の全ての行ベクトル`x[i]`に`a`が足されます．"
   ]
  },
  {
   "cell_type": "code",
   "execution_count": null,
   "metadata": {},
   "outputs": [],
   "source": [
    "print(Y)\n",
    "print(x)\n",
    "print(\"Yの各行にxを足す\")\n",
    "_Y = Y + x\n",
    "print(_Y)"
   ]
  },
  {
   "cell_type": "markdown",
   "metadata": {},
   "source": [
    "(2, 3)の行列`Y`に，(2, )のベクトル`z`を足すと，列ベクトルによしなに足してくれる…ということはなく，**エラーになります．**"
   ]
  },
  {
   "cell_type": "code",
   "execution_count": null,
   "metadata": {},
   "outputs": [],
   "source": [
    "print(Y)\n",
    "print(z)\n",
    "print(Y+z)"
   ]
  },
  {
   "cell_type": "markdown",
   "metadata": {},
   "source": [
    "この場合，`z`が`z.shape=(2, 1)`の2次元配列となっていれば`Y`の各列に`z`を足すことができます．いくつか方法はありますが，例えば，`np.newaxis`を用いることで`z`を`(2, 1)`の配列に変更することができます．`np.newaxis`については後ほどもう少し詳しく紹介します．"
   ]
  },
  {
   "cell_type": "code",
   "execution_count": null,
   "metadata": {},
   "outputs": [],
   "source": [
    "print(z[:, np.newaxis])\n",
    "print(z[:, np.newaxis].shape)\n",
    "print(Y+z[:, np.newaxis])"
   ]
  },
  {
   "cell_type": "markdown",
   "metadata": {},
   "source": [
    "**配列に対して比較演算子を用いることができます**．例えば，`X>0`を実行すると，`X`の0より大きい要素には`True`が，そうでない要素には`False`が入った配列が返ってきます．\n",
    "比較演算子と真偽値の配列を用いたスライシングによって，**特定の条件を満たす要素だけを取り出す**ことが可能です．"
   ]
  },
  {
   "cell_type": "code",
   "execution_count": null,
   "metadata": {},
   "outputs": [],
   "source": [
    "print(Y)\n",
    "print(Y>1)\n",
    "print(Y[Y>1])"
   ]
  },
  {
   "cell_type": "markdown",
   "metadata": {},
   "source": [
    "**配列の転置**は`np.transpose`という関数，あるいは`.T`によって行うことが出来ます．ベクトル（1次元配列）については転置を行っても何も起こりません．\n",
    "これらは**元の配列（オブジェクト）を転置させるのではなく，新たに転置させた配列を返します**．"
   ]
  },
  {
   "cell_type": "code",
   "execution_count": null,
   "metadata": {},
   "outputs": [],
   "source": [
    "YT = np.transpose(Y)\n",
    "print(Y)\n",
    "print(YT)\n",
    "print(Y.T)\n",
    "print(Y.T.shape)\n",
    "print(x)\n",
    "print(x.T)\n",
    "print(x.T.shape)"
   ]
  },
  {
   "cell_type": "markdown",
   "metadata": {},
   "source": [
    "<a id='various_function'></a>\n",
    "\n",
    "## 2.3 np.ndarrayの様々な演算"
   ]
  },
  {
   "cell_type": "markdown",
   "metadata": {},
   "source": [
    "`np.ndarray`には便利な関数が多数存在します．全てを紹介することはせずに，一部のみ紹介します．\n",
    "\n",
    "`np.sum`は**配列の要素の和**を求める関数です．`axis`引数を指定することで特定の次元（行 or 列）に関してのみ和を求めることも出来ます．和を求めた結果，和を計算した方向の次元は消えてしまいます．次元を消したくない場合は，`keepdims`引数を`True`にします．"
   ]
  },
  {
   "cell_type": "code",
   "execution_count": null,
   "metadata": {},
   "outputs": [],
   "source": [
    "print(Y)\n",
    "print(np.sum(Y))\n",
    "print(\"0次元目の方向に和を計算 = 行ベクトルの和を計算\")\n",
    "print(np.sum(Y, axis=0), np.sum(Y, axis=0).shape) # 行ベクトルの和を計算\n",
    "print(\"0次元目の方向に和を計算 = 行ベクトルの和を計算 with keepdims=True\")\n",
    "print(np.sum(Y, axis=0, keepdims=True), np.sum(Y, axis=0, keepdims=True).shape) # 演算後，次元を保つ\n",
    "print(\"1次元目の方向に和を計算 = 列ベクトルの和を計算\")\n",
    "print(np.sum(Y, axis=1), np.sum(Y, axis=1).shape) # 列ベクトルの和を計算"
   ]
  },
  {
   "cell_type": "markdown",
   "metadata": {},
   "source": [
    "**三角関数や指数関数，対数関数，絶対値**と言った関数も実装されています．これらの関数に配列を入れると，要素ごとに関数の値を計算します．"
   ]
  },
  {
   "cell_type": "code",
   "execution_count": null,
   "metadata": {},
   "outputs": [],
   "source": [
    "print(np.cos(Y))\n",
    "print(np.sin(Y)) \n",
    "print(np.exp(Y)) \n",
    "print(np.abs(Y)) # 絶対値 \n",
    "print(np.log(np.abs(Y)+1)) # 自然対数．非正の値をいれることはできないので，絶対値を取った後に1を足す"
   ]
  },
  {
   "cell_type": "markdown",
   "metadata": {},
   "source": [
    "`np.dot`は**二つの配列の積** を計算する関数です（dotは一般に内積を表しますが，この関数は必ずしもそうとは限りません（=数学的概念の内積と一致するとは限りません））．機械学習アルゴリズムの中で最も使うだろう関数の一つです．`np.dot(a, b)`は，**aとbの次元数によって挙動が変わります**．ここでは，本演習で遭遇するだろう場合に関してのみ述べます：\n",
    "\n",
    "1. a, bのどちらも1次元配列の場合：ベクトルaとbの内積を返す（すなわち，スカラーを返す）．\n",
    "2. a, bのどちらも2次元配列の場合：行列aとbの行列積を返す（`a.shape=(d_1, d_2)`, `b.shape=(d_2, d_3)`の時，`shape=(d_1, d_3)`の行列を返す）\n",
    "3. aがn次元配列，bが1次元配列の場合：aの最後の次元(`axis`)でベクトルを取り出し，bと内積を計算する．すなわち， `a.shape=(d_1, ..., d_n)`，`b.shape=(d_n, )`の時，`shape=(d_1, ..., d_{n-1})`次元の配列を返す．\n",
    "\n",
    "詳しくは公式のリファレンス https://docs.scipy.org/doc/numpy/reference/generated/numpy.dot.html を参照して下さい．"
   ]
  },
  {
   "cell_type": "code",
   "execution_count": null,
   "metadata": {},
   "outputs": [],
   "source": [
    "print(x)\n",
    "print(Y)\n",
    "print(\"ケース1\")\n",
    "print(np.dot(x,x))\n",
    "print(np.sum(x*x)) # 上と同じ結果を返す\n",
    "print(\"ケース2\")\n",
    "print(np.dot(Y, Y.T)) # (2, 3)と(3, 2)の積=(2, 2)を返す\n",
    "print(np.dot(Y.T, Y)) # (3, 2)と(2, 3)の積=(3, 3)を返す\n",
    "print(\"ケース3\")\n",
    "print(np.dot(Y, x))\n",
    "print(np.array([np.dot(Y[0], x), np.dot(Y[1], x)])) # 上と同じ結果"
   ]
  },
  {
   "cell_type": "markdown",
   "metadata": {},
   "source": [
    "`shape`が合わない場合**エラーとなります．**\n",
    "次のケースでは二つの配列はどちらも2次元なので，一つ目の行列の2番目の次元の要素数と，二つ目の行列の1番目の次元の要素数が一致していなければなりませんが，そうなっていません．"
   ]
  },
  {
   "cell_type": "code",
   "execution_count": null,
   "metadata": {},
   "outputs": [],
   "source": [
    "print(np.dot(Y, Y))"
   ]
  },
  {
   "cell_type": "markdown",
   "metadata": {},
   "source": [
    "上で述べたもの以外にも，平均や分散の計算，最大（小）値の計算，ソートといった便利な関数が多数あります．`np.ndarray`に対して何かをしたくなった時，**まずその処理が存在するかを調べることを強く推奨します**．"
   ]
  },
  {
   "cell_type": "markdown",
   "metadata": {},
   "source": [
    "<a id='create_array_by_numpy'></a>\n",
    "\n",
    "\n",
    "## 2.4 `np.ndarray`を用いた`np.ndarray`オブジェクトの作成"
   ]
  },
  {
   "cell_type": "markdown",
   "metadata": {},
   "source": [
    "本Notebookの序盤において「`list`を渡して`np.ndarray`オブジェクトを作成する」と紹介しました．**いくつかの特殊な配列に関しては直接`np.ndarray`の関数を用いて作成することができます．**"
   ]
  },
  {
   "cell_type": "markdown",
   "metadata": {},
   "source": [
    "**全ての要素が0の配列**は`np.zeros`で作成することが出来ます．`np.zeros`には引数として`shape`を与えると，指定した`shape`の全てが0の配列が作成されます．"
   ]
  },
  {
   "cell_type": "code",
   "execution_count": null,
   "metadata": {},
   "outputs": [],
   "source": [
    "print(np.zeros((5, )))\n",
    "print(np.zeros((5, 2)))\n",
    "print(np.zeros((2,3,4), dtype=np.int64))"
   ]
  },
  {
   "cell_type": "markdown",
   "metadata": {},
   "source": [
    "**全ての要素が1の配列**は，`np.ones`で作成することが出来ます．`np.zeros`と使い方は同様です．"
   ]
  },
  {
   "cell_type": "code",
   "execution_count": null,
   "metadata": {},
   "outputs": [],
   "source": [
    "print(np.ones((5, )))\n",
    "print(np.ones((5, 2)))\n",
    "print(np.ones((2,3,4), dtype=np.int64))"
   ]
  },
  {
   "cell_type": "markdown",
   "metadata": {},
   "source": [
    "**0から始まってm-1で終わるベクトル**は，`np.arange`で作成することが出来ます．"
   ]
  },
  {
   "cell_type": "code",
   "execution_count": null,
   "metadata": {},
   "outputs": [],
   "source": [
    "print(np.arange(4))"
   ]
  },
  {
   "cell_type": "markdown",
   "metadata": {},
   "source": [
    "**単位行列**は`np.eye`で作成することが出来ます．`np.eye(m)`は，(m, m)の単位行列を作成します．"
   ]
  },
  {
   "cell_type": "code",
   "execution_count": null,
   "metadata": {},
   "outputs": [],
   "source": [
    "print(np.eye(4))"
   ]
  },
  {
   "cell_type": "markdown",
   "metadata": {},
   "source": [
    "<a id='create_random_array'></a>\n",
    "\n",
    "\n",
    "## 2.5 ランダムな配列の生成"
   ]
  },
  {
   "cell_type": "markdown",
   "metadata": {},
   "source": [
    "`numpy`は疑似乱数を用いた様々な関数を提供しています．それらは`numpy.random`にまとめられていて，いくつか紹介します．\n",
    "詳しくは公式のリファレンス（https://numpy.org/doc/stable/reference/random/index.html ）を参照してください．本演習ではおそらく使いませんが，情報理工学実験「データサイエンス」でいくつか使います．\n",
    "- `rand`：区間 $[0, 1)$ から生成．引数で配列の形を指定する．\n",
    "- `randn`：標準正規分布から生成．引数で配列の形を指定する．"
   ]
  },
  {
   "cell_type": "code",
   "execution_count": null,
   "metadata": {},
   "outputs": [],
   "source": [
    "print(np.random.rand(2, 3)) # (2, 3)の配列で，各要素が区間 [0,1)\n",
    "print(np.random.rand(2, 3)) # (2, 3)の配列で，各要素が区間 [0,1)\n",
    "print(np.random.randn(2, 1)) # (2, 1)の配列で，各要素が標準正規分布にしたがう\n",
    "print(np.random.randn(2, 1)) # (2, 1)の配列で，各要素が標準正規分布にしたがう"
   ]
  },
  {
   "cell_type": "markdown",
   "metadata": {},
   "source": [
    "指定した形の配列が生成されています．そしてその結果が毎回変わっています．\n",
    "ときには乱数のseedを指定したいときもあると思います．このような場合，`seed`を使うことができます．\n",
    "以下に見るように，`seed`を設定した後であれば同じ結果が得られています．"
   ]
  },
  {
   "cell_type": "code",
   "execution_count": null,
   "metadata": {},
   "outputs": [],
   "source": [
    "# seedを1に指定\n",
    "print(\"Set seed=1.\")\n",
    "np.random.seed(1)\n",
    "print(np.random.rand(2, 3)) # (2, 3)の配列で，各要素が区間 [0,1)\n",
    "print(np.random.randn(2, 1)) # (2, 1)の配列で，各要素が標準正規分布にしたがう\n",
    "print(np.random.rand(2, 3)) # (2, 3)の配列で，各要素が区間 [0,1)\n",
    "print(np.random.randn(2, 1)) # (2, 1)の配列で，各要素が標準正規分布にしたがう\n",
    "# seedを再度1に指定\n",
    "print(\"Set seed=1.\")\n",
    "np.random.seed(1)\n",
    "print(np.random.rand(2, 3)) # (2, 3)の配列で，各要素が区間 [0,1)\n",
    "print(np.random.randn(2, 1)) # (2, 1)の配列で，各要素が標準正規分布にしたがう\n",
    "print(np.random.rand(2, 3)) # (2, 3)の配列で，各要素が区間 [0,1)\n",
    "print(np.random.randn(2, 1)) # (2, 1)の配列で，各要素が標準正規分布にしたがう"
   ]
  },
  {
   "cell_type": "markdown",
   "metadata": {},
   "source": [
    "<a id='load_and_save'></a>\n",
    "\n",
    "\n",
    "## 2.6 `np.ndarray`の書き込み・読み込み"
   ]
  },
  {
   "cell_type": "markdown",
   "metadata": {},
   "source": [
    "`np.ndarray`の書き込み・読み込みは簡単に出来ます．方法はいくつかありますが，テキストとして書き込む方法，テキストを読み込む方法を紹介します．"
   ]
  },
  {
   "cell_type": "markdown",
   "metadata": {},
   "source": [
    "テキストとして書き込むには，`np.savetxt`を用います．保存する際のファイル名・保存する配列を引数として与えます．"
   ]
  },
  {
   "cell_type": "code",
   "execution_count": null,
   "metadata": {},
   "outputs": [],
   "source": [
    "np.savetxt('numpy_tutorial_Y.txt', Y)"
   ]
  },
  {
   "cell_type": "markdown",
   "metadata": {},
   "source": [
    "numpy_tutorial_Y.txtというファイル名で保存されたはずです．ファイルの中身を見てみましょう．配列`Y`が保存されているはずです．"
   ]
  },
  {
   "cell_type": "markdown",
   "metadata": {},
   "source": [
    "テキストで保存された配列を読み込むには，`np.loadtxt`を用います．読み込むファイル名を引数として与えます．"
   ]
  },
  {
   "cell_type": "code",
   "execution_count": null,
   "metadata": {},
   "outputs": [],
   "source": [
    "print(Y)\n",
    "print(np.loadtxt(\"numpy_tutorial_Y.txt\")) # 同じ配列"
   ]
  },
  {
   "cell_type": "markdown",
   "metadata": {},
   "source": [
    "<a id='speed_test'></a>\n",
    "\n",
    "\n",
    "## 2.7 Python標準機能と速度比較"
   ]
  },
  {
   "cell_type": "markdown",
   "metadata": {},
   "source": [
    "これまでの紹介で，`np.ndarray`は便利な関数を多数持っていることが分かりました．しかし本当に速いのでしょうか？ベクトルの和の演算を題材に，速度比較をしてみましょう．\n",
    "まず要素数1万のランダムな`np.ndarray`のベクトルを生成します．次に，それのリストヴァージョンを生成します．そして，\n",
    "1. `np.ndarray`に`np.sum`関数\n",
    "2. `np.ndarray`に`sum_naive`関数(`for`ループで愚直に計算)\n",
    "3. `np.ndarray`にPython標準の`sum`関数\n",
    "4. `list`に`np.sum`関数\n",
    "5. `list`に`sum_naive`関数(`for`ループで愚直に計算)\n",
    "6. `list`にPython標準の`sum`関数\n",
    "\n",
    "の3×2，計6つを比較してみます．"
   ]
  },
  {
   "cell_type": "code",
   "execution_count": null,
   "metadata": {},
   "outputs": [],
   "source": [
    "# forで和を計算する関数\n",
    "def sum_naive(x):\n",
    "    res = 0\n",
    "    for val in x:\n",
    "        res += val\n",
    "    return res\n",
    "\n",
    "a = np.random.rand(10000) # 各要素が0から1の，要素数10000のベクトルを生成 np.randomはランダムな配列を作成したりするのに用いるクラス\n",
    "a_list  = list(a) # リストに変換\n",
    "# %timeit 処理　で処理の時間を計測\n",
    "%timeit np.sum(a)\n",
    "%timeit sum_naive(a)\n",
    "%timeit sum(a)\n",
    "%timeit np.sum(a_list)\n",
    "%timeit sum_naive(a_list)\n",
    "%timeit sum(a_list)"
   ]
  },
  {
   "cell_type": "markdown",
   "metadata": {},
   "source": [
    "一番上の`np.ndarray`に`np.sum`を用いた場合が**圧倒的に速い**ことが分かります（同時に，`for`で愚直に行う場合は標準の`list`の方が速いということも分かりました）．したがって，`np.ndarray`に何か処理を行いたい場合，**その処理に対応する関数があるか否かをまず調べることを推奨します**．\n",
    "\n",
    "NumPyにはこれ以外にも多数の便利な関数・機能があります．使いつつ，調べつつ，身に着けていきましょう．"
   ]
  },
  {
   "cell_type": "markdown",
   "metadata": {},
   "source": [
    "<a id='summary'></a>\n",
    "\n",
    "\n",
    "## 2.8 まとめ\n",
    "- NumPyはPythonの数値計算のためのライブラリです．`ndarray`は多次元配列のためのクラスです．\n",
    "- 配列の基本情報には以下のようなものがあります：\n",
    "    - 配列の形：`配列.shape`\n",
    "    - 配列の次元：`配列.ndim`\n",
    "    - 配列の各要素の型：`配列.dtype`\n",
    "    - 配列の要素数：`配列.size`\n",
    "- 紹介した演算の中から抜粋しただけでも，\n",
    "    - 定数和：`+`\n",
    "    - 定数倍：`*`\n",
    "    - 複数の配列の要素ごとの和：`+`\n",
    "    - 複数の配列の要素ごとの積：`*`\n",
    "    - ベクトルの連結：`np.append`\n",
    "    - 行列の連結：`np.concatenate`\n",
    "    - 転置：`np.transpose` or `配列.T`\n",
    "    - 次元の指定：`axis`\n",
    "    - 要素の和：`np.sum`\n",
    "    - 要素ごとの指数/対数：`np.exp`/`np.log`\n",
    "    - 要素ごとの三角関数：`np.cos`/`np.sin`/`np.tan`\n",
    "  といった様々な演算がサポートされています．演算の方向を指定するのに`axis`引数を用います．\n",
    "- いくつかの特殊な形の行列は直接作成することができます．\n",
    "    - ゼロ行列：`np.zeros`\n",
    "    - all-ones行列：`np.ones`\n",
    "    - 整数の等差数列のベクトル：`np.arange`\n",
    "    - 単位行列：`np.eye`\n",
    "- 行列演算を行う際`for`ループを回しがちですが，NumPyの標準の関数を使うほうが圧倒的に速いです．できるだけそちらを使いましょう．"
   ]
  },
  {
   "cell_type": "markdown",
   "metadata": {},
   "source": [
    "<a id='pointer'></a>\n",
    "\n",
    "\n",
    "## 付録：NumPyに関するリンク\n",
    "NumPy公式：https://numpy.org/\n",
    "- 公式チュートリアル：https://numpy.org/devdocs/user/quickstart.html\n",
    "\n",
    "- 基本操作についてのドキュメント：https://numpy.org/devdocs/user/basics.html\n",
    "\n",
    "- 線形代数のサブパッケージ（**おそらく実験で使います**）：https://numpy.org/devdocs/reference/routines.linalg.html\n",
    "\n",
    "産総研の神嶌 敏弘さんによる機械学習+Pythonのチュートリアル：http://www.kamishima.net/mlmpyja/\n",
    "- 特にNumPyについて： http://www.kamishima.net/mlmpyja/nbayes1/ndarray.html\n"
   ]
  },
  {
   "cell_type": "code",
   "execution_count": null,
   "metadata": {},
   "outputs": [],
   "source": []
  }
 ],
 "metadata": {
  "interpreter": {
   "hash": "916dbcbb3f70747c44a77c7bcd40155683ae19c65e1c03b4aa3499c5328201f1"
  },
  "kernelspec": {
   "display_name": "Python 3.8.10 64-bit",
   "language": "python",
   "name": "python3"
  },
  "language_info": {
   "codemirror_mode": {
    "name": "ipython",
    "version": 3
   },
   "file_extension": ".py",
   "mimetype": "text/x-python",
   "name": "python",
   "nbconvert_exporter": "python",
   "pygments_lexer": "ipython3",
   "version": "3.8.10"
  }
 },
 "nbformat": 4,
 "nbformat_minor": 4
}
