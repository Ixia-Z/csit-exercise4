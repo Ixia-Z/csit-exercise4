{
 "cells": [
  {
   "cell_type": "markdown",
   "metadata": {},
   "source": [
    "# 2.　NumPy入門"
   ]
  },
  {
   "cell_type": "markdown",
   "metadata": {},
   "source": [
    "## 目次（リンクをクリックすると対応する箇所まで飛べます）\n",
    "- [2.1 はじめに：NumPyとは](#what_is_numpy)\n",
    "     - [2.1.1 NumPyのインポート](#import_numpy)\n",
    "- [2.2 `np.ndarray`オブジェクトの作成・基本演算](#basic_operation)\n",
    "     - [2.2.1 オブジェクト(=NumPy配列)の作成](#create_object)\n",
    "     - [2.2.2 要素へのアクセス・代入](#access)\n",
    "     - [2.2.3 基本情報の取得](#attribute)\n",
    "     - [2.2.4 基本演算・基本操作](#basic_operation_sub)\n",
    "- [2.3 `np.ndarray`の様々な演算](#various_function)\n",
    "- [2.4 `np.ndarray`を用いた`np.ndarray`オブジェクトの作成](#create_array_by_numpy)\n",
    "- [2.5 ランダムな配列の生成](#create_random_array)\n",
    "- [2.6 `np.ndarray`の書き込み・読み込み](#load_and_save)\n",
    "- [2.7 Python標準機能と速度比較](#speed_test)\n",
    "- [2.8 まとめ](#summary)\n",
    "- [付録：NumPyに関するリンク](#pointer)\n"
   ]
  },
  {
   "cell_type": "markdown",
   "metadata": {},
   "source": [
    "<a id='what_is_numpy'></a>\n",
    "\n",
    "## 2.1 はじめに：NumPyとは"
   ]
  },
  {
   "cell_type": "markdown",
   "metadata": {},
   "source": [
    "**NumPy（ナムパイorヌムパイ）はPythonにおける数値計算のためのライブラリ**です（公式ページ https://docs.scipy.org/doc/  ）．機械学習のプログラムを書くために，より広義には，科学技術計算・数値計算のためにPythonを使う理由として，NumPyの存在が大きなウェイトを占めています．\n",
    "\n",
    "**なぜNumPyが重要なのか？**\n",
    "- データ分析を行う際には様々な演算・関数が要求されます．それらを毎回実装するのは非常に大変です．NumPy（及び後述のSciPy）は，**数値計算において頻出する多くの演算の関数を提供**しています．\n",
    "- Pythonはプログラムを柔軟に・簡単に書くことが出来ますが，C言語といった静的型付けと比べると多大な計算時間を要してしまいます．これは，Pythonは動的型付け言語であるため諸々の演算を行う際に逐一型のチェックを行う必要があるという点が大きく影響しています（静的な型付け言語では，事前に型が決まっているため，実行時に型のチェックを行う必要はありません）．\n",
    "NumPy（及び後述のSciPy）は，内部ではC言語やFotranで書かれたプログラムが実行されているため，**非常に高速に動作**します．\n",
    "\n",
    "**機械学習において(本演習において)NumPy・SciPyはどのように使われているのか？**\n",
    "1. 講義**「データサイエンス」**の内容を思い出してみましょう．データは**ベクトル**で表現され，データの集まりは**行列**で表現されます．したがって，**ベクトル・行列演算**を多数用いるだろうことは容易に想像できます (例：行列の和，定数倍，積，内積，固有値固有ベクトル計算，逆行列計算，etc)．NumPyによって行列演算を簡単に高速に行うことが可能になります．次回以降用いる機械学習のPythonライブラリscikit-learnでは，データの表現としてNumPyを用いることが前提となっています．\n",
    "\n",
    "2. 要素の多くがゼロ（このことをスパースと表現します）の行列は，ゼロでない要素の位置と値のみを記憶しておくことでメモリ効率よく行列を保持することができます．スパースな行列を扱うことは応用上よくあります（例：文書データ．単語の出現頻度を用いてベクトル表現すると，全部の文書に出現する単語の種類は膨大なためスパースになる）．スパースな行列をメモリ効率よく表現するためのデータ構造として，**スパースマトリクス**というものがあり，これはSciPyで提供されています．\n",
    "\n",
    "\n",
    "**このNotebook（+ day1_3_how_to_sparse_matrix.ipynb）で何が学べるのか?**\n",
    "- NumPyの提供する多次元配列クラス `numpy.ndarray`の基本的な使い方\n",
    "- SciPyの提供するスパースな（0が多い）行列を効率良く扱うためのクラス`scipy.sparse`の基本的な使い方 （3. SciPyのスパースマトリクス入門）\n",
    "\n",
    "より詳しく学びたい方は，公式のチュートリアルをご覧ください（https://docs.scipy.org/doc/numpy/user/quickstart.html ）．\n",
    "\n",
    "関数の使い方などでわからない箇所があれば，随時公式のリファレンス（https://docs.scipy.org/doc/numpy/reference/index.html ）を参照することをおすすめします．英語が苦手であれば，非公式の日本語の記事がウェブ上に沢山ありますので，それらを参考にするのもよいでしょう．また，Jupyter Notebookの強みの一つは，その場ですぐに試すことが出来るという点です．**適当にセルを作成して試しに動かしてみて挙動を確認するというのも，理解に大きく繋がるためオススメです．**\n",
    "\n",
    "このノートブックの内容を**完璧に覚える必要は全くありません**．次回以降，実際に機械学習を含んだデータ解析を行う際に適宜参照しながら，最低限の使い方を覚えれば良いです（NumPyの雰囲気を掴むだけでも問題ありません）．"
   ]
  },
  {
   "cell_type": "markdown",
   "metadata": {},
   "source": [
    "## 2.1.1 NumPyのインポート\n"
   ]
  },
  {
   "cell_type": "markdown",
   "metadata": {},
   "source": [
    "Pythonでは，外部のライブラリ（モジュール）を使えるようにするために，`import`文を用いるのでした．NumPyを使う場合は次のようになります．"
   ]
  },
  {
   "cell_type": "code",
   "execution_count": 1,
   "metadata": {},
   "outputs": [],
   "source": [
    "import numpy # NumPyがインストールされていれば使えるようになる"
   ]
  },
  {
   "cell_type": "markdown",
   "metadata": {},
   "source": [
    "これ以降，NumPyが使えるようになりました．実際に軽く動かしてみます（後ほど詳しく説明するので，今は使えているんだな，程度の理解で構いません）．"
   ]
  },
  {
   "cell_type": "code",
   "execution_count": 2,
   "metadata": {},
   "outputs": [
    {
     "data": {
      "text/plain": [
       "8.5"
      ]
     },
     "execution_count": 2,
     "metadata": {},
     "output_type": "execute_result"
    }
   ],
   "source": [
    "x_list = [3, 4, 1.5] # 要素数3のベクトルを定義 \n",
    "x = numpy.array(x_list)  # Python標準のlistオブジェクトだったx_listから，numpyのarray(=ndarray)オブジェクトを作成\n",
    "numpy.sum(x) # numpy.sum:行列・ベクトルの要素の和を表す"
   ]
  },
  {
   "cell_type": "markdown",
   "metadata": {},
   "source": [
    "\\$ \\mathbf{x} = (3, 4, 1.5)\\$というベクトルの各要素の和が計算できました．もちろん，リストのままでもこの程度のことは計算できますが，`numpy`を用いることで簡単に・高速に計算が出来ます．\n",
    "\n",
    "これ以降，我々は`numpy.hogehoge`という形で様々なことができるようになります．Pythonには`as`という機能があります（day1_how_to_python.ipynb参照）．これは，オブジェクトやモジュール・ライブラリに別の名前を付ける機能です．`numpy`については，次のように`np`という別名を付ける慣例があります．これについては賛否両論ありますが，本Notebookではこの慣例にしたがうことにします．"
   ]
  },
  {
   "cell_type": "code",
   "execution_count": 3,
   "metadata": {},
   "outputs": [
    {
     "data": {
      "text/plain": [
       "8.5"
      ]
     },
     "execution_count": 3,
     "metadata": {},
     "output_type": "execute_result"
    }
   ],
   "source": [
    "import numpy as np # numpyがこれ以降npという名前になった\n",
    "x = np.array(x_list)  # Python標準のlistオブジェクトだったxから，numpyのarray(=ndarray)オブジェクトを作成\n",
    "np.sum(x) # numpy.sum:行列・ベクトルの要素の和を表す"
   ]
  },
  {
   "cell_type": "markdown",
   "metadata": {},
   "source": [
    "<a id='basic_operation'></a>\n",
    "\n",
    "## 2.2 `np.ndarray`のオブジェクトの作成・基本演算"
   ]
  },
  {
   "cell_type": "markdown",
   "metadata": {},
   "source": [
    "`np.ndarray`は**n次元（多次元）配列を扱うためのクラス**です．Pythonのリストを多重に用いることで多次元配列を扱うことも可能ですが，`np.ndarray`を用いることで様々な便利な関数を利用できます．"
   ]
  },
  {
   "cell_type": "markdown",
   "metadata": {},
   "source": [
    "<a id='create_object'></a>\n",
    "\n",
    "## 2.2.1 オブジェクト（=NumPy配列）の作成\n",
    "NumPyの配列，すなわち`np.ndarray`のオブジェクトの最も基本的な作成方法は，まずPythonの標準のリストやタプルといったarray-likeなオブジェクトを作成し，次に`np.ndarray`を被せるという方法です．以下のようになります．オブジェクトを作成する際に，`dtype`という引数を指定することで，配列の各要素の型（`int`や`float`等）を指定することができます．以下のコードからわかりますが，\"nd\"を省略した`np.array`によっても作成ができます（本Notebookでは，\"nd\"を省略した`np.array`を用いることにします）．\n",
    "\n",
    "なお，分かりやすさのために，本演習のNotebookではベクトル（1次元配列）の変数名には小文字を，行列（2次元配列）やより高次元の配列の変数名には大文字を使います．"
   ]
  },
  {
   "cell_type": "code",
   "execution_count": 4,
   "metadata": {},
   "outputs": [
    {
     "name": "stdout",
     "output_type": "stream",
     "text": [
      "[3.  4.  1.5]\n",
      "[[  4.    1.5   2. ]\n",
      " [  0.   -9.  100. ]]\n",
      "[1 2]\n",
      "[[[  4   1   2]\n",
      "  [  0  -9 100]]\n",
      "\n",
      " [[  4   1   2]\n",
      "  [  0  -9 100]]\n",
      "\n",
      " [[  4   1   2]\n",
      "  [  0  -9 100]]]\n",
      "<class 'numpy.ndarray'>\n"
     ]
    }
   ],
   "source": [
    "x = np.array([3, 4, 1.5]) # numpy配列\n",
    "Y_list = [[4, 1.5, 2], [0, -9, 100]] # まだリスト\n",
    "Y = np.array(Y_list) # np.arrayに被せることでnumpy配列に\n",
    "z_tuple = (1, 2) # タプルでも良い\n",
    "z = np.array(z_tuple)\n",
    "W_list = [ [[4, 1.5, 2], [0, -9, 100]],  [[4, 1.5, 2], [0, -9, 100]],  [[4, 1.5, 2], [0, -9, 100]]]\n",
    "W = np.array(W_list, dtype='int') # int型 np.int64という指定でも良い\n",
    "print(x)\n",
    "print(Y)\n",
    "print(z)\n",
    "print(W)\n",
    "print(type(x))"
   ]
  },
  {
   "cell_type": "markdown",
   "metadata": {},
   "source": [
    "次元数が2より大きい時は，各次元毎に要素数が等しくなければなりません．n=2の時を例にすると，各行の長さ・各列の長さは等しくなければなりません．各次元数で等しくない場合でも一応オブジェクトは作成されますが，期待通りの動作にはなりません．"
   ]
  },
  {
   "cell_type": "code",
   "execution_count": 5,
   "metadata": {},
   "outputs": [
    {
     "name": "stdout",
     "output_type": "stream",
     "text": [
      "[[4, 1.5, 2], [0, -9]]\n",
      "[list([4, 1.5, 2]) list([0, -9])]\n",
      "[4, 1.5, 2, 0, -9]\n"
     ]
    }
   ],
   "source": [
    "a_list = [[4, 1.5, 2], [0, -9]] # 1行目の要素の数と2行目の要素の数が違う\n",
    "print(a_list)\n",
    "a = np.array(a_list) # エラーはでないが意味のあるオブジェクトになっていない\n",
    "print(a) # 行列と言える状態になっていない\n",
    "print(np.sum(a)) # 上手く働かない (listとlistの和を計算=listを連結)"
   ]
  },
  {
   "cell_type": "markdown",
   "metadata": {},
   "source": [
    "<a id='access'></a>\n",
    "\n",
    "# 2.2.2 要素へのアクセス・代入"
   ]
  },
  {
   "cell_type": "markdown",
   "metadata": {},
   "source": [
    "Pythonのリストとほぼ同様にアクセスが出来ますが，`np.array`の場合`list`よりも直感にあう書き方が許されています．"
   ]
  },
  {
   "cell_type": "code",
   "execution_count": 6,
   "metadata": {},
   "outputs": [
    {
     "name": "stdout",
     "output_type": "stream",
     "text": [
      "[3.  4.  1.5]\n",
      "1番目の要素にアクセス\n",
      "4 4.0\n",
      "\n",
      "[[  4.    1.5   2. ]\n",
      " [  0.   -9.  100. ]]\n",
      "0行目の行ベクトルを表示\n",
      "[4, 1.5, 2] [4.  1.5 2. ]\n",
      "0行目の行ベクトルの2番目の要素を表示\n",
      "2 2.0 2.0\n"
     ]
    }
   ],
   "source": [
    "print(x)\n",
    "print(\"1番目の要素にアクセス\")\n",
    "print(x_list[1], x[1]) \n",
    "print()\n",
    "print(Y)\n",
    "print(\"0行目の行ベクトルを表示\")\n",
    "print(Y_list[0], Y[0]) # 最初の行にアクセス\n",
    "print(\"0行目の行ベクトルの2番目の要素を表示\")\n",
    "print(Y_list[0][2], Y[0][2], Y[0, 2]) # np.ndarrayでは，最後のような書き方も許される"
   ]
  },
  {
   "cell_type": "markdown",
   "metadata": {},
   "source": [
    "配列を`for`で走査すると最初の次元に関して順に取り出されます．例えば行列の場合，行ベクトルが順に取り出されます．"
   ]
  },
  {
   "cell_type": "code",
   "execution_count": 7,
   "metadata": {},
   "outputs": [
    {
     "name": "stdout",
     "output_type": "stream",
     "text": [
      "[3.  4.  1.5]\n",
      "forで順番に取り出す\n",
      "3.0\n",
      "4.0\n",
      "1.5\n",
      "\n",
      "[[  4.    1.5   2. ]\n",
      " [  0.   -9.  100. ]]\n",
      "forで順番に取り出す\n",
      "[4.  1.5 2. ]\n",
      "[  0.  -9. 100.]\n"
     ]
    }
   ],
   "source": [
    "print(x)\n",
    "print(\"forで順番に取り出す\")\n",
    "for xi in x:\n",
    "    print(xi)\n",
    "# 上のプログラムは次のようにも書ける\n",
    "# 上の方がPythonらしい書き方\n",
    "\"\"\"\n",
    "for i in range(x.shape[0]):\n",
    "    print(x[i])\n",
    "\"\"\"\n",
    "print()\n",
    "print(Y)\n",
    "print(\"forで順番に取り出す\")\n",
    "for yi in Y:\n",
    "    print(yi)\n"
   ]
  },
  {
   "cell_type": "markdown",
   "metadata": {},
   "source": [
    "`list`と同様にスライスのようなリッチなアクセス方法もサポートされています．これらは後述する演算と組み合わせて用いることも多いです．\n",
    "\n",
    "2つ前のセルの最後の結果のような， `Y[i, j]`とすることで`i`行`j`列目の要素にアクセスする方法は，列方向の操作に便利です．次のセルの最後・最後から一つ前のアクセス方法は，一見同じ結果を返しそうな気がしますが，異なる結果となっています．\n",
    "\n",
    "次のセルの最後から一つ前のアクセス方法では，まず最初のコロン`:`によって全ての行にアクセスすることが指定され，その次に列のインデックス`1`が指定されています．この二つの指定が一つの`[]`の中に入っており，**（ある意味）同時に解釈**されるため，全ての行の1番目の要素，つまり**1列目の列ベクトル**が得られています．\n",
    "\n",
    "一方，最後のアクセス方法では行列の**2行目の行ベクトル**が得られています．`[:]`によるスライスと，`[1]`による要素を指定したアクセスが別々に解釈されたためです:\n",
    "`Y_list[:]・Y[:]`でまず`Y_list・Y`と同一の(2, 3)の2次元配列が返され，その後`[1]`によってその1番目の要素にアクセスし，1行目の行ベクトルが返されています．"
   ]
  },
  {
   "cell_type": "code",
   "execution_count": 8,
   "metadata": {},
   "outputs": [
    {
     "name": "stdout",
     "output_type": "stream",
     "text": [
      "[3.  4.  1.5]\n",
      "2番目の手前（＝1番目）までの要素にアクセス\n",
      "[3, 4] [3. 4.]\n",
      "\n",
      "[[  4.    1.5   2. ]\n",
      " [  0.   -9.  100. ]]\n",
      "0行目の行ベクトルの-1=末尾の一つ手前までアクセス\n",
      "[4, 1.5] [4.  1.5] [4.  1.5]\n",
      "末尾の行ベクトルにアクセス\n",
      "[0, -9, 100] [  0.  -9. 100.]\n",
      "全ての行の1番目の列=1番目の列ベクトルにアクセス\n",
      "[ 1.5 -9. ]\n",
      "1番目の列ベクトルにアクセス…とはならない\n",
      "[0, -9, 100] [  0.  -9. 100.]\n"
     ]
    }
   ],
   "source": [
    "print(x)\n",
    "print(\"2番目の手前（＝1番目）までの要素にアクセス\")\n",
    "print(x_list[:2], x[:2])\n",
    "print()\n",
    "print(Y)\n",
    "print(\"0行目の行ベクトルの-1=末尾の一つ手前までアクセス\")\n",
    "print(Y_list[0][0:-1], Y[0, 0:-1], Y[0, :-1]) # 0行目の，0列目から末尾から一つ前の列までを取り出す\n",
    "print(\"末尾の行ベクトルにアクセス\")\n",
    "print(Y_list[-1], Y[-1]) # 末尾の行にアクセス\n",
    "print(\"全ての行の1番目の列=1番目の列ベクトルにアクセス\")\n",
    "print(Y[:, 1]) # ：で全ての行にアクセス，1で1番目の列にアクセス，すなわち1番目の列ベクトルにアクセス)\n",
    "print(\"1番目の列ベクトルにアクセス…とはならない\")\n",
    "print(Y_list[:][1], Y[:][1]) # 1番目の列ベクトルにアクセスとはならない"
   ]
  },
  {
   "cell_type": "markdown",
   "metadata": {},
   "source": [
    "また，**アクセスしたいインデックスをリストや配列の形で渡すことで，複数の特定の要素に同時にアクセス**が出来ます．"
   ]
  },
  {
   "cell_type": "code",
   "execution_count": 9,
   "metadata": {},
   "outputs": [
    {
     "name": "stdout",
     "output_type": "stream",
     "text": [
      "[3.  4.  1.5]\n",
      "0番目と2番目の要素にアクセス\n",
      "[3.  1.5]\n",
      "\n",
      "[[  4.    1.5   2. ]\n",
      " [  0.   -9.  100. ]]\n",
      "1行目の行ベクトルの1番目と2番目の要素にアクセス\n",
      "[ -9. 100.]\n",
      "すべての行ベクトルの0番目と2番目の要素にアクセス\n",
      "[[  4.   2.]\n",
      " [  0. 100.]]\n"
     ]
    }
   ],
   "source": [
    "print(x)\n",
    "print(\"0番目と2番目の要素にアクセス\")\n",
    "print(x[[0, 2]]) # 0番目，2番目の要素にアクセス\n",
    "print()\n",
    "print(Y)\n",
    "print(\"1行目の行ベクトルの1番目と2番目の要素にアクセス\")\n",
    "print(Y[1, [1, 2]]) # 1行目のベクトルの，1列目の値と2列目の値にアクセス\n",
    "print(\"すべての行ベクトルの0番目と2番目の要素にアクセス\")\n",
    "print(Y[:, [0, 2]]) # すべての行の0行目の要素と2列目の要素にアクセス"
   ]
  },
  {
   "cell_type": "markdown",
   "metadata": {},
   "source": [
    "インデックスをリストで渡す際に，**真偽値のリスト・配列を渡すことで，`True`になっている要素にのみアクセス**ができます．"
   ]
  },
  {
   "cell_type": "code",
   "execution_count": 10,
   "metadata": {},
   "outputs": [
    {
     "name": "stdout",
     "output_type": "stream",
     "text": [
      "[3.  4.  1.5]\n",
      "[3.  1.5]\n",
      "\n",
      "[[  4.    1.5   2. ]\n",
      " [  0.   -9.  100. ]]\n",
      "[[  1.5   2. ]\n",
      " [ -9.  100. ]]\n"
     ]
    }
   ],
   "source": [
    "print(x)\n",
    "print(x[[True, False, True]])\n",
    "print()\n",
    "print(Y)\n",
    "print(Y[:, [False, True, True]])"
   ]
  },
  {
   "cell_type": "markdown",
   "metadata": {},
   "source": [
    "代入式の左辺に上述の要素へのアクセスを，右辺に値を入れることで，`np.ndarray`オブジェクトへの**代入・変更**が出来ます．"
   ]
  },
  {
   "cell_type": "code",
   "execution_count": 11,
   "metadata": {},
   "outputs": [
    {
     "name": "stdout",
     "output_type": "stream",
     "text": [
      "要素の変更\n",
      "[3.  4.  1.5]\n",
      "[3.0e+00 1.0e+05 1.5e+00]\n",
      "[3.  4.  1.5]\n",
      "要素の定数倍 (定数和も同様)\n",
      "[[  4.    1.5   2. ]\n",
      " [  0.   -9.  100. ]]\n",
      "[[  4.    1.5   2. ]\n",
      " [  0.  -45.  100. ]]\n",
      "[[  4.    1.5   2. ]\n",
      " [  0.   -9.  100. ]]\n",
      "行の変更\n",
      "[[  3.    4.    1.5]\n",
      " [  0.   -9.  100. ]]\n",
      "[[  0.   0.   0.]\n",
      " [  0.  -9. 100.]]\n",
      "[[  4.    1.5   2. ]\n",
      " [  0.   -9.  100. ]]\n"
     ]
    }
   ],
   "source": [
    "print(\"要素の変更\")\n",
    "print(x)\n",
    "x[1] = 100000 # 前から2番目の値を100000に\n",
    "print(x)\n",
    "x[1] = 4\n",
    "print(x)\n",
    "\n",
    "print(\"要素の定数倍 (定数和も同様)\")\n",
    "print(Y)\n",
    "Y[1, 1] *= 5 # 1行1列目の値を5倍\n",
    "print(Y)\n",
    "Y[1, 1] /= 5 # 元に戻す\n",
    "print(Y)\n",
    "\n",
    "print(\"行の変更\")\n",
    "Y[0] = x # 0行目の行ベクトルを変更\n",
    "print(Y)\n",
    "Y[0] = 0 # 0行目のベクトルの要素の値をすべて0に変更\n",
    "print(Y)\n",
    "Y[0] = np.array([4, 1.5, 2.]) # 元に戻す\n",
    "print(Y)"
   ]
  },
  {
   "cell_type": "markdown",
   "metadata": {},
   "source": [
    "<a id='attribute'></a>\n",
    "\n",
    "# 2.2.3 基本情報の取得"
   ]
  },
  {
   "cell_type": "markdown",
   "metadata": {},
   "source": [
    "2.2.3では，配列の形・配列の次元・配列の各要素の型・配列の要素の数と言った**配列の基本情報の取得方法**を紹介します．\n",
    "\n",
    "\n",
    "ある`np.ndarray`が与えられた時に，その**配列の形**（行の数と列の数）を知りたいことは多いです．例えば，データの集まりは行列で表現されるので，配列の形の取得はデータの数や次元数（特徴の数）を取得することに対応します．`np.ndarray`オブジェクトは，`shape`という属性を持っており，これは配列の形をタプルで表現したものです．"
   ]
  },
  {
   "cell_type": "code",
   "execution_count": 12,
   "metadata": {},
   "outputs": [
    {
     "name": "stdout",
     "output_type": "stream",
     "text": [
      "(3,)\n",
      "(2, 3)\n",
      "(2,)\n",
      "(3, 2, 3)\n"
     ]
    }
   ],
   "source": [
    "print(x.shape)\n",
    "print(Y.shape)\n",
    "print(z.shape)\n",
    "print(W.shape)"
   ]
  },
  {
   "cell_type": "markdown",
   "metadata": {},
   "source": [
    "また，より基本的な情報として**配列の次元**を表す`ndim`という属性を持っています．これは`shape`の`len`と同じです．"
   ]
  },
  {
   "cell_type": "code",
   "execution_count": 13,
   "metadata": {},
   "outputs": [
    {
     "name": "stdout",
     "output_type": "stream",
     "text": [
      "1\n",
      "2\n",
      "3\n"
     ]
    }
   ],
   "source": [
    "print(x.ndim) # ベクトルなので1次元配列\n",
    "print(Y.ndim) # 行列なので2次元配列\n",
    "print(W.ndim)"
   ]
  },
  {
   "cell_type": "markdown",
   "metadata": {},
   "source": [
    "`dtype`は**配列の各要素の型**（`int`なのか？`float`なのか？等）を表す属性です．"
   ]
  },
  {
   "cell_type": "code",
   "execution_count": 14,
   "metadata": {},
   "outputs": [
    {
     "name": "stdout",
     "output_type": "stream",
     "text": [
      "float64\n",
      "float64\n",
      "int64\n"
     ]
    }
   ],
   "source": [
    "print(x.dtype)\n",
    "print(Y.dtype)\n",
    "print(W.dtype)"
   ]
  },
  {
   "cell_type": "markdown",
   "metadata": {},
   "source": [
    "`np.array`に`len`を用いると，最初の次元の長さ，すなわち`shape`で得られるタプルの一つ目の要素が得られます．"
   ]
  },
  {
   "cell_type": "code",
   "execution_count": 15,
   "metadata": {},
   "outputs": [
    {
     "name": "stdout",
     "output_type": "stream",
     "text": [
      "3 3\n",
      "2 2\n"
     ]
    }
   ],
   "source": [
    "print(len(x), x.shape[0])\n",
    "print(len(Y), Y.shape[0])"
   ]
  },
  {
   "cell_type": "markdown",
   "metadata": {},
   "source": [
    "`size`は**配列の要素数**を表す属性です．すなわち，`shape`の全ての要素を掛けたものです．"
   ]
  },
  {
   "cell_type": "code",
   "execution_count": 16,
   "metadata": {},
   "outputs": [
    {
     "name": "stdout",
     "output_type": "stream",
     "text": [
      "(2, 3)\n",
      "6\n"
     ]
    }
   ],
   "source": [
    "print(Y.shape)\n",
    "print(Y.size)"
   ]
  },
  {
   "cell_type": "markdown",
   "metadata": {},
   "source": [
    "<a id='basic_operation_sub'></a>\n",
    "\n",
    "## 2.2.4 基本演算・基本操作"
   ]
  },
  {
   "cell_type": "markdown",
   "metadata": {},
   "source": [
    "2.2.4の前半では，**配列の定数倍・定数和**，**要素ごとの和・要素ごとの積**，および**前述のスライスとの組合せ**について紹介します．次に，**配列の転置，配列の連結**に関して紹介します．"
   ]
  },
  {
   "cell_type": "markdown",
   "metadata": {},
   "source": [
    "**行列・ベクトルの定数倍・定数和**は，通常のスカラーの場合と同じように書くことが出来ます（差と商も同様です）．"
   ]
  },
  {
   "cell_type": "code",
   "execution_count": 17,
   "metadata": {},
   "outputs": [
    {
     "name": "stdout",
     "output_type": "stream",
     "text": [
      "[3.  4.  1.5]\n",
      "全ての要素に3を足す\n",
      "[6.  7.  4.5]\n",
      "全ての要素に2を掛ける\n",
      "[6. 8. 3.]\n",
      "[[  4.    1.5   2. ]\n",
      " [  0.   -9.  100. ]]\n",
      "全ての要素に-1を足す\n",
      "[[  3.    0.5   1. ]\n",
      " [ -1.  -10.   99. ]]\n",
      "全ての要素に-2を掛ける\n",
      "[[  -8.   -3.   -4.]\n",
      " [  -0.   18. -200.]]\n"
     ]
    }
   ],
   "source": [
    "print(x)\n",
    "print(\"全ての要素に3を足す\")\n",
    "print(x+3) # 全ての要素に3を足す\n",
    "print(\"全ての要素に2を掛ける\")\n",
    "print(x*2) # 全ての要素を2倍する\n",
    "print(Y)\n",
    "print(\"全ての要素に-1を足す\")\n",
    "print(Y-1) # 全ての要素に-1を足す\n",
    "print(\"全ての要素に-2を掛ける\")\n",
    "print(-2*Y) # 全ての要素を-2倍する"
   ]
  },
  {
   "cell_type": "markdown",
   "metadata": {},
   "source": [
    "これらの結果は全て新しい`np.ndarray`オブジェクトを返しています．したがって，代入式を書くことで新たなオブジェクトを作ることができます．"
   ]
  },
  {
   "cell_type": "code",
   "execution_count": 18,
   "metadata": {},
   "outputs": [
    {
     "name": "stdout",
     "output_type": "stream",
     "text": [
      "[6.  7.  4.5]\n"
     ]
    }
   ],
   "source": [
    "x_plus_3 = x+3\n",
    "print(x_plus_3)"
   ]
  },
  {
   "cell_type": "markdown",
   "metadata": {},
   "source": [
    "**ベクトルや行列の和・要素ごとの積（element-wise product or Hadamard product）**は，二つのベクトル・行列に対してを`+ *`を作用させることで計算できます．差と商は同様に`- /`で計算ができます．"
   ]
  },
  {
   "cell_type": "code",
   "execution_count": 19,
   "metadata": {},
   "outputs": [
    {
     "name": "stdout",
     "output_type": "stream",
     "text": [
      "[3.  4.  1.5]\n",
      "[1 2 3]\n",
      "xとaの要素ごとの和\n",
      "[4.  6.  4.5]\n",
      "xとaの要素ごとの差\n",
      "[ 2.   2.  -1.5]\n",
      "xとaの要素ごとの積\n",
      "[3.  8.  4.5]\n",
      "xとaの要素ごとの商\n",
      "[3.  2.  0.5]\n"
     ]
    }
   ],
   "source": [
    "a = np.array([1,2,3])\n",
    "print(x)\n",
    "print(a)\n",
    "\n",
    "print(\"xとaの要素ごとの和\")\n",
    "x_plus_a = x+a\n",
    "print(x_plus_a)\n",
    "\n",
    "print(\"xとaの要素ごとの差\")\n",
    "x_sub_a = x-a\n",
    "print(x_sub_a)\n",
    "\n",
    "print(\"xとaの要素ごとの積\")\n",
    "x_prod_a = x * a\n",
    "print(x_prod_a)\n",
    "\n",
    "print(\"xとaの要素ごとの商\")\n",
    "x_div_a = x / a\n",
    "print(x_div_a)"
   ]
  },
  {
   "cell_type": "markdown",
   "metadata": {},
   "source": [
    "**スライス等を利用し特定の行・列に関してのみ演算**を施すことも出来ます．"
   ]
  },
  {
   "cell_type": "code",
   "execution_count": 20,
   "metadata": {},
   "outputs": [
    {
     "name": "stdout",
     "output_type": "stream",
     "text": [
      "[[  4.    1.5   2. ]\n",
      " [  0.   -9.  100. ]]\n",
      "全ての要素に1を足す\n",
      "[[  5.    2.5   3. ]\n",
      " [  1.   -8.  101. ]]\n",
      "0行目の行ベクトルに3を足す\n",
      "[[  8.    5.5   6. ]\n",
      " [  1.   -8.  101. ]]\n",
      "0行目の行ベクトルにa=(1,2,3)を足す\n",
      "[[  9.    7.5   9. ]\n",
      " [  1.   -8.  101. ]]\n",
      "1列目の列ベクトルに0を掛ける\n",
      "[[  9.   0.   9.]\n",
      " [  1.  -0. 101.]]\n"
     ]
    }
   ],
   "source": [
    "print(Y)\n",
    "print(\"全ての要素に1を足す\")\n",
    "_Y = Y+1\n",
    "print(_Y)\n",
    "print(\"0行目の行ベクトルに3を足す\")\n",
    "_Y[0] += 3\n",
    "print(_Y)\n",
    "print(\"0行目の行ベクトルにa=(1,2,3)を足す\")\n",
    "_Y[0] += a\n",
    "print(_Y)\n",
    "print(\"1列目の列ベクトルに0を掛ける\")\n",
    "_Y[:, 1] *= 0\n",
    "print(_Y)"
   ]
  },
  {
   "cell_type": "markdown",
   "metadata": {},
   "source": [
    "**ベクトルと行列の和**を計算することもできます．ある行列`X`とベクトル`a`対して`X+a`を行った場合，`X`の全ての行ベクトル`x[i]`に`a`が足されます．"
   ]
  },
  {
   "cell_type": "code",
   "execution_count": 21,
   "metadata": {},
   "outputs": [
    {
     "name": "stdout",
     "output_type": "stream",
     "text": [
      "[[  4.    1.5   2. ]\n",
      " [  0.   -9.  100. ]]\n",
      "[3.  4.  1.5]\n",
      "Yの各行にxを足す\n",
      "[[  7.    5.5   3.5]\n",
      " [  3.   -5.  101.5]]\n"
     ]
    }
   ],
   "source": [
    "print(Y)\n",
    "print(x)\n",
    "print(\"Yの各行にxを足す\")\n",
    "_Y = Y + x\n",
    "print(_Y)"
   ]
  },
  {
   "cell_type": "markdown",
   "metadata": {},
   "source": [
    "(2, 3)の行列`Y`に，(2, )のベクトル`z`を足すと，列ベクトルによしなに足してくれる…ということはなく，**エラーになります．**"
   ]
  },
  {
   "cell_type": "code",
   "execution_count": 22,
   "metadata": {},
   "outputs": [
    {
     "name": "stdout",
     "output_type": "stream",
     "text": [
      "[[  4.    1.5   2. ]\n",
      " [  0.   -9.  100. ]]\n",
      "[1 2]\n"
     ]
    },
    {
     "ename": "ValueError",
     "evalue": "operands could not be broadcast together with shapes (2,3) (2,) ",
     "output_type": "error",
     "traceback": [
      "\u001b[0;31m---------------------------------------------------------------------------\u001b[0m",
      "\u001b[0;31mValueError\u001b[0m                                Traceback (most recent call last)",
      "\u001b[0;32m<ipython-input-22-e18f0adba050>\u001b[0m in \u001b[0;36m<module>\u001b[0;34m\u001b[0m\n\u001b[1;32m      1\u001b[0m \u001b[0mprint\u001b[0m\u001b[0;34m(\u001b[0m\u001b[0mY\u001b[0m\u001b[0;34m)\u001b[0m\u001b[0;34m\u001b[0m\u001b[0;34m\u001b[0m\u001b[0m\n\u001b[1;32m      2\u001b[0m \u001b[0mprint\u001b[0m\u001b[0;34m(\u001b[0m\u001b[0mz\u001b[0m\u001b[0;34m)\u001b[0m\u001b[0;34m\u001b[0m\u001b[0;34m\u001b[0m\u001b[0m\n\u001b[0;32m----> 3\u001b[0;31m \u001b[0mprint\u001b[0m\u001b[0;34m(\u001b[0m\u001b[0mY\u001b[0m\u001b[0;34m+\u001b[0m\u001b[0mz\u001b[0m\u001b[0;34m)\u001b[0m\u001b[0;34m\u001b[0m\u001b[0;34m\u001b[0m\u001b[0m\n\u001b[0m",
      "\u001b[0;31mValueError\u001b[0m: operands could not be broadcast together with shapes (2,3) (2,) "
     ]
    }
   ],
   "source": [
    "print(Y)\n",
    "print(z)\n",
    "print(Y+z)"
   ]
  },
  {
   "cell_type": "markdown",
   "metadata": {},
   "source": [
    "**動作を詳しく知りたい人向け：ブロードキャストについて**\n",
    "\n",
    "NumPyにおける一般の配列`A`と`B`の足し算`A+B`計算手順を解説します．２つの配列は次元が異なるとします：\n",
    "\n",
    "`A, A.shape=(a_1, ..., a_n)`, `B, B.shape=(b_1, ..., b_m)` (`n>m`と仮定します．`n=2, m=1`である場合，上の例になります)．\n",
    "\n",
    "この時，`A+B`では，**`A`の最初の`n-m`次元の全ての要素に`B`が足されます**．例えば，`A`が5次元配列`A.shape=(2, 3, 4, 5, 6)`，`B`が2次元配列`B.shape=(5, 6)`の時，`A+B`を行うと，`A[0, 0, 0], A[0, 0, 1], .., A[1, 2, 3]`に`B`が足されます．つまり，後ろから次元を対応させていきます．2次元配列に1次元配列を足す場合，最初の1次元目の全ての要素，すなわち全ての行ベクトルに1次元配列が足されます．したがって，二つの配列`A`と`B`の足し算を行う際に，二つの配列`A`と`B`の対応する次元の要素数は**一致している**，すなわち\n",
    "\n",
    "`a_{n}=b_{m}, a_{n-1}=b_{m-1}, ..., a_{n-m+1} = b_{1}`（対応する次元の要素数が一致）\n",
    "\n",
    "となっている必要があります．`B`がスカラーの場合，スカラーは0次元配列とみなすことができるので，全ての要素に足されます．このようなshapeが異なる場合に上手く解釈して計算をしてくれる機能のことをブロードキャストと言います．詳しく知りたい方は公式のドキュメントhttps://docs.scipy.org/doc/numpy/user/basics.broadcasting.html をご覧ください．\n",
    "\n",
    "上の`Y+z`の例では，2次元配列と1次元配列の和なので，やはり`Y`の各行に`z`を足そうとしますが，要素数3のベクトルと要素数2のベクトルの足し算を行うことはできないので，エラーとなったわけです．では，どのようにすれば列ベクトルを足すことができるでしょうか？\n",
    "\n",
    "一つの方法は`z`を列ベクトルとしてコピーして並べた`(2, 3)`行列を作成することです．しかしこれはやや面倒です．実は，`A+B`が計算できる条件は，先ほど「対応する次元の要素数は一致している」必要があると述べましたが，これは半分間違いで正確には\n",
    "**<div style=\"text-align: center;\">対応する次元の要素数は「一致している」か「どちらかが1である」</div>**\n",
    "必要があります．ある次元のどちらかの要素数が1である場合，もう片方の要素数分コピーされて計算が実行されます．\n",
    "\n",
    "上の`Y+z`の例ですと，`z.shape = (2, 1)`であれば，`Y+z`を計算する際に`z`の列ベクトルがコピーされて`(2,3)`の配列として足し算が実行されます．したがって，`z`の`shape`を`(2, 1)`に変更すればよいわけです．\n",
    "\n",
    "**動作を詳しく知りたい人向け終わり**"
   ]
  },
  {
   "cell_type": "markdown",
   "metadata": {},
   "source": [
    "この場合，`z`が`z.shape=(2, 1)`の2次元配列となっていれば`Y`の各列に`z`を足すことができます．いくつか方法はありますが，例えば，`np.newaxis`を用いることで`z`を`(2, 1)`の配列に変更することができます．`np.newaxis`については後ほどもう少し詳しく紹介します．"
   ]
  },
  {
   "cell_type": "code",
   "execution_count": null,
   "metadata": {},
   "outputs": [],
   "source": [
    "print(z[:, np.newaxis])\n",
    "print(z[:, np.newaxis].shape)\n",
    "print(Y+z[:, np.newaxis])"
   ]
  },
  {
   "cell_type": "markdown",
   "metadata": {},
   "source": [
    "**要素ごとのべき乗**は，`**`で計算することができます．"
   ]
  },
  {
   "cell_type": "code",
   "execution_count": 23,
   "metadata": {},
   "outputs": [
    {
     "name": "stdout",
     "output_type": "stream",
     "text": [
      "[[  4.    1.5   2. ]\n",
      " [  0.   -9.  100. ]]\n",
      "[[1.60e+01 2.25e+00 4.00e+00]\n",
      " [0.00e+00 8.10e+01 1.00e+04]]\n",
      "[[ 6.400e+01  3.375e+00  8.000e+00]\n",
      " [ 0.000e+00 -7.290e+02  1.000e+06]]\n"
     ]
    }
   ],
   "source": [
    "print(Y)\n",
    "print(Y**2)\n",
    "print(Y**3)"
   ]
  },
  {
   "cell_type": "markdown",
   "metadata": {},
   "source": [
    "**配列に対して比較演算子を用いることができます**．例えば，`X>0`を実行すると，`X`の0より大きい要素には`True`が，そうでない要素には`False`が入った配列が返ってきます．\n",
    "比較演算子と真偽値の配列を用いたスライシングによって，**特定の条件を満たす要素だけを取り出す**ことが可能です．"
   ]
  },
  {
   "cell_type": "code",
   "execution_count": 24,
   "metadata": {},
   "outputs": [
    {
     "name": "stdout",
     "output_type": "stream",
     "text": [
      "[[  4.    1.5   2. ]\n",
      " [  0.   -9.  100. ]]\n",
      "[[ True  True  True]\n",
      " [False False  True]]\n",
      "[  4.    1.5   2.  100. ]\n"
     ]
    }
   ],
   "source": [
    "print(Y)\n",
    "print(Y>1)\n",
    "print(Y[Y>1])"
   ]
  },
  {
   "cell_type": "markdown",
   "metadata": {},
   "source": [
    "次に**いくつかの基本操作**について紹介します．\n",
    "\n",
    "**配列の転置**は`np.transpose`という関数，あるいは`.T`によって行うことが出来ます．ベクトル（1次元配列）については転置を行っても何も起こりません．"
   ]
  },
  {
   "cell_type": "code",
   "execution_count": 25,
   "metadata": {},
   "outputs": [
    {
     "name": "stdout",
     "output_type": "stream",
     "text": [
      "[[  4.    1.5   2. ]\n",
      " [  0.   -9.  100. ]]\n",
      "[[  4.    0. ]\n",
      " [  1.5  -9. ]\n",
      " [  2.  100. ]]\n",
      "[[  4.    0. ]\n",
      " [  1.5  -9. ]\n",
      " [  2.  100. ]]\n",
      "(3, 2)\n",
      "[3.  4.  1.5]\n",
      "[3.  4.  1.5]\n",
      "(3,)\n"
     ]
    }
   ],
   "source": [
    "print(Y)\n",
    "print(Y.T)\n",
    "print(np.transpose(Y))\n",
    "print(Y.T.shape)\n",
    "print(x)\n",
    "print(x.T)\n",
    "print(x.T.shape)"
   ]
  },
  {
   "cell_type": "markdown",
   "metadata": {},
   "source": [
    "**ベクトルの連結**は`np.append`によって行うことが出来ます．"
   ]
  },
  {
   "cell_type": "code",
   "execution_count": 26,
   "metadata": {},
   "outputs": [
    {
     "name": "stdout",
     "output_type": "stream",
     "text": [
      "[3.  4.  1.5]\n",
      "[1 2 3]\n",
      "xとaを連結\n",
      "[3.  4.  1.5 1.  2.  3. ]\n",
      "xとa, x, xを連結\n",
      "[3.  4.  1.5 1.  2.  3.  3.  4.  1.5 3.  4.  1.5]\n"
     ]
    }
   ],
   "source": [
    "print(x)\n",
    "print(a)\n",
    "print(\"xとaを連結\")\n",
    "print(np.append(x, a))\n",
    "print(\"xとa, x, xを連結\")\n",
    "print(np.append(x, (a, x, x)))"
   ]
  },
  {
   "cell_type": "markdown",
   "metadata": {},
   "source": [
    "**より一般の配列の連結**は`np.concatenate`で可能です．**どの方向に（どの次元に）関して連結するかは`axis`**という引数で指定します．この`axis`という引数は後に紹介する関数でも頻出します．"
   ]
  },
  {
   "cell_type": "code",
   "execution_count": 27,
   "metadata": {},
   "outputs": [
    {
     "name": "stdout",
     "output_type": "stream",
     "text": [
      "[[  4.    1.5   2. ]\n",
      " [  0.   -9.  100. ]]\n",
      "最初の次元方向に連結する（縦に連結する）\n",
      "[[  4.    1.5   2. ]\n",
      " [  0.   -9.  100. ]\n",
      " [  4.    1.5   2. ]\n",
      " [  0.   -9.  100. ]]\n",
      "(4, 3)\n",
      "2つめの次元方向に連結する（横に連結する）\n",
      "[[  4.    1.5   2.    4.    1.5   2. ]\n",
      " [  0.   -9.  100.    0.   -9.  100. ]]\n",
      "(2, 6)\n",
      "Yを3つ連結する\n",
      "[[  4.    1.5   2.    4.    1.5   2.    4.    1.5   2. ]\n",
      " [  0.   -9.  100.    0.   -9.  100.    0.   -9.  100. ]]\n",
      "(2, 9)\n"
     ]
    }
   ],
   "source": [
    "print(Y)\n",
    "print(\"最初の次元方向に連結する（縦に連結する）\")\n",
    "Y_Y_axis_0 = np.concatenate((Y, Y), axis=0) # 連結したい配列をリストやタプルでまとめる\n",
    "print(Y_Y_axis_0)\n",
    "print(Y_Y_axis_0.shape)\n",
    "print(\"2つめの次元方向に連結する（横に連結する）\")\n",
    "Y_Y_axis_1 = np.concatenate((Y, Y), axis=1)\n",
    "print(Y_Y_axis_1) \n",
    "print(Y_Y_axis_1.shape)\n",
    "print(\"Yを3つ連結する\")\n",
    "Y_Y_Y_axis_1 = np.concatenate((Y, Y, Y), axis=1)\n",
    "print(Y_Y_Y_axis_1) \n",
    "print(Y_Y_Y_axis_1.shape)"
   ]
  },
  {
   "cell_type": "markdown",
   "metadata": {},
   "source": [
    "**配列にベクトルを連結したい**ことも当然あります．たとえば，`Y`の最後の行に`x`を追加したいとします．`np.concatenate`は使うことが出来ません．実際にやってみると，**エラーが返ってきます．**"
   ]
  },
  {
   "cell_type": "code",
   "execution_count": 28,
   "metadata": {},
   "outputs": [
    {
     "ename": "ValueError",
     "evalue": "all the input arrays must have same number of dimensions, but the array at index 0 has 2 dimension(s) and the array at index 1 has 1 dimension(s)",
     "output_type": "error",
     "traceback": [
      "\u001b[0;31m---------------------------------------------------------------------------\u001b[0m",
      "\u001b[0;31mValueError\u001b[0m                                Traceback (most recent call last)",
      "\u001b[0;32m<ipython-input-28-94d36e79fb3e>\u001b[0m in \u001b[0;36m<module>\u001b[0;34m\u001b[0m\n\u001b[0;32m----> 1\u001b[0;31m \u001b[0mprint\u001b[0m\u001b[0;34m(\u001b[0m\u001b[0mnp\u001b[0m\u001b[0;34m.\u001b[0m\u001b[0mconcatenate\u001b[0m\u001b[0;34m(\u001b[0m\u001b[0;34m(\u001b[0m\u001b[0mY\u001b[0m\u001b[0;34m,\u001b[0m \u001b[0mx\u001b[0m\u001b[0;34m)\u001b[0m\u001b[0;34m)\u001b[0m\u001b[0;34m,\u001b[0m \u001b[0maxis\u001b[0m\u001b[0;34m=\u001b[0m\u001b[0;36m0\u001b[0m\u001b[0;34m)\u001b[0m\u001b[0;34m\u001b[0m\u001b[0;34m\u001b[0m\u001b[0m\n\u001b[0m",
      "\u001b[0;32m<__array_function__ internals>\u001b[0m in \u001b[0;36mconcatenate\u001b[0;34m(*args, **kwargs)\u001b[0m\n",
      "\u001b[0;31mValueError\u001b[0m: all the input arrays must have same number of dimensions, but the array at index 0 has 2 dimension(s) and the array at index 1 has 1 dimension(s)"
     ]
    }
   ],
   "source": [
    "print(np.concatenate((Y, x)), axis=0)"
   ]
  },
  {
   "cell_type": "markdown",
   "metadata": {},
   "source": [
    "エラー文は，「次元の数が同じでなければならないよ」と言っています．そこで，`x`を**2次元の配列に変換**することを考えます．いくつか方法がありますが，先ほど述べた通り**`np.newaxis`**を用いることで出来ます.`np.newaxis`は，配列にインデックスのように与えることでその位置に新しい次元を作成します．"
   ]
  },
  {
   "cell_type": "code",
   "execution_count": 29,
   "metadata": {},
   "outputs": [
    {
     "name": "stdout",
     "output_type": "stream",
     "text": [
      "[3.  4.  1.5] (3,)\n",
      "[[3.  4.  1.5]] (1, 3)\n",
      "[[  4.    1.5   2. ]\n",
      " [  0.   -9.  100. ]\n",
      " [  3.    4.    1.5]]\n"
     ]
    }
   ],
   "source": [
    "print(x, x.shape)\n",
    "x_2d = x[np.newaxis, :]\n",
    "print(x_2d, x_2d.shape)\n",
    "print(np.concatenate((Y, x_2d), axis=0))"
   ]
  },
  {
   "cell_type": "markdown",
   "metadata": {},
   "source": [
    "`np.newaxis`を挿入する位置をかえることで，新しい次元を作成する位置が変わります．挿入する位置を変えて同じように連結してみましょう．要素数が一致しないため，**エラーとなります．**"
   ]
  },
  {
   "cell_type": "code",
   "execution_count": 30,
   "metadata": {},
   "outputs": [
    {
     "name": "stdout",
     "output_type": "stream",
     "text": [
      "[[3. ]\n",
      " [4. ]\n",
      " [1.5]]\n",
      "(3, 1)\n"
     ]
    },
    {
     "ename": "ValueError",
     "evalue": "all the input array dimensions for the concatenation axis must match exactly, but along dimension 1, the array at index 0 has size 3 and the array at index 1 has size 1",
     "output_type": "error",
     "traceback": [
      "\u001b[0;31m---------------------------------------------------------------------------\u001b[0m",
      "\u001b[0;31mValueError\u001b[0m                                Traceback (most recent call last)",
      "\u001b[0;32m<ipython-input-30-d4a7d24a764d>\u001b[0m in \u001b[0;36m<module>\u001b[0;34m\u001b[0m\n\u001b[1;32m      2\u001b[0m \u001b[0mprint\u001b[0m\u001b[0;34m(\u001b[0m\u001b[0mx_2d\u001b[0m\u001b[0;34m)\u001b[0m\u001b[0;34m\u001b[0m\u001b[0;34m\u001b[0m\u001b[0m\n\u001b[1;32m      3\u001b[0m \u001b[0mprint\u001b[0m\u001b[0;34m(\u001b[0m\u001b[0mx_2d\u001b[0m\u001b[0;34m.\u001b[0m\u001b[0mshape\u001b[0m\u001b[0;34m)\u001b[0m\u001b[0;34m\u001b[0m\u001b[0;34m\u001b[0m\u001b[0m\n\u001b[0;32m----> 4\u001b[0;31m \u001b[0mprint\u001b[0m\u001b[0;34m(\u001b[0m\u001b[0mnp\u001b[0m\u001b[0;34m.\u001b[0m\u001b[0mconcatenate\u001b[0m\u001b[0;34m(\u001b[0m\u001b[0;34m(\u001b[0m\u001b[0mY\u001b[0m\u001b[0;34m,\u001b[0m \u001b[0mx_2d\u001b[0m\u001b[0;34m)\u001b[0m\u001b[0;34m,\u001b[0m \u001b[0maxis\u001b[0m\u001b[0;34m=\u001b[0m\u001b[0;36m0\u001b[0m\u001b[0;34m)\u001b[0m\u001b[0;34m)\u001b[0m \u001b[0;31m# x_2dは(3, 1)配列なので，末尾に連結はできない\u001b[0m\u001b[0;34m\u001b[0m\u001b[0;34m\u001b[0m\u001b[0m\n\u001b[0m",
      "\u001b[0;32m<__array_function__ internals>\u001b[0m in \u001b[0;36mconcatenate\u001b[0;34m(*args, **kwargs)\u001b[0m\n",
      "\u001b[0;31mValueError\u001b[0m: all the input array dimensions for the concatenation axis must match exactly, but along dimension 1, the array at index 0 has size 3 and the array at index 1 has size 1"
     ]
    }
   ],
   "source": [
    "x_2d = x[:, np.newaxis]\n",
    "print(x_2d)\n",
    "print(x_2d.shape)\n",
    "print(np.concatenate((Y, x_2d), axis=0)) # x_2dは(3, 1)配列なので，末尾に連結はできない"
   ]
  },
  {
   "cell_type": "markdown",
   "metadata": {},
   "source": [
    "**多次元配列をベクトルに変換**したいことも多いです．この操作は`np.ravel`によって行うことが出来ます．"
   ]
  },
  {
   "cell_type": "code",
   "execution_count": 31,
   "metadata": {},
   "outputs": [
    {
     "name": "stdout",
     "output_type": "stream",
     "text": [
      "[[  4.    1.5   2. ]\n",
      " [  0.   -9.  100. ]]\n",
      "[  4.    1.5   2.    0.   -9.  100. ]\n",
      "[  4.    0.    1.5  -9.    2.  100. ]\n"
     ]
    }
   ],
   "source": [
    "print(Y)\n",
    "print(np.ravel(Y)) # 行ベクトルを取り出し並べる\n",
    "print(np.ravel(Y, order='F')) # 列ベクトルを取り出し並べる．'F'はFortranの'F' (デフォルトは'C')"
   ]
  },
  {
   "cell_type": "markdown",
   "metadata": {},
   "source": [
    "もっと一般に，**多次元配列の`shape`を操作したい**ことも多いです．これは`np.reshape`によって行うことが出来ます．`np.reshape`では，第一引数に`shape`を変更したい配列，第二引数に変更後の`shape`を渡します．"
   ]
  },
  {
   "cell_type": "code",
   "execution_count": 32,
   "metadata": {},
   "outputs": [
    {
     "name": "stdout",
     "output_type": "stream",
     "text": [
      "[[  4.    1.5   2. ]\n",
      " [  0.   -9.  100. ]]\n",
      "[[  4.    1.5]\n",
      " [  2.    0. ]\n",
      " [ -9.  100. ]]\n",
      "[[  4.    1.5]\n",
      " [  2.    0. ]\n",
      " [ -9.  100. ]]\n"
     ]
    }
   ],
   "source": [
    "print(Y)\n",
    "print(np.reshape(Y, [3, 2])) # (2, 3)配列を (3, 2)に変更\n",
    "print(Y.reshape(3, 2)) # .reshapeで変更することも多い (この場合，タプル・listで渡さなくても良い (数字を並べるだけで良い))"
   ]
  },
  {
   "cell_type": "markdown",
   "metadata": {},
   "source": [
    "<a id='various_function'></a>\n",
    "\n",
    "## 2.3 np.ndarrayの様々な演算"
   ]
  },
  {
   "cell_type": "markdown",
   "metadata": {},
   "source": [
    "`np.ndarray`には便利な関数が多数存在します．全てを紹介することはせずに，よく使うだろう関数をいくつか紹介します．\n",
    "\n",
    "`np.sum`は**配列の要素の和**を求める関数です．`axis`引数を指定することで特定の次元（行 or 列）に関してのみ和を求めることも出来ます．和を求めた結果，和を計算した方向の次元は消えてしまいます．次元を消したくない場合は，`keepdims`引数を`True`にします．"
   ]
  },
  {
   "cell_type": "code",
   "execution_count": 33,
   "metadata": {},
   "outputs": [
    {
     "name": "stdout",
     "output_type": "stream",
     "text": [
      "[[  4.    1.5   2. ]\n",
      " [  0.   -9.  100. ]]\n",
      "98.5\n",
      "0次元目の方向に和を計算 = 行ベクトルの和を計算\n",
      "[  4.   -7.5 102. ] (3,)\n",
      "0次元目の方向に和を計算 = 行ベクトルの和を計算 with keepdims=True\n",
      "[[  4.   -7.5 102. ]] (1, 3)\n",
      "1次元目の方向に和を計算 = 列ベクトルの和を計算\n",
      "[ 7.5 91. ] (2,)\n"
     ]
    }
   ],
   "source": [
    "print(Y)\n",
    "print(np.sum(Y))\n",
    "print(\"0次元目の方向に和を計算 = 行ベクトルの和を計算\")\n",
    "print(np.sum(Y, axis=0), np.sum(Y, axis=0).shape) # 行ベクトルの和を計算\n",
    "print(\"0次元目の方向に和を計算 = 行ベクトルの和を計算 with keepdims=True\")\n",
    "print(np.sum(Y, axis=0, keepdims=True), np.sum(Y, axis=0, keepdims=True).shape) # 演算後，次元を保つ\n",
    "print(\"1次元目の方向に和を計算 = 列ベクトルの和を計算\")\n",
    "print(np.sum(Y, axis=1), np.sum(Y, axis=1).shape) # 列ベクトルの和を計算"
   ]
  },
  {
   "cell_type": "markdown",
   "metadata": {},
   "source": [
    "次々紹介していきます．\n",
    "- `np.prod`：配列の要素の積を求める\n",
    "- `np.mean`：配列の平均を求める\n",
    "- `np.max`：配列の最大値を求める\n",
    "- `np.min`：配列の最小値を求める\n",
    "- `np.argmax`：配列の最大値を持つインデックスを求める\n",
    "- `np.argmin`：配列の最小値を持つインデックスを求める\n",
    "- `np.abs`：各要素の絶対値を計算する"
   ]
  },
  {
   "cell_type": "code",
   "execution_count": 34,
   "metadata": {},
   "outputs": [
    {
     "name": "stdout",
     "output_type": "stream",
     "text": [
      "[3.  4.  1.5]\n",
      "積\n",
      "18.0\n",
      "平均\n",
      "2.8333333333333335\n",
      "最大値\n",
      "4.0\n",
      "最小値\n",
      "1.5\n",
      "最大値のインデックス\n",
      "1\n",
      "最小値のインデックス\n",
      "2\n",
      "\n",
      "np.sumと同様にaxisを用いると，特定の次元に関して処理を行う\n",
      "[[  4.    1.5   2. ]\n",
      " [  0.   -9.  100. ]]\n",
      "列ベクトルの積を計算\n",
      "[12. -0.]\n",
      "列ベクトルの各要素の平均・最大値・最小値を計算\n",
      "[ 2.5        30.33333333]\n",
      "[  4. 100.]\n",
      "[ 1.5 -9. ]\n",
      "列ベクトルの各要素に対して，最大値・最小値のインデックスを計算\n",
      "[0 2]\n",
      "[1 1]\n",
      "絶対値\n",
      "[[  4.    1.5   2. ]\n",
      " [  0.    9.  100. ]]\n",
      "多次元配列にargmax/argminを使うと，左から右，上から下に向かって番号を数えた時の値を返す\n",
      "5\n",
      "4\n"
     ]
    }
   ],
   "source": [
    "print(x)\n",
    "print(\"積\")\n",
    "print(np.prod(x))\n",
    "print(\"平均\")\n",
    "print(np.mean(x))\n",
    "print(\"最大値\")\n",
    "print(np.max(x))\n",
    "print(\"最小値\")\n",
    "print(np.min(x))\n",
    "print(\"最大値のインデックス\")\n",
    "print(np.argmax(x))\n",
    "print(\"最小値のインデックス\")\n",
    "print(np.argmin(x))\n",
    "print()\n",
    "print(\"np.sumと同様にaxisを用いると，特定の次元に関して処理を行う\")\n",
    "print(Y)\n",
    "print(\"列ベクトルの積を計算\")\n",
    "print(np.prod(Y, axis=1))\n",
    "print(\"列ベクトルの各要素の平均・最大値・最小値を計算\")\n",
    "print(np.mean(Y, axis=1))\n",
    "print(np.max(Y, axis=1))\n",
    "print(np.min(Y, axis=1))\n",
    "print(\"列ベクトルの各要素に対して，最大値・最小値のインデックスを計算\")\n",
    "print(np.argmax(Y, axis=1))\n",
    "print(np.argmin(Y, axis=1))\n",
    "print(\"絶対値\")\n",
    "print(np.abs(Y))\n",
    "print(\"多次元配列にargmax/argminを使うと，左から右，上から下に向かって番号を数えた時の値を返す\")\n",
    "print(np.argmax(Y))\n",
    "print(np.argmin(Y))"
   ]
  },
  {
   "cell_type": "markdown",
   "metadata": {},
   "source": [
    "ソートも簡単に行うことが出来ます．\n",
    "- `np.sort`：昇順にソートする\n",
    "- `np.argsort`：昇順にソートした後，対応するインデックスを返す\n",
    "\n",
    "これらの関数も，`axis`で特定の次元に関して処理を行うことが出来ます．"
   ]
  },
  {
   "cell_type": "code",
   "execution_count": 35,
   "metadata": {},
   "outputs": [
    {
     "name": "stdout",
     "output_type": "stream",
     "text": [
      "[3.  4.  1.5]\n",
      "昇順にソート\n",
      "[1.5 3.  4. ]\n",
      "降順にソート\n",
      "[4.  3.  1.5]\n",
      "昇順にソートした際の元のインデックスを返す\n",
      "[2 0 1]\n",
      "「昇順にソートした際の元のインデックス」を元のベクトルに渡す =　昇順にソート\n",
      "[1.5 3.  4. ]\n",
      "\n",
      "[[  4.    1.5   2. ]\n",
      " [  0.   -9.  100. ]]\n",
      "[[  1.5   2.    4. ]\n",
      " [ -9.    0.  100. ]]\n",
      "[[1 2 0]\n",
      " [1 0 2]]\n"
     ]
    }
   ],
   "source": [
    "print(x)\n",
    "print(\"昇順にソート\")\n",
    "print(np.sort(x)) # 昇順にソート\n",
    "print(\"降順にソート\")\n",
    "print(np.sort(x)[::-1]) # ソートした後逆順にする=降順にソート\n",
    "print(\"昇順にソートした際の元のインデックスを返す\")\n",
    "print(np.argsort(x))\n",
    "print(\"「昇順にソートした際の元のインデックス」を元のベクトルに渡す =　昇順にソート\")\n",
    "print(x[np.argsort(x)]) # ソート後のインデックスを元のベクトルに入れているので，sort(x)と同じ結果になる\n",
    "print()\n",
    "print(Y)\n",
    "print(np.sort(Y, axis=1))\n",
    "print(np.argsort(Y, axis=1))"
   ]
  },
  {
   "cell_type": "markdown",
   "metadata": {},
   "source": [
    "**三角関数や指数関数，対数関数，絶対値**と言った関数も実装されています．これらの関数に配列を入れると，要素ごとに関数の値を計算します．"
   ]
  },
  {
   "cell_type": "code",
   "execution_count": 36,
   "metadata": {},
   "outputs": [
    {
     "name": "stdout",
     "output_type": "stream",
     "text": [
      "[[-0.65364362  0.0707372  -0.41614684]\n",
      " [ 1.         -0.91113026  0.86231887]]\n",
      "[[-0.7568025   0.99749499  0.90929743]\n",
      " [ 0.         -0.41211849 -0.50636564]]\n",
      "[[5.45981500e+01 4.48168907e+00 7.38905610e+00]\n",
      " [1.00000000e+00 1.23409804e-04 2.68811714e+43]]\n",
      "[[  4.    1.5   2. ]\n",
      " [  0.    9.  100. ]]\n",
      "[[1.60943791 0.91629073 1.09861229]\n",
      " [0.         2.30258509 4.61512052]]\n"
     ]
    }
   ],
   "source": [
    "print(np.cos(Y))\n",
    "print(np.sin(Y)) \n",
    "print(np.exp(Y)) \n",
    "print(np.abs(Y)) # 絶対値 \n",
    "print(np.log(np.abs(Y)+1)) # 自然対数．非正の値をいれることはできないので，絶対値を取った後に1を足す"
   ]
  },
  {
   "cell_type": "markdown",
   "metadata": {},
   "source": [
    "`np.dot`は**二つの配列の積** を計算する関数です（dotは一般に内積を表しますが，この関数は必ずしもそうとは限りません（=数学的概念の内積と一致するとは限りません））．機械学習アルゴリズムの中で最も使うだろう関数の一つです．`np.dot(a, b)`は，**aとbの次元数によって挙動が変わります**．ここでは，本演習で遭遇するだろう場合に関してのみ述べます：\n",
    "\n",
    "1. a, bのどちらも1次元配列の場合：ベクトルaとbの内積を返す（すなわち，スカラーを返す）．\n",
    "2. a, bのどちらも2次元配列の場合：行列aとbの行列積を返す（`a.shape=(d_1, d_2)`, `b.shape=(d_2, d_3)`の時，`shape=(d_1, d_3)`の行列を返す）\n",
    "3. aがn次元配列，bが1次元配列の場合：aの最後の次元(`axis`)でベクトルを取り出し，bと内積を計算する．すなわち， `a.shape=(d_1, ..., d_n)`，`b.shape=(d_n, )`の時，`shape=(d_1, ..., d_{n-1})`次元の配列を返す．\n",
    "\n",
    "詳しくは公式のリファレンス https://docs.scipy.org/doc/numpy/reference/generated/numpy.dot.html を参照して下さい．"
   ]
  },
  {
   "cell_type": "code",
   "execution_count": 37,
   "metadata": {},
   "outputs": [
    {
     "name": "stdout",
     "output_type": "stream",
     "text": [
      "[3.  4.  1.5]\n",
      "[[  4.    1.5   2. ]\n",
      " [  0.   -9.  100. ]]\n",
      "ケース1\n",
      "27.25\n",
      "27.25\n",
      "ケース2\n",
      "[[   22.25   186.5 ]\n",
      " [  186.5  10081.  ]]\n",
      "[[ 1.6000e+01  6.0000e+00  8.0000e+00]\n",
      " [ 6.0000e+00  8.3250e+01 -8.9700e+02]\n",
      " [ 8.0000e+00 -8.9700e+02  1.0004e+04]]\n",
      "ケース3\n",
      "[ 21. 114.]\n",
      "[ 21. 114.]\n"
     ]
    }
   ],
   "source": [
    "print(x)\n",
    "print(Y)\n",
    "print(\"ケース1\")\n",
    "print(np.dot(x,x))\n",
    "print(np.sum(x*x)) # 上と同じ結果を返す\n",
    "print(\"ケース2\")\n",
    "print(np.dot(Y, Y.T)) # (2, 3)と(3, 2)の積=(2, 2)を返す\n",
    "print(np.dot(Y.T, Y)) # (3, 2)と(2, 3)の積=(3, 3)を返す\n",
    "print(\"ケース3\")\n",
    "print(np.dot(Y, x))\n",
    "print(np.array([np.dot(Y[0], x), np.dot(Y[1], x)])) # 上と同じ結果"
   ]
  },
  {
   "cell_type": "markdown",
   "metadata": {},
   "source": [
    "`shape`が合わない場合**エラーとなります．**\n",
    "次のケースでは二つの配列はどちらも2次元なので，一つ目の行列の2番目の次元の要素数と，二つ目の行列の1番目の要素数が一致していなければなりませんが，そうなっていません．"
   ]
  },
  {
   "cell_type": "code",
   "execution_count": 38,
   "metadata": {},
   "outputs": [
    {
     "ename": "ValueError",
     "evalue": "shapes (2,3) and (2,3) not aligned: 3 (dim 1) != 2 (dim 0)",
     "output_type": "error",
     "traceback": [
      "\u001b[0;31m---------------------------------------------------------------------------\u001b[0m",
      "\u001b[0;31mValueError\u001b[0m                                Traceback (most recent call last)",
      "\u001b[0;32m<ipython-input-38-46596f23a837>\u001b[0m in \u001b[0;36m<module>\u001b[0;34m\u001b[0m\n\u001b[0;32m----> 1\u001b[0;31m \u001b[0mprint\u001b[0m\u001b[0;34m(\u001b[0m\u001b[0mnp\u001b[0m\u001b[0;34m.\u001b[0m\u001b[0mdot\u001b[0m\u001b[0;34m(\u001b[0m\u001b[0mY\u001b[0m\u001b[0;34m,\u001b[0m \u001b[0mY\u001b[0m\u001b[0;34m)\u001b[0m\u001b[0;34m)\u001b[0m\u001b[0;34m\u001b[0m\u001b[0;34m\u001b[0m\u001b[0m\n\u001b[0m",
      "\u001b[0;32m<__array_function__ internals>\u001b[0m in \u001b[0;36mdot\u001b[0;34m(*args, **kwargs)\u001b[0m\n",
      "\u001b[0;31mValueError\u001b[0m: shapes (2,3) and (2,3) not aligned: 3 (dim 1) != 2 (dim 0)"
     ]
    }
   ],
   "source": [
    "print(np.dot(Y, Y))"
   ]
  },
  {
   "cell_type": "markdown",
   "metadata": {},
   "source": [
    "<a id='create_array_by_numpy'></a>\n",
    "\n",
    "\n",
    "## 2.4 `np.ndarray`を用いた`np.ndarray`オブジェクトの作成"
   ]
  },
  {
   "cell_type": "markdown",
   "metadata": {},
   "source": [
    "本Notebookの序盤において「`list`を渡して`np.ndarray`オブジェクトを作成する」と紹介しました．**いくつかの特殊な配列に関しては直接`np.ndarray`の関数を用いて作成することができます．**"
   ]
  },
  {
   "cell_type": "markdown",
   "metadata": {},
   "source": [
    "**全ての要素が0の配列**は`np.zeros`で作成することが出来ます．`np.zeros`には引数として`shape`を与えると，指定した`shape`の全てが0の配列が作成されます．"
   ]
  },
  {
   "cell_type": "code",
   "execution_count": 39,
   "metadata": {},
   "outputs": [
    {
     "name": "stdout",
     "output_type": "stream",
     "text": [
      "[0. 0. 0. 0. 0.]\n",
      "[[0. 0.]\n",
      " [0. 0.]\n",
      " [0. 0.]\n",
      " [0. 0.]\n",
      " [0. 0.]]\n",
      "[[[0 0 0 0]\n",
      "  [0 0 0 0]\n",
      "  [0 0 0 0]]\n",
      "\n",
      " [[0 0 0 0]\n",
      "  [0 0 0 0]\n",
      "  [0 0 0 0]]]\n"
     ]
    }
   ],
   "source": [
    "print(np.zeros((5, )))\n",
    "print(np.zeros((5, 2)))\n",
    "print(np.zeros((2,3,4), dtype=np.int64))"
   ]
  },
  {
   "cell_type": "markdown",
   "metadata": {},
   "source": [
    "**全ての要素が1の配列**は，`np.ones`で作成することが出来ます．`np.zeros`と使い方は同様です．"
   ]
  },
  {
   "cell_type": "code",
   "execution_count": 40,
   "metadata": {},
   "outputs": [
    {
     "name": "stdout",
     "output_type": "stream",
     "text": [
      "[1. 1. 1. 1. 1.]\n",
      "[[1. 1.]\n",
      " [1. 1.]\n",
      " [1. 1.]\n",
      " [1. 1.]\n",
      " [1. 1.]]\n",
      "[[[1 1 1 1]\n",
      "  [1 1 1 1]\n",
      "  [1 1 1 1]]\n",
      "\n",
      " [[1 1 1 1]\n",
      "  [1 1 1 1]\n",
      "  [1 1 1 1]]]\n"
     ]
    }
   ],
   "source": [
    "print(np.ones((5, )))\n",
    "print(np.ones((5, 2)))\n",
    "print(np.ones((2,3,4), dtype=np.int64))"
   ]
  },
  {
   "cell_type": "markdown",
   "metadata": {},
   "source": [
    "**0から始まってm-1で終わるベクトル**は，`np.arange`で作成することが出来ます．"
   ]
  },
  {
   "cell_type": "code",
   "execution_count": 41,
   "metadata": {},
   "outputs": [
    {
     "name": "stdout",
     "output_type": "stream",
     "text": [
      "[0 1 2 3]\n"
     ]
    }
   ],
   "source": [
    "print(np.arange(4))"
   ]
  },
  {
   "cell_type": "markdown",
   "metadata": {},
   "source": [
    "`np.arange`は実はもっと柔軟です．(1)始まりの数字(2)終わりの数字(3)ステップ幅を指定することが出来ます．つまり**整数の等差数列のベクトル**を作成できます．"
   ]
  },
  {
   "cell_type": "code",
   "execution_count": 42,
   "metadata": {},
   "outputs": [
    {
     "name": "stdout",
     "output_type": "stream",
     "text": [
      "[2 3 4 5 6 7]\n",
      "[2 4 6]\n",
      "[ 7  6  5  4  3  2  1  0 -1]\n",
      "[]\n"
     ]
    }
   ],
   "source": [
    "print(np.arange(2, 8)) # 2から始まって8まで\n",
    "print(np.arange(2, 8, 2)) # 2から始まって8まで，一つ飛ばし\n",
    "print(np.arange(7, -2, -1)) # 7から始まって-2まで，-1ずつ動かす\n",
    "print(np.arange(7, -2)) # 7から始まって-2まで，+1ずつ動かす，中身は空になる．"
   ]
  },
  {
   "cell_type": "markdown",
   "metadata": {},
   "source": [
    "**単位行列**は`np.eye`で作成することが出来ます．`np.eye(m)`は，(m, m)の単位行列を作成します．"
   ]
  },
  {
   "cell_type": "code",
   "execution_count": 43,
   "metadata": {},
   "outputs": [
    {
     "name": "stdout",
     "output_type": "stream",
     "text": [
      "[[1. 0. 0. 0.]\n",
      " [0. 1. 0. 0.]\n",
      " [0. 0. 1. 0.]\n",
      " [0. 0. 0. 1.]]\n"
     ]
    }
   ],
   "source": [
    "print(np.eye(4))"
   ]
  },
  {
   "cell_type": "markdown",
   "metadata": {},
   "source": [
    "<a id='create_random_array'></a>\n",
    "\n",
    "\n",
    "## 2.5 ランダムな配列の生成"
   ]
  },
  {
   "cell_type": "markdown",
   "metadata": {},
   "source": [
    "`numpy`は疑似乱数を用いた様々な関数を提供しています．それらは`numpy.random`にまとめられていて，いくつか紹介します．\n",
    "詳しくは公式のリファレンス https://docs.scipy.org/doc/numpy-1.14.0/reference/routines.random.html を参照してください．本演習ではおそらく使いませんが，情報理工学実験「データサイエンス」でいくつか使います．\n",
    "- `rand`：区間[0, 1)から生成．引数で配列の形を指定する．\n",
    "- `randn`：標準正規分布から生成．引数で配列の形を指定する．"
   ]
  },
  {
   "cell_type": "code",
   "execution_count": 44,
   "metadata": {},
   "outputs": [
    {
     "name": "stdout",
     "output_type": "stream",
     "text": [
      "[[0.32447522 0.47631923 0.85774578]\n",
      " [0.67082018 0.76558513 0.33306214]]\n",
      "[[0.05224143 0.66085462 0.71925034]\n",
      " [0.56876421 0.54324996 0.64657821]]\n",
      "[[-0.63601086]\n",
      " [ 0.72831423]]\n",
      "[[-0.59610712]\n",
      " [-1.58171512]]\n"
     ]
    }
   ],
   "source": [
    "print(np.random.rand(2, 3)) # (2, 3)の配列で，各要素が区間 [0,1)\n",
    "print(np.random.rand(2, 3)) # (2, 3)の配列で，各要素が区間 [0,1)\n",
    "print(np.random.randn(2, 1)) # (2, 1)の配列で，各要素が標準正規分布にしたがう\n",
    "print(np.random.randn(2, 1)) # (2, 1)の配列で，各要素が標準正規分布にしたがう"
   ]
  },
  {
   "cell_type": "markdown",
   "metadata": {},
   "source": [
    "指定した形の配列が生成されています．そしてその結果が毎回変わっています．\n",
    "ときには乱数のseedを指定したいときもあると思います．このような場合，`seed`を使うことができます．\n",
    "以下に見るように，`seed`を設定した後であれば同じ結果が得られています．"
   ]
  },
  {
   "cell_type": "code",
   "execution_count": 45,
   "metadata": {},
   "outputs": [
    {
     "name": "stdout",
     "output_type": "stream",
     "text": [
      "Set seed=1.\n",
      "[[4.17022005e-01 7.20324493e-01 1.14374817e-04]\n",
      " [3.02332573e-01 1.46755891e-01 9.23385948e-02]]\n",
      "[[-0.52817175]\n",
      " [-1.07296862]]\n",
      "[[0.39676747 0.53881673 0.41919451]\n",
      " [0.6852195  0.20445225 0.87811744]]\n",
      "[[ 1.46210794]\n",
      " [-2.06014071]]\n",
      "Set seed=1.\n",
      "[[4.17022005e-01 7.20324493e-01 1.14374817e-04]\n",
      " [3.02332573e-01 1.46755891e-01 9.23385948e-02]]\n",
      "[[-0.52817175]\n",
      " [-1.07296862]]\n",
      "[[0.39676747 0.53881673 0.41919451]\n",
      " [0.6852195  0.20445225 0.87811744]]\n",
      "[[ 1.46210794]\n",
      " [-2.06014071]]\n"
     ]
    }
   ],
   "source": [
    "# seedを1に指定\n",
    "print(\"Set seed=1.\")\n",
    "np.random.seed(1)\n",
    "print(np.random.rand(2, 3)) # (2, 3)の配列で，各要素が区間 [0,1)\n",
    "print(np.random.randn(2, 1)) # (2, 1)の配列で，各要素が標準正規分布にしたがう\n",
    "print(np.random.rand(2, 3)) # (2, 3)の配列で，各要素が区間 [0,1)\n",
    "print(np.random.randn(2, 1)) # (2, 1)の配列で，各要素が標準正規分布にしたがう\n",
    "# seedを再度1に指定\n",
    "print(\"Set seed=1.\")\n",
    "np.random.seed(1)\n",
    "print(np.random.rand(2, 3)) # (2, 3)の配列で，各要素が区間 [0,1)\n",
    "print(np.random.randn(2, 1)) # (2, 1)の配列で，各要素が標準正規分布にしたがう\n",
    "print(np.random.rand(2, 3)) # (2, 3)の配列で，各要素が区間 [0,1)\n",
    "print(np.random.randn(2, 1)) # (2, 1)の配列で，各要素が標準正規分布にしたがう"
   ]
  },
  {
   "cell_type": "markdown",
   "metadata": {},
   "source": [
    "また，疑似乱数の状態を表す`RandomState`オブジェクトを作成し，そのオブジェクトを用いてランダムな配列を生成することもできます．\n",
    "`RandomState`オブジェクトを作成する際は`seed`を指定し，そして`np.random`の代わりに作成したオブジェクトを用います．すると，そのオブジェクトの状態を用いてランダムな配列を生成し，そしてそのオブジェクトの状態を遷移させます．\n",
    "以下に例を示します．以下では`seed=1`として`RandomState`オブジェクトを作成しているため，上のセルと同様のランダムな配列が得られています．"
   ]
  },
  {
   "cell_type": "code",
   "execution_count": 46,
   "metadata": {},
   "outputs": [
    {
     "name": "stdout",
     "output_type": "stream",
     "text": [
      "np.random.randとしていたのを，random_state.randとする\n",
      "[[4.17022005e-01 7.20324493e-01 1.14374817e-04]\n",
      " [3.02332573e-01 1.46755891e-01 9.23385948e-02]]\n",
      "[[-0.52817175]\n",
      " [-1.07296862]]\n",
      "[[0.39676747 0.53881673 0.41919451]\n",
      " [0.6852195  0.20445225 0.87811744]]\n",
      "[[ 1.46210794]\n",
      " [-2.06014071]]\n"
     ]
    }
   ],
   "source": [
    "random_state = np.random.RandomState(1)\n",
    "print(\"np.random.randとしていたのを，random_state.randとする\")\n",
    "print(random_state.rand(2, 3)) # (2, 3)の配列で，各要素が区間 [0,1)\n",
    "print(random_state.randn(2, 1)) # (2, 1)の配列で，各要素が標準正規分布にしたがう\n",
    "print(random_state.rand(2, 3)) # (2, 3)の配列で，各要素が区間 [0,1)\n",
    "print(random_state.randn(2, 1)) # (2, 1)の配列で，各要素が標準正規分布にしたがう"
   ]
  },
  {
   "cell_type": "markdown",
   "metadata": {},
   "source": [
    "<a id='load_and_save'></a>\n",
    "\n",
    "\n",
    "## 2.6 `np.ndarray`の書き込み・読み込み"
   ]
  },
  {
   "cell_type": "markdown",
   "metadata": {},
   "source": [
    "`np.ndarray`の書き込み・読み込みは簡単に出来ます．方法はいくつかありますが，テキストとして書き込む方法，テキストを読み込む方法を紹介します．"
   ]
  },
  {
   "cell_type": "markdown",
   "metadata": {},
   "source": [
    "テキストとして書き込むには，`np.savetxt`を用います．保存する際のファイル名・保存する配列を引数として与えます．"
   ]
  },
  {
   "cell_type": "code",
   "execution_count": 47,
   "metadata": {},
   "outputs": [],
   "source": [
    "np.savetxt('numpy_tutorial_Y.txt', Y)"
   ]
  },
  {
   "cell_type": "markdown",
   "metadata": {},
   "source": [
    "numpy_tutorial_Y.txtというファイル名で保存されたはずです．ファイルの中身を見てみましょう．配列Yが保存されているはずです．"
   ]
  },
  {
   "cell_type": "markdown",
   "metadata": {},
   "source": [
    "テキストで保存された配列を読み込むには，`np.loadtxt`を用います．読み込むファイル名を引数として与えます．"
   ]
  },
  {
   "cell_type": "code",
   "execution_count": 48,
   "metadata": {},
   "outputs": [
    {
     "name": "stdout",
     "output_type": "stream",
     "text": [
      "[[  4.    1.5   2. ]\n",
      " [  0.   -9.  100. ]]\n",
      "[[  4.    1.5   2. ]\n",
      " [  0.   -9.  100. ]]\n"
     ]
    }
   ],
   "source": [
    "print(Y)\n",
    "print(np.loadtxt(\"numpy_tutorial_Y.txt\")) # 同じ配列"
   ]
  },
  {
   "cell_type": "markdown",
   "metadata": {},
   "source": [
    "<a id='speed_test'></a>\n",
    "\n",
    "\n",
    "## 2.7 Python標準機能と速度比較"
   ]
  },
  {
   "cell_type": "markdown",
   "metadata": {},
   "source": [
    "これまでの紹介で，`np.ndarray`は便利な関数を多数持っていることが分かりました．しかし本当に速いのでしょうか？ベクトルの和の演算を題材に，速度比較をしてみましょう．\n",
    "まず要素数1万のランダムな`np.ndarray`のベクトルを生成します．次に，それのリストヴァージョンを生成します．そして，\n",
    "1. `np.ndarray`に`np.sum`関数\n",
    "2. `np.ndarray`に`sum_naive`関数(`for`ループで愚直に計算)\n",
    "3. `np.ndarray`にPython標準の`sum`関数\n",
    "4. `list`に`np.sum`関数\n",
    "5. `list`に`sum_naive`関数(`for`ループで愚直に計算)\n",
    "6. `list`にPython標準の`sum`関数\n",
    "\n",
    "の3*2の計6つを比較してみます．"
   ]
  },
  {
   "cell_type": "code",
   "execution_count": 49,
   "metadata": {},
   "outputs": [
    {
     "name": "stdout",
     "output_type": "stream",
     "text": [
      "8.69 µs ± 761 ns per loop (mean ± std. dev. of 7 runs, 100000 loops each)\n",
      "2.37 ms ± 226 µs per loop (mean ± std. dev. of 7 runs, 100 loops each)\n",
      "1.58 ms ± 57.5 µs per loop (mean ± std. dev. of 7 runs, 1000 loops each)\n",
      "767 µs ± 20.4 µs per loop (mean ± std. dev. of 7 runs, 1000 loops each)\n",
      "1.11 ms ± 32.9 µs per loop (mean ± std. dev. of 7 runs, 1000 loops each)\n",
      "1.12 ms ± 72.6 µs per loop (mean ± std. dev. of 7 runs, 1000 loops each)\n"
     ]
    }
   ],
   "source": [
    "# forで和を計算する関数\n",
    "def sum_naive(x):\n",
    "    res = 0\n",
    "    for val in x:\n",
    "        res += val\n",
    "    return res\n",
    "\n",
    "a = np.random.rand(10000) # 各要素が0から1の，要素数10000のベクトルを生成 np.randomはランダムな配列を作成したりするのに用いるクラス\n",
    "a_list  = list(a) # リストに変換\n",
    "# %timeit 処理　で処理の時間を計測\n",
    "%timeit np.sum(a)\n",
    "%timeit sum_naive(a)\n",
    "%timeit sum(a)\n",
    "%timeit np.sum(a_list)\n",
    "%timeit sum_naive(a_list)\n",
    "%timeit sum(a_list)"
   ]
  },
  {
   "cell_type": "markdown",
   "metadata": {},
   "source": [
    "一番上の`np.ndarray`に`np.sum`を用いた場合が**圧倒的に速い**ことが分かります（同時に，`for`で愚直に行う場合は標準の`list`の方が速いということも分かりました）．したがって，`np.ndarray`に何か処理を行いたい場合，`numpy`に対応する関数があるか否かをまず調べることをおすすめします．\n",
    "\n",
    "NumPyにはこれ以外にも多数の便利な関数・機能があります．使いつつ，調べつつ，身に着けていきましょう．"
   ]
  },
  {
   "cell_type": "markdown",
   "metadata": {},
   "source": [
    "<a id='summary'></a>\n",
    "\n",
    "\n",
    "## 2.8 まとめ\n",
    "- NumPyはPythonの数値計算のためのライブラリです．`ndarray`は多次元配列のためのクラスです．\n",
    "- 配列の基本情報には以下のようなものがあります：\n",
    "    - 配列の形：`配列.shape`\n",
    "    - 配列の次元：`配列.ndim`\n",
    "    - 配列の各要素の型：`配列.dtype`\n",
    "    - 配列の要素数：`配列.size`\n",
    "- 紹介した演算の中から抜粋しただけでも，\n",
    "    - 定数和：`+`\n",
    "    - 定数倍：`*`\n",
    "    - 複数の配列の要素ごとの和：`+`\n",
    "    - 複数の配列の要素ごとの積：`*`\n",
    "    - ベクトルの連結：`np.append`\n",
    "    - 行列の連結：`np.concatenate`\n",
    "    - 転置：`np.transpose` or `配列.T`\n",
    "    - 次元の指定：`axis`\n",
    "    - 要素の和：`np.sum`\n",
    "    - 要素の積：`np.prod`\n",
    "    - 平均：`np.mean`\n",
    "    - 最大値/最小値：`np.max` / `np.min`\n",
    "    - 最大値の添え字/最小値の添え字：`np.argmax`/`np.argmin`\n",
    "    - 要素ごと絶対値：`np.abs`\n",
    "    - 要素ごとの指数/対数：`np.exp`/`np.log`\n",
    "    - 要素ごとの三角関数：`np.cos`/`np.sin`/`np.tan`\n",
    "    - ソート：`np.sort`\n",
    "    - ソートした結果の添え字：`np.argsort`\n",
    " \n",
    "  といった様々な演算がサポートされています．演算の方向を指定するのに`axis`引数を用います．\n",
    "- いくつかの特殊な形の行列は直接作成することができます．\n",
    "    - ゼロ行列：`np.zeros`\n",
    "    - all-ones行列：`np.ones`\n",
    "    - 整数の等差数列のベクトル：`np.arange`\n",
    "    - 単位行列：`np.eye`\n",
    "- 行列演算を行う際`for`ループを回しがちですが，NumPyの標準の関数を使うほうが圧倒的に速いです．できるだけそちらを使いましょう．"
   ]
  },
  {
   "cell_type": "markdown",
   "metadata": {},
   "source": [
    "<a id='pointer'></a>\n",
    "\n",
    "\n",
    "## 付録：NumPyに関するリンク\n",
    "NumPy公式：https://numpy.org/\n",
    "- 公式チュートリアル：https://numpy.org/devdocs/user/quickstart.html\n",
    "\n",
    "- 基本操作についてのドキュメント：https://numpy.org/devdocs/user/basics.html\n",
    "\n",
    "- 線形代数のサブパッケージ（**おそらく実験で使います**）：https://numpy.org/devdocs/reference/routines.linalg.html\n",
    "\n",
    "産総研の神嶌 敏弘さんによる機械学習+Pythonのチュートリアル：http://www.kamishima.net/mlmpyja/\n",
    "- 特にNumPyについて： http://www.kamishima.net/mlmpyja/nbayes1/ndarray.html\n"
   ]
  },
  {
   "cell_type": "code",
   "execution_count": null,
   "metadata": {},
   "outputs": [],
   "source": []
  }
 ],
 "metadata": {
  "kernelspec": {
   "display_name": "Python 3",
   "language": "python",
   "name": "python3"
  },
  "language_info": {
   "codemirror_mode": {
    "name": "ipython",
    "version": 3
   },
   "file_extension": ".py",
   "mimetype": "text/x-python",
   "name": "python",
   "nbconvert_exporter": "python",
   "pygments_lexer": "ipython3",
   "version": "3.7.4"
  }
 },
 "nbformat": 4,
 "nbformat_minor": 4
}
