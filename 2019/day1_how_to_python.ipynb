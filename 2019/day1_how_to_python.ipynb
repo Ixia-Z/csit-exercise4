{
 "cells": [
  {
   "cell_type": "markdown",
   "metadata": {},
   "source": [
    "# 1. Python入門\n",
    "この資料はPython3のドキュメントhttps://docs.python.org/ja/3/index.html に基づいています。また、この資料はPythonの基本的な使い方のうち、本演習で用いる可能性の高いもののみを紹介しています。\n",
    "\n",
    "わからないことがあったらWeb上にたくさん情報があるので調べてみてください。"
   ]
  },
  {
   "cell_type": "markdown",
   "metadata": {
    "toc-hr-collapsed": false
   },
   "source": [
    "\n",
    "## 1.1 Pythonとは\n",
    "Python（パイソン）は、汎用のプログラミング言語で、コードがシンプルで扱いやすく書けるように設計されており、C言語などに比べてさまざまなプログラムを分かりやすく、少ないコード行数で書けるといった特徴があります。標準のライブラリのほか、様々な領域に特化したサードパーティ製のライブラリ・ツール群が入手可能であり、使用目的に応じ自由に機能を拡張していくことができます。Pythonの適用範囲は、Webアプリケーションやデスクトップアプリケーションなどの開発はもとより、システム用の記述 (script) や、各種の自動処理、理工学や統計・解析など、幅広い領域に及んでいます。\n",
    "\n",
    "Pythonはインタプリタ上で実行すること前提に設計されています。\n",
    "\n",
    "### 1.1.1 インタプリタ\n",
    "\n",
    "Pythonにおけるインタプリタとは、ソースコードを何らかの中間表現に逐次変換しながら、実行するプログラム言語処理系のことです。\n",
    "コンパイル方式はソースコードを機械語等で記述されたファイルに翻訳してから実行しますが、それとは異なり、インタプリタはソースコードをそのまま解釈・実行します。\n",
    "\n",
    "Pythonのインタプリタを使ってみましょう。コマンドプロンプト（端末）を新たに起動して（このノートブックを起動した際のコマンドプロンプトを落とさないように！）次のようにPythonインタプリタを起動します。\n",
    "\n",
    "`$ python3`\n",
    "\n",
    "すると細部は違うかもしれませんが、以下のような出力が得られれば、無事Pythonのインタプリタが起動できています。\n",
    "\n",
    "`Python 3.6.7 (default, Oct 22 2018, 11:32:17)`   \n",
    "`[GCC 8.2.0] on linux`  \n",
    "`Type \"help\", \"copyright\", \"credits\" or \"license\" for more information.`  \n",
    "`>>>`  \n",
    "\n",
    "インタプリタはコマンドプロンプトから対話的に使うことができます。\"Hello World!\"をprint文で出力してみましょう\n",
    "\n",
    "`>>> print('Hello World!')`  \n",
    "`Hello World!`\n",
    "\n",
    "簡単な四則演算を行うことも可能です。\n",
    "\n",
    "`>>>  (6 * (3**2) - 5*6) / 4`  \n",
    "`6.0`  \n",
    "\n",
    "`>>> 1.1 * 2 - 3`  \n",
    "`-0.7999999999999998`\n",
    "\n",
    "インタプリタの対話モードを終了するにはexit()、 quit()を入力、またはctrl+Dです。\n",
    "\n",
    "スクリプトが書かれたファイルをインタプリタで実行するには\n",
    "\n",
    "`$ python3 hoge.py`\n",
    "\n",
    "とします。\n",
    "\n",
    "\n",
    "### 1.1.2 Jupyter Notebookとは\n",
    "この演習ではJupyter NotebookというPythonのブラウザ上での実行環境を使います。Jupyter NotebookとはPythonのコマンドラインでの対話モードを拡張したものです。コードの出力結果やメモ等を記録しておくことができ(変数や関数を複数のセルに渡って使用することができます)、機械学習・データサイエンスのツールとしてよく使われています。\n",
    "\n",
    "演習の説明とサンプルコード・実行環境をまとめて用意できるので、配布資料はJupyter Notebookで書かれています。\n",
    "\n",
    "ではJupyter Notebookでprint文や四則演算を実行してみましょう。**上の実行ボタン（Run）またはshift+enterで実行できます。**"
   ]
  },
  {
   "cell_type": "code",
   "execution_count": 1,
   "metadata": {},
   "outputs": [
    {
     "name": "stdout",
     "output_type": "stream",
     "text": [
      "Hello Wolrd!\n"
     ]
    }
   ],
   "source": [
    "print('Hello Wolrd!')"
   ]
  },
  {
   "cell_type": "code",
   "execution_count": 2,
   "metadata": {},
   "outputs": [
    {
     "data": {
      "text/plain": [
       "6.0"
      ]
     },
     "execution_count": 2,
     "metadata": {},
     "output_type": "execute_result"
    }
   ],
   "source": [
    "(6 * (3**2) - 5*6) / 4 # 最後に実行した文の結果が出力される = print文を使わなくとも見れる"
   ]
  },
  {
   "cell_type": "code",
   "execution_count": 3,
   "metadata": {},
   "outputs": [
    {
     "data": {
      "text/plain": [
       "5"
      ]
     },
     "execution_count": 3,
     "metadata": {},
     "output_type": "execute_result"
    }
   ],
   "source": [
    "2019 % 19"
   ]
  },
  {
   "cell_type": "markdown",
   "metadata": {},
   "source": [
    "このようにJupyter Notebookでは、ソースコードをセルに記述して実行します。課題に取り組む際は、新たにJupyter Notebookファイルを作り、そこにソースコードを記述し、実行していくことになります。\n",
    "新たなJupyter Notebookファイルの作成は、画面左側のメニューの、左上の「+」によって行えます。\n",
    "\n",
    "では、実際に手を（セルを）動かしながらPythonについて学んでいきましょう。"
   ]
  },
  {
   "cell_type": "markdown",
   "metadata": {
    "toc-hr-collapsed": true
   },
   "source": [
    "## 1.2 変数"
   ]
  },
  {
   "cell_type": "markdown",
   "metadata": {
    "toc-hr-collapsed": true
   },
   "source": [
    "### 1.2.1 数値型\n",
    "整数はint型、小数部を持つ数はfloat型です。"
   ]
  },
  {
   "cell_type": "code",
   "execution_count": 4,
   "metadata": {},
   "outputs": [
    {
     "name": "stdout",
     "output_type": "stream",
     "text": [
      "3\n"
     ]
    }
   ],
   "source": [
    "a = 1\n",
    "b = 2\n",
    "c = a + b\n",
    "print(c) # print関数に投げるだけで変数を出力できる"
   ]
  },
  {
   "cell_type": "code",
   "execution_count": 5,
   "metadata": {},
   "outputs": [
    {
     "name": "stdout",
     "output_type": "stream",
     "text": [
      "2.1\n",
      "<class 'float'>\n"
     ]
    }
   ],
   "source": [
    "x = 0.1\n",
    "y = a * x + b\n",
    "print(y)\n",
    "print(type(y))"
   ]
  },
  {
   "cell_type": "markdown",
   "metadata": {},
   "source": [
    "変数の型のキャストは以下のように行います。"
   ]
  },
  {
   "cell_type": "code",
   "execution_count": 6,
   "metadata": {},
   "outputs": [
    {
     "name": "stdout",
     "output_type": "stream",
     "text": [
      "1\n",
      "1.0\n"
     ]
    }
   ],
   "source": [
    "x = 1.1\n",
    "y = int(x)\n",
    "print(y)\n",
    "\n",
    "print(float(y))"
   ]
  },
  {
   "cell_type": "markdown",
   "metadata": {},
   "source": [
    "Pythonは**動的型付け**です。つまり変数の型が実行中に動的に変化します。あらかじめ変数の型を宣言する必要はなく、また変数に現在の型とは異なる値を代入することができます。"
   ]
  },
  {
   "cell_type": "code",
   "execution_count": 7,
   "metadata": {},
   "outputs": [
    {
     "name": "stdout",
     "output_type": "stream",
     "text": [
      "2.0\n",
      "<class 'float'>\n",
      "21\n",
      "<class 'int'>\n"
     ]
    }
   ],
   "source": [
    "a = 2\n",
    "b = 1\n",
    "x = 0.5\n",
    "y = a * x + b\n",
    "print(y)\n",
    "print(type(y))\n",
    "\n",
    "x = 10\n",
    "y = a * x + b\n",
    "print(y)\n",
    "print(type(y))"
   ]
  },
  {
   "cell_type": "markdown",
   "metadata": {},
   "source": [
    "### 1.2.2 リスト\n",
    "Pythonには複数の値をまとめるデータ構造が色々と用意されています。最も汎用性が高いのは リスト (list) で、コンマ区切りの値 (要素) の並びを角括弧で囲んだものとして書き表されます。リストは異なる型の要素を含むこともありますが、通常は同じ型の要素のみを持ちます。"
   ]
  },
  {
   "cell_type": "code",
   "execution_count": 8,
   "metadata": {},
   "outputs": [
    {
     "name": "stdout",
     "output_type": "stream",
     "text": [
      "9\n",
      "nine\n",
      "<class 'str'>\n"
     ]
    }
   ],
   "source": [
    "sequence = [1, 4, 9, 16, 25, 36, 49]\n",
    "print(sequence[2])\n",
    "\n",
    "# 異なる型の要素を含む\n",
    "hetero_seq  = [1, 4, 'nine', 16.0, 25] # 'nine'は文字列型（後述）\n",
    "print(hetero_seq[2])\n",
    "print(type(hetero_seq[2]))"
   ]
  },
  {
   "cell_type": "markdown",
   "metadata": {},
   "source": [
    "C言語の配列と異なり、Pythonのリストは要素に柔軟にアクセスすることが可能です。`:`を用いたアクセスはスライスと呼ばれ、リストを返します。"
   ]
  },
  {
   "cell_type": "code",
   "execution_count": 9,
   "metadata": {},
   "outputs": [
    {
     "name": "stdout",
     "output_type": "stream",
     "text": [
      "[1, 4, 9]\n",
      "[1, 4, 9]\n",
      "[9, 16, 25]\n",
      "[16, 25, 36, 49]\n",
      "49\n",
      "[25, 36, 49]\n",
      "[9, 16, 25, 36]\n",
      "[1, 9, 25]\n",
      "[49, 36, 25, 16, 9, 4, 1]\n"
     ]
    }
   ],
   "source": [
    "# 先頭の3つの要素 / インデックスが0から2の要素\n",
    "print(sequence[:3])\n",
    "print(sequence[0:3])\n",
    "\n",
    "# インデックスが2から4の要素\n",
    "print(sequence[2:5])\n",
    "\n",
    "# インデックスが3の要素から末尾まで\n",
    "print(sequence[3:])\n",
    "\n",
    "# - (マイナス)を付けると後ろから数える\n",
    "# 末尾の要素\n",
    "# スライスではないので要素の値を返す\n",
    "print(sequence[-1])\n",
    "# 後ろから3番目の要素から末尾まで\n",
    "print(sequence[-3:])\n",
    "\n",
    "# インデックスが2の要素から末尾の一つ前まで\n",
    "print(sequence[2:-1])\n",
    "\n",
    "# インデックスが0から5まで，2つごとにアクセス\n",
    "print(sequence[0:5:2])\n",
    "\n",
    "# 逆順に表示\n",
    "print(sequence[::-1])"
   ]
  },
  {
   "cell_type": "markdown",
   "metadata": {},
   "source": [
    "次のようにリストの要素を変更します。"
   ]
  },
  {
   "cell_type": "code",
   "execution_count": 10,
   "metadata": {},
   "outputs": [
    {
     "name": "stdout",
     "output_type": "stream",
     "text": [
      "[1, 4, 9, 16, 25, 36, 329]\n",
      "[1, 4, 27, 64, 125, 36, 329]\n"
     ]
    }
   ],
   "source": [
    "sequence[6] = 329\n",
    "print(sequence)\n",
    "\n",
    "sequence[2:5] = [27, 64, 125]\n",
    "print(sequence)"
   ]
  },
  {
   "cell_type": "markdown",
   "metadata": {},
   "source": [
    "リストは次のように連結することができます。"
   ]
  },
  {
   "cell_type": "code",
   "execution_count": 11,
   "metadata": {},
   "outputs": [
    {
     "data": {
      "text/plain": [
       "[1, 4, 9, 16, 25]"
      ]
     },
     "execution_count": 11,
     "metadata": {},
     "output_type": "execute_result"
    }
   ],
   "source": [
    "seq1 = [1, 4, 9]\n",
    "seq2 = [16, 25]\n",
    "seq3 = seq1 + seq2\n",
    "seq3"
   ]
  },
  {
   "cell_type": "markdown",
   "metadata": {},
   "source": [
    "`len()`関数でリストの長さが得られます。"
   ]
  },
  {
   "cell_type": "code",
   "execution_count": 12,
   "metadata": {},
   "outputs": [
    {
     "data": {
      "text/plain": [
       "5"
      ]
     },
     "execution_count": 12,
     "metadata": {},
     "output_type": "execute_result"
    }
   ],
   "source": [
    "len(seq3)"
   ]
  },
  {
   "cell_type": "markdown",
   "metadata": {},
   "source": [
    "リストには次のようにいくつかのメソッドが用意されています。ここでは全てを紹介しないので、詳しくはhttps://docs.python.org/ja/3/tutorial/datastructures.html#more-on-lists\n",
    "を参照してください。"
   ]
  },
  {
   "cell_type": "code",
   "execution_count": 13,
   "metadata": {},
   "outputs": [
    {
     "name": "stdout",
     "output_type": "stream",
     "text": [
      "[1, 4, 9, 16]\n",
      "9\n"
     ]
    }
   ],
   "source": [
    "# リストの末尾に値を追加する\n",
    "seq1.append(16)\n",
    "print(seq1)\n",
    "\n",
    "# リストの指定した要素を削除し、その値を返す\n",
    "# pop()は末尾の値\n",
    "val = seq1.pop(2)\n",
    "print(val)"
   ]
  },
  {
   "cell_type": "markdown",
   "metadata": {},
   "source": [
    "#### リストを扱う際の注意（やや発展的）\n",
    "リストを扱う上で注意しなければならない点があります。典型的な例を示します。"
   ]
  },
  {
   "cell_type": "code",
   "execution_count": 14,
   "metadata": {},
   "outputs": [],
   "source": [
    "a = [1, 2, 3]\n",
    "b = a\n",
    "b[0] = 0"
   ]
  },
  {
   "cell_type": "markdown",
   "metadata": {},
   "source": [
    "ここで`print(a)`でリスト`a`の要素を確認しましょう。直感的には`[1, 2, 3]`が出力されると期待しますが、"
   ]
  },
  {
   "cell_type": "code",
   "execution_count": 15,
   "metadata": {},
   "outputs": [
    {
     "name": "stdout",
     "output_type": "stream",
     "text": [
      "[0, 2, 3]\n"
     ]
    }
   ],
   "source": [
    "print(a)"
   ]
  },
  {
   "cell_type": "markdown",
   "metadata": {},
   "source": [
    "実際には`[0, 2, 3]`が出力されます。これはリスト`b`の要素なはずです。\n",
    "\n",
    "なぜこのような現象が起きるのかというと、`b = a`の代入文で、`a`の識別値を代入しているからです。識別値とはC言語でいうところのポインタで、Pythonの全てのオブジェクトは識別値を持っています。識別値は`id()`を使って確認できます。"
   ]
  },
  {
   "cell_type": "code",
   "execution_count": 16,
   "metadata": {},
   "outputs": [
    {
     "name": "stdout",
     "output_type": "stream",
     "text": [
      "139975724707104\n",
      "139975724707104\n"
     ]
    }
   ],
   "source": [
    "print(id(a))\n",
    "print(id(b))"
   ]
  },
  {
   "cell_type": "markdown",
   "metadata": {},
   "source": [
    "変数`a` `b`が同じ識別値を持っているのが確認できました。\n",
    "C言語でいう「ポインタ渡し」のようになっていると理解できます：変数が表すオブジェクトがコピーされて渡されるのでなはなく、変数が表すオブジェクトへのポインタが渡されています。\n",
    "実はPythonでは、**リストに限らず変数への代入は値渡しではなくポインタ渡しで行われます。**\n",
    "以下の例がそれを示しています。"
   ]
  },
  {
   "cell_type": "code",
   "execution_count": 17,
   "metadata": {},
   "outputs": [
    {
     "name": "stdout",
     "output_type": "stream",
     "text": [
      "139975900587488\n",
      "139975900587488\n"
     ]
    }
   ],
   "source": [
    "c = 123\n",
    "d = c\n",
    "print(id(c))\n",
    "print(id(d))"
   ]
  },
  {
   "cell_type": "markdown",
   "metadata": {},
   "source": [
    "`c`と`d`、どちらもint型のオブジェクトを表していますが、識別値はどちらも同じです。つまり，int型の場合もポインタ渡しになっています。\n",
    "\n",
    "しかし、以下の例ではリストと異なる挙動をしています：`d`に再代入しても`c`の値は変わっていません。そして`d`の識別値が変わっています。"
   ]
  },
  {
   "cell_type": "code",
   "execution_count": 18,
   "metadata": {},
   "outputs": [
    {
     "name": "stdout",
     "output_type": "stream",
     "text": [
      "123\n",
      "139975900587488\n",
      "139975900591040\n"
     ]
    }
   ],
   "source": [
    "d = 234\n",
    "print(c)\n",
    "print(id(c))\n",
    "print(id(d))"
   ]
  },
  {
   "cell_type": "markdown",
   "metadata": {},
   "source": [
    "この挙動の違いはmutable（可変）なオブジェクトなのか、immutable（不可変）なオブジェクトなのか、にあります。\n",
    "\n",
    "リストはmutable（可変な）オブジェクトであり、名前の通り変更可能なオブジェクトです。一度作られたオブジェクトの中身を変更・操作することができます。\n",
    "\n",
    "一方、数値・文字列はimmutable（非可変な）オブジェクトであり、変更が不可能なオブジェクトです。既に定義されたimmutableなオブジェクトのポインタを持つ変数に、再度（同じ型の）値を代入しようとすると、新たにオブジェクトが作成され、変数はそちらを指すようになります。つまり、`d=234`という式は、一見すると「変数`d`の中身を`234`に変える=変数`d`の指すオブジェクトの持つ値を`234`に変える」ように見えますが、実際は「`234`という値を持つオブジェクトをメモリ上のどこかに作成し、その識別値（ポインタ）を`d`に渡す」という処理になっています。\n",
    "2年生のC言語を用いた計算機プログラミング演習では、「変数は箱」と教わったかもしれません。しかし、Pythonにおいては、変数は箱というよりは「ラベル」と考えた方が良いでしょう（Java言語における参照型変数と同じです）。\n",
    "\n",
    "\n",
    "よく分からないという人は、これは半分間違いですが、挙動としては「mutableなオブジェクト（リスト等）はポインタ渡し」「immutableなオブジェクト（数値型・文字列）は値渡し、immutableなオブジェクトでリストのようなものは再代入はできるが中身の変更はできない」と考えれば良いです。"
   ]
  },
  {
   "cell_type": "markdown",
   "metadata": {},
   "source": [
    "int型の`c`と`d`の例のように、`b`に`a`が表すリストの値をコピーしたいときは、例えばスライスを用いて次のように書けます。\n",
    "結果から分かるように、コピーが作成され代入されているため、`a`と`b`の識別値は異なり、異なるオブジェクトを指しています。そのため、`b`の中身を操作しても`a`の中身は変更されていません。"
   ]
  },
  {
   "cell_type": "code",
   "execution_count": 19,
   "metadata": {},
   "outputs": [
    {
     "name": "stdout",
     "output_type": "stream",
     "text": [
      "139975724757872\n",
      "139975724757792\n",
      "[1, 2, 3] [0, 2, 3]\n",
      "139975724757872\n",
      "139975724757792\n"
     ]
    }
   ],
   "source": [
    "a = [1, 2, 3]\n",
    "b = a[:]\n",
    "print(id(a))\n",
    "print(id(b))\n",
    "\n",
    "b[0] = 0\n",
    "print(a, b)\n",
    "print(id(a))\n",
    "print(id(b))"
   ]
  },
  {
   "cell_type": "markdown",
   "metadata": {},
   "source": [
    "リストのようなシーケンスを扱うデータ構造で、immutableなものがタプル(tuple)です。気になる人は調べてみてください。\n",
    "\n",
    "細かい話はここまでにして、次は文字列型を紹介します。"
   ]
  },
  {
   "cell_type": "markdown",
   "metadata": {},
   "source": [
    "### 1.2.3 文字列型(string)"
   ]
  },
  {
   "cell_type": "markdown",
   "metadata": {},
   "source": [
    "Pythonで文字列(str型)を扱うには、`'`で囲むか`\"`で囲みます。"
   ]
  },
  {
   "cell_type": "code",
   "execution_count": 20,
   "metadata": {},
   "outputs": [
    {
     "name": "stdout",
     "output_type": "stream",
     "text": [
      "hogehoge\n",
      "<class 'str'>\n"
     ]
    }
   ],
   "source": [
    "hoge = 'hogehoge'\n",
    "print(hoge)\n",
    "print(type(hoge))"
   ]
  },
  {
   "cell_type": "markdown",
   "metadata": {},
   "source": [
    "文字列はインデックスを指定して文字を取得できます。Pythonでは文字を表すデータ型は用意されておらず、文字は長さ1の文字列です。文字列の長さは`len()`関数で得られます。"
   ]
  },
  {
   "cell_type": "code",
   "execution_count": 21,
   "metadata": {},
   "outputs": [
    {
     "name": "stdout",
     "output_type": "stream",
     "text": [
      "e\n",
      "<class 'str'>\n",
      "eh\n",
      "8\n"
     ]
    }
   ],
   "source": [
    "print(hoge[3])\n",
    "print(type(hoge[3]))\n",
    "print(hoge[3:5])\n",
    "\n",
    "# 文字列の長さ\n",
    "print(len(hoge))"
   ]
  },
  {
   "cell_type": "markdown",
   "metadata": {},
   "source": [
    "次のようにint型からstr型にキャストできます。"
   ]
  },
  {
   "cell_type": "code",
   "execution_count": 22,
   "metadata": {},
   "outputs": [
    {
     "name": "stdout",
     "output_type": "stream",
     "text": [
      "<class 'int'>\n",
      "<class 'str'>\n"
     ]
    }
   ],
   "source": [
    "num = 12345\n",
    "print(type(num))\n",
    "\n",
    "strnum = str(num)\n",
    "print(type(strnum))"
   ]
  },
  {
   "cell_type": "markdown",
   "metadata": {},
   "source": [
    "文字列はimmutableなオブジェクトです。そのため、オブジェクトの変更操作はできません。例えば、先ほど定義した文字列型の変数`hoge`の2番目の要素を変更しようとするとエラーとなります。"
   ]
  },
  {
   "cell_type": "code",
   "execution_count": 23,
   "metadata": {},
   "outputs": [
    {
     "ename": "TypeError",
     "evalue": "'str' object does not support item assignment",
     "output_type": "error",
     "traceback": [
      "\u001b[0;31m---------------------------------------------------------------------------\u001b[0m",
      "\u001b[0;31mTypeError\u001b[0m                                 Traceback (most recent call last)",
      "\u001b[0;32m<ipython-input-23-929667e35cf9>\u001b[0m in \u001b[0;36m<module>\u001b[0;34m\u001b[0m\n\u001b[0;32m----> 1\u001b[0;31m \u001b[0mhoge\u001b[0m\u001b[0;34m[\u001b[0m\u001b[0;36m2\u001b[0m\u001b[0;34m]\u001b[0m \u001b[0;34m=\u001b[0m \u001b[0;34m'a'\u001b[0m\u001b[0;34m\u001b[0m\u001b[0;34m\u001b[0m\u001b[0m\n\u001b[0m",
      "\u001b[0;31mTypeError\u001b[0m: 'str' object does not support item assignment"
     ]
    }
   ],
   "source": [
    "hoge[2] = 'a'"
   ]
  },
  {
   "cell_type": "markdown",
   "metadata": {},
   "source": [
    "新たに文字列型の変数を代入すること自体は問題なくできます。その場合、オブジェクトの識別値（ポインタ）は変わります。"
   ]
  },
  {
   "cell_type": "code",
   "execution_count": 24,
   "metadata": {},
   "outputs": [
    {
     "name": "stdout",
     "output_type": "stream",
     "text": [
      "139975724761584\n",
      "139975724735920\n"
     ]
    }
   ],
   "source": [
    "print(id(hoge))\n",
    "hoge = 'fugafuga'\n",
    "print(id(hoge))"
   ]
  },
  {
   "cell_type": "markdown",
   "metadata": {},
   "source": [
    "Pythonの文字列型は非常に柔軟な演算をサポートしています。例えば、`+`で連結、`*`で繰り返し、`split`で分割、等があります。"
   ]
  },
  {
   "cell_type": "code",
   "execution_count": 25,
   "metadata": {},
   "outputs": [
    {
     "name": "stdout",
     "output_type": "stream",
     "text": [
      "hogefuga\n",
      "hogehogehoge\n",
      "['hoge', 'fuga', 'hoge']\n"
     ]
    }
   ],
   "source": [
    "hoge = 'hoge'\n",
    "fuga = 'fuga'\n",
    "hogefuga = hoge + fuga # hogeとfugaを連結\n",
    "print(hogefuga)\n",
    "hogehogehoge = hoge*3 # hogeを3回繰り返す\n",
    "print(hogehogehoge)\n",
    "hoge_fuga_hoge = 'hoge_fuga_hoge'\n",
    "print(hoge_fuga_hoge.split('_')) # _ で分割"
   ]
  },
  {
   "cell_type": "markdown",
   "metadata": {},
   "source": [
    "`print`文と合せて良く使われるものとして`format`メソッドがあります。`format`によって、変数と文字列を上手く連結させることができます。\n",
    "`format`は、`文字列.format(変数0, 変数1, 変数2, ...)`というように使います。`文字列`の中に`{}`が含まれている場合、その位置に変数が順に挿入されます。`{番号}`とすることで、挿入する変数を指定することもできます。他にも機能はありあます（小数点の桁の指定等）が、詳しくは調べてみてください。"
   ]
  },
  {
   "cell_type": "code",
   "execution_count": 26,
   "metadata": {},
   "outputs": [
    {
     "name": "stdout",
     "output_type": "stream",
     "text": [
      "1+1は2，1+2は3\n",
      "1+1は2，1+2は3\n",
      "1+2は3，1+1は2\n"
     ]
    }
   ],
   "source": [
    "print(\"1+1は\"+str(2)+\"，1+2は\"+str(3))\n",
    "print(\"1+1は{}，1+2は{}\".format(2,3)) # 上と同じだがこちらの方が分かりやすく柔軟\n",
    "print(\"1+2は{1}，1+1は{0}\".format(2,3)) # 最初の{}には1番目の値=3を、二番目の{}には0番目の値=2を入れる"
   ]
  },
  {
   "cell_type": "markdown",
   "metadata": {
    "toc-hr-collapsed": true
   },
   "source": [
    "## 1.3 制御フローツール\n",
    "Pythonでは**ifやforに続く行はインデントされてなければなりません。**もっと一般には、**Pythonではインデントを用いてブロックが表現されます。**"
   ]
  },
  {
   "cell_type": "markdown",
   "metadata": {},
   "source": [
    "### 1.3.1 if文\n",
    "if文は次のように書きます。\n"
   ]
  },
  {
   "cell_type": "code",
   "execution_count": 27,
   "metadata": {},
   "outputs": [
    {
     "name": "stdout",
     "output_type": "stream",
     "text": [
      "non negative\n"
     ]
    }
   ],
   "source": [
    "x = 123\n",
    "\n",
    "if x < 0:\n",
    "    print('negative')\n",
    "else:\n",
    "    print('non negative')"
   ]
  },
  {
   "cell_type": "code",
   "execution_count": 28,
   "metadata": {},
   "outputs": [
    {
     "name": "stdout",
     "output_type": "stream",
     "text": [
      "buzz\n"
     ]
    }
   ],
   "source": [
    "n = 100\n",
    "\n",
    "if n % 3 == 0 and n % 5 == 0: # and, orを使う\n",
    "    print('fizzbuzz')\n",
    "elif n % 3 == 0:\n",
    "    print('fizz')\n",
    "elif n % 5 == 0:\n",
    "    print('buzz')\n",
    "else:\n",
    "    print('')"
   ]
  },
  {
   "cell_type": "markdown",
   "metadata": {},
   "source": [
    "### 1.3.2 for文, while文"
   ]
  },
  {
   "cell_type": "markdown",
   "metadata": {},
   "source": [
    "Pythonでのfor文を用いた反復は以下のように書きます。"
   ]
  },
  {
   "cell_type": "code",
   "execution_count": 29,
   "metadata": {},
   "outputs": [
    {
     "name": "stdout",
     "output_type": "stream",
     "text": [
      "0\n",
      "1\n",
      "2\n",
      "3\n",
      "4\n"
     ]
    }
   ],
   "source": [
    "for i in range(5):\n",
    "    print(i)"
   ]
  },
  {
   "cell_type": "code",
   "execution_count": 30,
   "metadata": {},
   "outputs": [
    {
     "name": "stdout",
     "output_type": "stream",
     "text": [
      "5\n",
      "6\n",
      "7\n",
      "8\n",
      "9\n"
     ]
    }
   ],
   "source": [
    "for i in range(5,10):\n",
    "    print(i)"
   ]
  },
  {
   "cell_type": "markdown",
   "metadata": {},
   "source": [
    "Pythonのfor文は柔軟です。リスト、または文字列に渡って反復を行うこと（リストの中身を順に取り出すこと）も可能です。"
   ]
  },
  {
   "cell_type": "code",
   "execution_count": 32,
   "metadata": {},
   "outputs": [
    {
     "name": "stdout",
     "output_type": "stream",
     "text": [
      "h\n",
      "o\n",
      "g\n",
      "e\n",
      "f\n",
      "u\n",
      "g\n",
      "a\n",
      "a\n"
     ]
    }
   ],
   "source": [
    "hoge = 'hogefuga'\n",
    "for w in hoge: # 'hogefuga'から一文字ずつ順に取り出す\n",
    "    print(w)\n",
    "# 以下のように書いても同じ\n",
    "for i in range(len(w)):\n",
    "    print(w[i])"
   ]
  },
  {
   "cell_type": "code",
   "execution_count": 33,
   "metadata": {},
   "outputs": [
    {
     "name": "stdout",
     "output_type": "stream",
     "text": [
      "2\n",
      "4\n",
      "8\n"
     ]
    }
   ],
   "source": [
    "seq = [1, 2, 3]\n",
    "for s in seq:\n",
    "    print(2 ** s)"
   ]
  },
  {
   "cell_type": "markdown",
   "metadata": {},
   "source": [
    "他にも`zip`や`enumerate`という機能もあります。詳しくは調べてみてください。"
   ]
  },
  {
   "cell_type": "markdown",
   "metadata": {},
   "source": [
    "n番目のフィボナッチ数を求めてみましょう。"
   ]
  },
  {
   "cell_type": "code",
   "execution_count": 34,
   "metadata": {},
   "outputs": [
    {
     "name": "stdout",
     "output_type": "stream",
     "text": [
      "fibonacci [0, 1, 1, 2, 3, 5, 8, 13, 21, 34, 55]\n"
     ]
    }
   ],
   "source": [
    "n = 10 # nは2以上\n",
    "\n",
    "fibo = [0, 1]\n",
    "for i in range(n-1):\n",
    "    fibo.append(fibo[i] + fibo[i+1])\n",
    "\n",
    "print('fibonacci {}'.format(fibo)) # {}がformat()の引数に置き換えられます"
   ]
  },
  {
   "cell_type": "markdown",
   "metadata": {},
   "source": [
    "while文は条件式がTrueのときに反復します。\n",
    "while文を使って\\$\\log(x) = 0\\$を解いてみましょう。"
   ]
  },
  {
   "cell_type": "code",
   "execution_count": 35,
   "metadata": {},
   "outputs": [
    {
     "name": "stdout",
     "output_type": "stream",
     "text": [
      "1.0000008978694677\n"
     ]
    }
   ],
   "source": [
    "from math import log # mathモジュールからlog関数をimport(後で説明します）\n",
    "\n",
    "epsilon = 0.00001\n",
    "x1 = 0.01\n",
    "x2 = 1000\n",
    "\n",
    " # while文は条件がTrueのときに反復する\n",
    "while abs(x1 - x2) > epsilon: # absは絶対値を返す関数\n",
    "    x3 = (x1 + x2) / 2\n",
    "    if log(x3) * log(x1) < 0:\n",
    "        x2 = x3\n",
    "    else:\n",
    "        x1 = x3 \n",
    "print(x3)"
   ]
  },
  {
   "cell_type": "code",
   "execution_count": null,
   "metadata": {},
   "outputs": [],
   "source": []
  },
  {
   "cell_type": "markdown",
   "metadata": {},
   "source": [
    " ## 1.4 関数"
   ]
  },
  {
   "cell_type": "markdown",
   "metadata": {},
   "source": [
    "関数は以下のように書きます。"
   ]
  },
  {
   "cell_type": "code",
   "execution_count": 36,
   "metadata": {},
   "outputs": [],
   "source": [
    "def get_fibo(num):\n",
    "    if num == 0:\n",
    "        return 0\n",
    "    elif num == 1:\n",
    "        return 1\n",
    "    else:\n",
    "        return get_fibo(num - 1) + get_fibo(num - 2)"
   ]
  },
  {
   "cell_type": "markdown",
   "metadata": {},
   "source": [
    "これはフィボナッチ数を再帰的に求める関数です。`def` は関数の 定義 (definition) を導くキーワードです。 `def` の後には、関数名と仮引数を丸括弧で囲んだリストを続けます。関数の実体を構成する実行文は次の行から始め、インデントされていなければなりません。引数の型や関数の返り値の型は指定しません。関数は以下のように呼び出します。"
   ]
  },
  {
   "cell_type": "code",
   "execution_count": 37,
   "metadata": {},
   "outputs": [
    {
     "name": "stdout",
     "output_type": "stream",
     "text": [
      "55\n"
     ]
    }
   ],
   "source": [
    "print(get_fibo(10))"
   ]
  },
  {
   "cell_type": "markdown",
   "metadata": {},
   "source": [
    "引数やreturn文を持たない関数も定義可能です。"
   ]
  },
  {
   "cell_type": "markdown",
   "metadata": {},
   "source": [
    "可変個の引数を伴う関数を定義することもできます。もっとも便利なのは、一つ以上の引数に対してデフォルトの値を指定する形式です。この形式を使うと、定義されている引数より少ない個数の引数で呼び出せる関数を作成します。"
   ]
  },
  {
   "cell_type": "code",
   "execution_count": 38,
   "metadata": {},
   "outputs": [],
   "source": [
    "def shop(kind, keeper='Bob', client='Alice'):\n",
    "    print(\"-- Do you have any\", kind, \"?\")\n",
    "    print(\"-- I'm sorry, we're all out of\", kind)\n",
    "    print(\"-\" * 40)\n",
    "    print('shopkeeper: ', keeper)\n",
    "    print('client: ', client)"
   ]
  },
  {
   "cell_type": "markdown",
   "metadata": {},
   "source": [
    "例えば次のような関数呼び出しの仕方があります。"
   ]
  },
  {
   "cell_type": "code",
   "execution_count": 39,
   "metadata": {},
   "outputs": [
    {
     "name": "stdout",
     "output_type": "stream",
     "text": [
      "-- Do you have any food ?\n",
      "-- I'm sorry, we're all out of food\n",
      "----------------------------------------\n",
      "shopkeeper:  Bob\n",
      "client:  Alice\n"
     ]
    }
   ],
   "source": [
    "shop('food')"
   ]
  },
  {
   "cell_type": "code",
   "execution_count": 40,
   "metadata": {},
   "outputs": [
    {
     "name": "stdout",
     "output_type": "stream",
     "text": [
      "-- Do you have any food ?\n",
      "-- I'm sorry, we're all out of food\n",
      "----------------------------------------\n",
      "shopkeeper:  John\n",
      "client:  Alice\n"
     ]
    }
   ],
   "source": [
    "shop('food', keeper='John')"
   ]
  },
  {
   "cell_type": "code",
   "execution_count": 41,
   "metadata": {},
   "outputs": [
    {
     "name": "stdout",
     "output_type": "stream",
     "text": [
      "-- Do you have any food ?\n",
      "-- I'm sorry, we're all out of food\n",
      "----------------------------------------\n",
      "shopkeeper:  Bob\n",
      "client:  Oyama\n"
     ]
    }
   ],
   "source": [
    "shop('food', client='Oyama')"
   ]
  },
  {
   "cell_type": "markdown",
   "metadata": {},
   "source": [
    "\\$\\log(x) = a\\$を解く処理を関数化し、aとepsilonを指定できるようにします。ただしepsilonはデフォルトの値が割り当てられています。"
   ]
  },
  {
   "cell_type": "code",
   "execution_count": 42,
   "metadata": {},
   "outputs": [],
   "source": [
    "# solve log(x) = a\n",
    "def solve_log(a, epsilon=0.01):  \n",
    "    x1 = 100000\n",
    "    x2 = 0.0001\n",
    "    while abs(x1 - x2) > epsilon:\n",
    "        x3 = (x1 + x2) /2\n",
    "        if (log(x3)-a) * (log(x1)-a) < 0:\n",
    "            x2 = x3\n",
    "        else:\n",
    "            x1 = x3 \n",
    "    return x3"
   ]
  },
  {
   "cell_type": "code",
   "execution_count": 43,
   "metadata": {},
   "outputs": [
    {
     "name": "stdout",
     "output_type": "stream",
     "text": [
      "1.99946655300203\n",
      "1.9999999931040806\n"
     ]
    }
   ],
   "source": [
    "print(log(solve_log(2)))\n",
    "print(log(solve_log(2, epsilon=0.0000001)))"
   ]
  },
  {
   "cell_type": "markdown",
   "metadata": {},
   "source": [
    "## 1.5 データ構造（辞書）\n"
   ]
  },
  {
   "cell_type": "markdown",
   "metadata": {},
   "source": [
    "Pythonの有用なデータ構造、辞書型 (dictionary)を紹介します。\n",
    "ある範囲の数でインデクス化されているシーケンス（リストなど）と異なり、**辞書は キー (key) でインデクス化されています**。つまり、リスト等では数字で要素にアクセスしますが、辞書では数字に限らず文字列等で要素にアクセスすることを可能にします。辞書は キー(key): 値(value) のペアの集合であり、キーが (辞書の中で)一意でければならない、と考えるとよいでしょう。波括弧 (brace) のペア: {} は空の辞書を生成します。カンマで区切られた key: value のペアを波括弧ペアの間に入れると、辞書の初期値となる key: value が追加されます。\n",
    "\n",
    "辞書での主な操作は、ある値を何らかのキーを付けて記憶することと、キーを指定して値を取り出すことです。 "
   ]
  },
  {
   "cell_type": "code",
   "execution_count": 44,
   "metadata": {},
   "outputs": [
    {
     "name": "stdout",
     "output_type": "stream",
     "text": [
      "{'jack': 4098, 'sape': 4139}\n",
      "{'jack': 4098, 'sape': 4139, 'bob': 4087}\n",
      "4098\n"
     ]
    }
   ],
   "source": [
    "tel_num = {'jack': 4098, 'sape': 4139}\n",
    "print(tel_num)\n",
    "\n",
    "tel_num['bob'] = 4087 # bobをkeyとして4087を記憶\n",
    "print(tel_num)\n",
    "\n",
    "print(tel_num['jack']) # keyを指定して値を取り出す"
   ]
  },
  {
   "cell_type": "markdown",
   "metadata": {},
   "source": [
    "辞書オブジェクトに対し`list(d)`を実行すると、辞書で使われている全てのキーからなるリストをキーが挿入された順番で返します 。ある単一のキーが辞書にあるかどうか調べるには`in`キーワードを使います。"
   ]
  },
  {
   "cell_type": "code",
   "execution_count": 45,
   "metadata": {},
   "outputs": [
    {
     "name": "stdout",
     "output_type": "stream",
     "text": [
      "['jack', 'sape', 'bob']\n"
     ]
    }
   ],
   "source": [
    "print(list(tel_num))"
   ]
  },
  {
   "cell_type": "code",
   "execution_count": 46,
   "metadata": {},
   "outputs": [
    {
     "data": {
      "text/plain": [
       "True"
      ]
     },
     "execution_count": 46,
     "metadata": {},
     "output_type": "execute_result"
    }
   ],
   "source": [
    "'bob' in tel_num"
   ]
  },
  {
   "cell_type": "code",
   "execution_count": 47,
   "metadata": {},
   "outputs": [
    {
     "data": {
      "text/plain": [
       "False"
      ]
     },
     "execution_count": 47,
     "metadata": {},
     "output_type": "execute_result"
    }
   ],
   "source": [
    "'alice' in tel_num"
   ]
  },
  {
   "cell_type": "markdown",
   "metadata": {},
   "source": [
    "辞書を使ってアルファベットの出現回数を数えてみましょう"
   ]
  },
  {
   "cell_type": "code",
   "execution_count": 48,
   "metadata": {},
   "outputs": [
    {
     "name": "stdout",
     "output_type": "stream",
     "text": [
      "{'a': 4, 'k': 5, 'd': 6, 'n': 9, 'o': 6, 'g': 2, 'c': 1, 's': 2, 'f': 3, 'j': 1, 'i': 2, 'e': 1, 'w': 1, 'q': 1}\n"
     ]
    }
   ],
   "source": [
    "chars = 'akdnogkncdoksndfongdnjdsonfnanaakdokfniiewoq'\n",
    "char_count = {}\n",
    "for c in chars:\n",
    "    if c not in char_count: # 比較演算子 in / not inはある要素がシーケンス（リストなど）に含まれるかを調べる\n",
    "        char_count[c] = 1\n",
    "    else:\n",
    "        char_count[c] += 1\n",
    "\n",
    "print(char_count)"
   ]
  },
  {
   "cell_type": "markdown",
   "metadata": {
    "toc-hr-collapsed": true
   },
   "source": [
    "## 1.6 モジュール・ライブラリ"
   ]
  },
  {
   "cell_type": "markdown",
   "metadata": {},
   "source": [
    "モジュールは Python の関数・クラスの定義や文が入ったファイルです。ファイル名はモジュール名に接尾語`.py`がついたものになります。それを他のスクリプトやインタプリタの対話モード等に利用することができます。また、複数のモジュールで構成されたものをライブラリ（パッケージ）と呼びます。ここでは自作モジュールの作り方、使い方には触れず、モジュール・ライブラリのimportの仕方を紹介します。"
   ]
  },
  {
   "cell_type": "markdown",
   "metadata": {},
   "source": [
    "モジュールをインポートするには`import <module>`とします。モジュール内の関数・クラス等にアクセスするには`<module>.<関数>`とします。"
   ]
  },
  {
   "cell_type": "code",
   "execution_count": 49,
   "metadata": {},
   "outputs": [
    {
     "name": "stdout",
     "output_type": "stream",
     "text": [
      "0.5403023058681398\n",
      "3.141592653589793\n"
     ]
    }
   ],
   "source": [
    "import math\n",
    "\n",
    "print(math.cos(1))\n",
    "print(math.pi)"
   ]
  },
  {
   "cell_type": "markdown",
   "metadata": {},
   "source": [
    "`math`モジュールは、浮動小数点演算のための C 言語ライブラリ関数にアクセスする手段を提供しています。"
   ]
  },
  {
   "cell_type": "markdown",
   "metadata": {},
   "source": [
    "モジュールの特定のクラスや関数のみを使いたい場合は`from`を使います。"
   ]
  },
  {
   "cell_type": "code",
   "execution_count": 50,
   "metadata": {},
   "outputs": [
    {
     "data": {
      "text/plain": [
       "2.718281828459045"
      ]
     },
     "execution_count": 50,
     "metadata": {},
     "output_type": "execute_result"
    }
   ],
   "source": [
    "from math import exp\n",
    "\n",
    "exp(1)"
   ]
  },
  {
   "cell_type": "markdown",
   "metadata": {},
   "source": [
    "別名をつけてインポートしたい場合は`as`を使います。"
   ]
  },
  {
   "cell_type": "code",
   "execution_count": 51,
   "metadata": {},
   "outputs": [
    {
     "data": {
      "text/plain": [
       "3.141592653589793"
      ]
     },
     "execution_count": 51,
     "metadata": {},
     "output_type": "execute_result"
    }
   ],
   "source": [
    "import math as mt\n",
    "\n",
    "mt.pi"
   ]
  },
  {
   "cell_type": "markdown",
   "metadata": {},
   "source": [
    "この演習では、科学技術計算ライブラリNumPy/SciPyと機械学習ライブラリscikit-learnを主に使うことになります。"
   ]
  },
  {
   "cell_type": "markdown",
   "metadata": {},
   "source": [
    "## 1.7 クラス・オブジェクト"
   ]
  },
  {
   "cell_type": "markdown",
   "metadata": {},
   "source": [
    "pythonはオブジェクト指向プログラミングをサポートしており、Javaのようなプログラミング言語と同様に**オブジェクト指向で記述することができます**。\n",
    "ここではPythonでの**クラス**の定義の仕方を簡単に紹介します。"
   ]
  },
  {
   "cell_type": "markdown",
   "metadata": {},
   "source": [
    "pythonにおけるクラスオブジェクト定義の基本的な構文は以下のようになります。`class`はクラスの定義を導きます。"
   ]
  },
  {
   "cell_type": "code",
   "execution_count": 52,
   "metadata": {},
   "outputs": [],
   "source": [
    "class className():\n",
    "    \n",
    "    class_data = 2 # クラス変数 \n",
    "    \n",
    "    def __init__(self, aug): \n",
    "        self.data = aug # インスタンス変数\n",
    "        \n",
    "    def func(self, x):\n",
    "        return x**self.class_data * self.data"
   ]
  },
  {
   "cell_type": "markdown",
   "metadata": {},
   "source": [
    "メソッド(関数) `__init__()` は**コンストラクタ**です。クラスの新しいインスタンスを生成するとき`__init__()`が呼び出されます。多くの場合、変数や外部で定義された関数などをここで定義しておきます。`self`はJavaにおける`this`で、インスタンス自身を指すものです。\n",
    "\n",
    "インスタンス変数はそれぞれのインスタンスについて固有のデータのためのもので、クラス変数はそのクラスのすべてのインスタンスによって共有される属性やメソッドのためのものです。(なのでクラス変数ではmutableオブジェクトは避けるべきです。)\n",
    "\n",
    "\n",
    "ではインスタンスを生成してみましょう。"
   ]
  },
  {
   "cell_type": "code",
   "execution_count": 53,
   "metadata": {},
   "outputs": [],
   "source": [
    "a = className(100)\n",
    "b = className(10)"
   ]
  },
  {
   "cell_type": "markdown",
   "metadata": {},
   "source": [
    "クラスの変数やメソッドには次のようにアクセスできます。"
   ]
  },
  {
   "cell_type": "code",
   "execution_count": 54,
   "metadata": {},
   "outputs": [
    {
     "name": "stdout",
     "output_type": "stream",
     "text": [
      "100 10\n",
      "2 2\n"
     ]
    }
   ],
   "source": [
    "print(a.data, b.data) # インスタンス変数なので異なる\n",
    "print(a.class_data, b.class_data) # クラス変数なので同じ"
   ]
  },
  {
   "cell_type": "code",
   "execution_count": 55,
   "metadata": {},
   "outputs": [
    {
     "data": {
      "text/plain": [
       "1000000"
      ]
     },
     "execution_count": 55,
     "metadata": {},
     "output_type": "execute_result"
    }
   ],
   "source": [
    "a.func(100)"
   ]
  },
  {
   "cell_type": "code",
   "execution_count": null,
   "metadata": {},
   "outputs": [],
   "source": []
  }
 ],
 "metadata": {
  "anaconda-cloud": {},
  "kernelspec": {
   "display_name": "Python 3",
   "language": "python",
   "name": "python3"
  },
  "language_info": {
   "codemirror_mode": {
    "name": "ipython",
    "version": 3
   },
   "file_extension": ".py",
   "mimetype": "text/x-python",
   "name": "python",
   "nbconvert_exporter": "python",
   "pygments_lexer": "ipython3",
   "version": "3.6.7"
  }
 },
 "nbformat": 4,
 "nbformat_minor": 4
}
