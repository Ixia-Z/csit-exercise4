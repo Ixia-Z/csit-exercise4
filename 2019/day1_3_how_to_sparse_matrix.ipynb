{
 "cells": [
  {
   "cell_type": "markdown",
   "metadata": {},
   "source": [
    "# 3. SciPyのスパースマトリクス入門"
   ]
  },
  {
   "cell_type": "markdown",
   "metadata": {},
   "source": [
    "## 目次\n",
    "\n",
    "- [3.1 はじめに：スパースマトリクスについて](#what_is_sparse_matrix)\n",
    "    - 3.1.1. SciPyのsparseクラスのインポート\n",
    "- [3.2 coo_matrix](#coo)\n",
    "- [3.3 csr_matrix / csc_matrix](#csr_csc)\n",
    "- [3.4 各スパースマトリクスの長所と短所](#ad_disad)\n",
    "- [3.5 sparse matrixの基本操作](#basic_operation)\n",
    "- [3.6 まとめ](#summary)"
   ]
  },
  {
   "cell_type": "markdown",
   "metadata": {},
   "source": [
    "<a id='what_is_sparse_matrix'></a>\n",
    "\n",
    "## 3.1 はじめに：スパースマトリクスについて"
   ]
  },
  {
   "cell_type": "markdown",
   "metadata": {},
   "source": [
    "ここまで，`np.ndarray`の扱いに関して学んできました．`np.ndarray`を用いることで，行列の様々な演算を簡単に・高速に行うことが可能になりました．\n",
    "\n",
    "さて，実際のデータ解析において**行列の殆どの要素が0である**ということがあります（本演習で用いるデータもまさしくそうです）．要素の殆どが0である状態のことを**スパース (Sparse, 疎)**であると言います．スパースな行列に対しても`np.ndarray`を用いることができますが，**スパースな行列のためのデータ構造**を用いることで**より少ないメモリでデータを表現**でき，さらに**より高速に演算**を行うことが可能になります．このことを確かめるために，いくつかの演算について行列がスパースな場合について考えてみましょう．\n",
    "\n",
    "1. **行列(ベクトル)の要素の和** `np.sum(X)` : 和というのは足し算で，ある値に0を足しても値は変わりません．したがって，和を求める場合は**`X`の0でない値だけを記憶しておけば十分**です．仮に`X`がスパースで99%の要素が0だとすると，高々1%の値のみ保持しておけばよく，大幅にメモリを削減でき更に和の計算も大幅に高速化されます．\n",
    "2. **ベクトルの内積** `np.dot(a, b)` :  ベクトル`b`がスパースだとします．内積は要素ごとの積の和，すなわち，\\$\\sum_{i=1}^{n}\\$`a[i]*b[i]`です．`b`がスパースということは，`b[i]`のほとんどが0ということで，すなわち`a[i]*b[i]`のほとんどが0ということです．内積は`a[i]*b[i]`の和ですから，先ほどの行列の和の時と同様に，`a[i]*b[i]=0`となるような箇所は全て無視できます．したがって，**`b`の0でない値と，そのインデックスのみ保持していれば内積は計算できます**．\n",
    "\n",
    "これらのことから，行列全体ではなく**行列の0でない要素の値とそのインデックス**のみ保持しておけば，メモリ・時間の効率を向上させながら様々な演算を通常の行列と同じように実行可能だということがわかります．このようなデータ構造のことを**スパースマトリクス (sparse matrix）**と言い，これはSciPyで提供されています．スパースマトリクスにもいくつか種類があります．それらの違いはインデックスの保持の仕方によって生じており，それぞれ得意な演算が異なります．\n",
    "\n",
    "本Notebookでは，`coo_matrix`・`csr_matrix`・`csc_matrix`の主に3つについて紹介します．また，いくつかの関数についても紹介します．詳しくは公式のリファレンス https://docs.scipy.org/doc/scipy/reference/sparse.html をご覧ください．\n",
    "\n",
    "**注意** スパースマトリクスはその名の通り行列を扱うクラスです．残念ながら一般の配列には対応していません．"
   ]
  },
  {
   "cell_type": "markdown",
   "metadata": {},
   "source": [
    "## 3.1.1 SciPyのsparseクラスのインポート"
   ]
  },
  {
   "cell_type": "markdown",
   "metadata": {},
   "source": [
    "SciPyのパッケージ名は`scipy`です．スパースマトリクスはその中の`sparse`クラスに属しています．以下の一文でスパースマトリクスを使うことが可能になります．"
   ]
  },
  {
   "cell_type": "code",
   "execution_count": 1,
   "metadata": {},
   "outputs": [],
   "source": [
    "from scipy import sparse\n",
    "import numpy as np # numpyも用いるのでインポートしておく"
   ]
  },
  {
   "cell_type": "markdown",
   "metadata": {},
   "source": [
    "これ以降，`sparse.hugahuga`という形でSciPyのスパースマトリクスが使えるようになりました (`import scipy`とし，`scipy.sparse.fugafuga`としても使えますが，冗長なのでこのようにしています)．実際に0の多い行列を作ってみた後，(1)`np.ndarray`を用いた場合，(2)`scipy.sparse.csc_matrix` (スパースマトリクスの一つです）を用いた場合の和演算の速度で比較をしてみます．"
   ]
  },
  {
   "cell_type": "code",
   "execution_count": 2,
   "metadata": {},
   "outputs": [
    {
     "name": "stdout",
     "output_type": "stream",
     "text": [
      "834 µs ± 15.2 µs per loop (mean ± std. dev. of 7 runs, 1000 loops each)\n",
      "147 µs ± 2.42 µs per loop (mean ± std. dev. of 7 runs, 10000 loops each)\n"
     ]
    }
   ],
   "source": [
    "A = np.random.rand(1000*1000).reshape(1000, 1000) # (1000, 1000)の行列，各要素は0から1\n",
    "A[A<0.99] = 0 # 0.99以下の値を全て0にする．期待値的には1%が非ゼロ，99%が0．\n",
    "A_sp = sparse.csc_matrix(A) # aのスパースマトリクス表現\n",
    "\n",
    "%timeit np.sum(A)\n",
    "%timeit A_sp.sum()"
   ]
  },
  {
   "cell_type": "markdown",
   "metadata": {},
   "source": [
    "流石に100倍とはなっていませんが，高速になったことがわかります．\n",
    "\n",
    "メモリ使用量についてはどうでしょうか？比較してみましょう．`nbytes`でオブジェクトのバイト数が得られます．`np.ndarray`の方は，64bit×1000×1000/8=8000000バイトだと予想されます．`csc_matrix`では，値を表す`data`以外に，インデックスを表す`indices`と`indptr`の２つの属性があります（これらが何を表すかは後ほど説明します）．これら全てのバイト数を計算し，その合計を`csc_matrix`のメモリ使用量とします．"
   ]
  },
  {
   "cell_type": "code",
   "execution_count": 3,
   "metadata": {},
   "outputs": [
    {
     "name": "stdout",
     "output_type": "stream",
     "text": [
      "8000000 125336\n",
      "63.82842918235782\n"
     ]
    }
   ],
   "source": [
    "memory_ndarray = A.data.nbytes\n",
    "memory_cscmat = A_sp.data.nbytes + A_sp.indices.nbytes + A_sp.indptr.nbytes\n",
    "print(memory_ndarray, memory_cscmat)\n",
    "print(memory_ndarray/memory_cscmat)"
   ]
  },
  {
   "cell_type": "markdown",
   "metadata": {},
   "source": [
    "`ndarray`の場合と比べ約60分の1となっています，素晴らしいですね．では実際にいくつかの疎行列について見ていきましょう．"
   ]
  },
  {
   "cell_type": "markdown",
   "metadata": {},
   "source": [
    "<a id='coo'></a>\n",
    "\n",
    "## 3.2 coo_matrix"
   ]
  },
  {
   "cell_type": "markdown",
   "metadata": {},
   "source": [
    "スパースな行列として次のような行列を例に考えることにします（実際に扱うデータはもっとスパース（非ゼロ要素が1%未満）であることも多いです）．"
   ]
  },
  {
   "cell_type": "code",
   "execution_count": 4,
   "metadata": {},
   "outputs": [
    {
     "name": "stdout",
     "output_type": "stream",
     "text": [
      "[[ 0  0  1  0]\n",
      " [ 0  4 -1  0]\n",
      " [ 2  0 -3  0]\n",
      " [ 0  0  0  5]]\n"
     ]
    }
   ],
   "source": [
    "A_list = [[0, 0, 1, 0], [0, 4, -1, 0], [2, 0, -3, 0], [0, 0, 0, 5]]\n",
    "A_ndarray = np.array(A_list)\n",
    "print(A_ndarray)"
   ]
  },
  {
   "cell_type": "markdown",
   "metadata": {},
   "source": [
    "先程述べたように，スパースな行列は全ての値ではなく非ゼロ要素の値とそのインデックスを覚えておけば良いのでした．上で定義した行列`A`の非ゼロ要素の値とインデックス（何行・何列か）は，\n",
    "\n",
    "値　インデックス\n",
    "\n",
    "` 1 (0, 2)`\n",
    " \n",
    "` 4 (1, 1)`\n",
    " \n",
    "` -1 (1, 2)`\n",
    " \n",
    "` 2 (2, 0)`\n",
    "\n",
    "` -3 (2, 2)`\n",
    "\n",
    "` 5 (3, 3)`\n",
    "\n",
    "です．スパースマトリクスとしての最もシンプルな表現方法は，行列`A`の(1)非ゼロ要素の値を表すリスト (あるいは`np.ndarray`)，(2)それらの行のインデックスを表すリスト，そして(3)列のインデックスを表すリストの合計3つのリストによって表現することです．すなわち，\n",
    "\n",
    "`data = [1, 4, -1, 2, -3, 5] # 非ゼロ要素の値のリスト`\n",
    "\n",
    "`row = [0, 1, 1, 2, 2, 3] # 非ゼロ要素の行のインデックスのリスト`\n",
    "\n",
    "`col = [2, 1, 2, 0, 2, 3] # 非ゼロ要素の列のインデックスのリスト`\n",
    "\n",
    "の3つのリストの集まりとして行列を表現するということです．このように表現した場合，**非ゼロ要素の3倍のサイズのデータ**を保持することになります．したがって，単純に考えると**非ゼロ要素が全体の1/3より少ない時は効率が良い**ですが，そうでない場合は効率は良くありません．この例では残念ながら効率は良くありません．\n",
    "\n",
    "このような表現で計算は効率良く行えるのでしょうか？まず，和の計算は`data`の和を計算すれば良く，これは非ゼロ要素に比例した計算時間なため，`np.ndarray`上で行うよりも効率が良いでしょう．また，同じサイズの行列`B`との内積 (要素ごとの積の和，すなわち，NumPyの場合は`np.sum(A*B)`)を考えてみます．これもやはり，\\$\\sum_{i \\in \\mathrm{row}, j \\in \\mathrm{col}}\\$ `A[i,j]*B[i,j]`で計算できる (2重ループを回す際に，`row`と`col`内のインデックスだけ取り出せば良い）ため，非ゼロ要素に比例した計算時間で実行できます．\n",
    "\n",
    "非ゼロ要素の値のリスト・非ゼロ要素の行のインデックスのリスト・非ゼロ要素の列のインデックスのリストの3つで表現するスパースマトリクスを，`scipy.sparse`では`coo_matrix`として提供しています (COOrdinate (座標) format)．実際に使ってみましょう．最も単純な作り方は，`np.ndarray`を`coo_matrix`に被せるという方法です．"
   ]
  },
  {
   "cell_type": "code",
   "execution_count": 5,
   "metadata": {},
   "outputs": [
    {
     "name": "stdout",
     "output_type": "stream",
     "text": [
      "  (0, 2)\t1\n",
      "  (1, 1)\t4\n",
      "  (1, 2)\t-1\n",
      "  (2, 0)\t2\n",
      "  (2, 2)\t-3\n",
      "  (3, 3)\t5\n",
      "[ 1  4 -1  2 -3  5]\n",
      "[0 1 1 2 2 3]\n",
      "[2 1 2 0 2 3]\n"
     ]
    }
   ],
   "source": [
    "A_coo = sparse.coo_matrix(A_ndarray)\n",
    "print(A_coo)\n",
    "print(A_coo.data)\n",
    "print(A_coo.row)\n",
    "print(A_coo.col)"
   ]
  },
  {
   "cell_type": "markdown",
   "metadata": {},
   "source": [
    "この`np.ndarray`を被せるという方法は実用上は問題があります．行列が非常に大規模である場合に，`np.ndarray`ではそもそもメモリに乗らないということもあるからです．このような場合に対して，`data`・`row`・`col`の3つの配列を，`(data, (row, col))`の形で渡して`coo_matrix`を作ることもできます．3つのリストを`coo_matrix`に渡して`coo_matrix`のオブジェクトを作成することで，`scipy.sparse`の提供する様々な行列演算のサポートを受けることができます．"
   ]
  },
  {
   "cell_type": "code",
   "execution_count": 6,
   "metadata": {},
   "outputs": [
    {
     "name": "stdout",
     "output_type": "stream",
     "text": [
      "  (0, 2)\t1\n",
      "  (1, 1)\t4\n",
      "  (1, 2)\t-1\n",
      "  (2, 0)\t2\n",
      "  (2, 2)\t-3\n",
      "  (3, 3)\t5\n"
     ]
    }
   ],
   "source": [
    "data = [1, 4, -1, 2, -3, 5]\n",
    "row = [0, 1, 1, 2, 2, 3]\n",
    "col = [2, 1, 2, 0, 2, 3]\n",
    "A_coo2 = sparse.coo_matrix((data, (row, col)))\n",
    "print(A_coo2)"
   ]
  },
  {
   "cell_type": "markdown",
   "metadata": {},
   "source": [
    "ライブラリに実装されているため書く必要は全く無いのですが，coo_matrixの和を求める関数と，coo_matrixとndarrayの内積を求める関数は，例えば以下のように書けます．上手く動いています．後ライブラリの機能を用いた方法は後述します．"
   ]
  },
  {
   "cell_type": "code",
   "execution_count": 7,
   "metadata": {},
   "outputs": [
    {
     "name": "stdout",
     "output_type": "stream",
     "text": [
      "8\n",
      "8\n",
      "56\n",
      "56.0\n"
     ]
    }
   ],
   "source": [
    "def sum_coo(X_coo):\n",
    "    return np.sum(X_coo.data)\n",
    "\n",
    "\n",
    "def dot_coo_ndarray(X_coo, Y_ndarray):\n",
    "    # 愚直に書くと以下のようになる\n",
    "    dot = 0.\n",
    "    for val, i, j, in zip(X_coo.data, X_coo.row, X_coo.col): # 3つのリストから同時に取り出す\n",
    "        dot += val * Y_ndarray[i, j]\n",
    "    return dot\n",
    "    \"\"\"\n",
    "    # インデックス配列によるアクセスを上手く使うと以下のように簡単に書ける\n",
    "    return np.dot(X_coo.data, Y_ndarray[X_coo.row, X_coo.col])\n",
    "    \"\"\"\n",
    "\n",
    "print(np.sum(A_ndarray)) # Aの和 (ndarray)\n",
    "print(sum_coo(A_coo)) # Aの和 (coo_matrix)\n",
    "print(np.sum(A_ndarray*A_ndarray)) # AとAの内積 (要素ごとの積の和) (ndarrayとndarray)\n",
    "print(dot_coo_ndarray(A_coo, A_ndarray)) # AとAの内積 (要素ごとの積の和) (coo_matrixとndarray)"
   ]
  },
  {
   "cell_type": "markdown",
   "metadata": {},
   "source": [
    "<a id='csr_csc'></a>\n",
    "\n",
    "## 3.3 `csr_matrix / csc_matrix`"
   ]
  },
  {
   "cell_type": "markdown",
   "metadata": {},
   "source": [
    "`coo_matrix`における行のインデックスリスト`row`と列のインデックスリスト`col`は，実はどちらか片方を簡略化することができます．先ほどの例では，上の行の値から順に値とインデックスをリストに入れていました．そのため，**同じ行に存在する値が連続して格納**されています．実際に，行のインデックスを表すリスト`row=[0, 1, 1, 2, 2, 3]`となっていることからも明らかです．\n",
    "\n",
    "そこで，上の行から順に値が格納されている場合に，全ての非ゼロ要素の行のインデックスを陽に持つ`row`の代わりに，**`data`や`col`の何番目から何番目までが`i`行目かを表す**リストを持つことにしてみます．このようなリストを`indptr`と書くことにします（indexのpointer）．今，`indptr[i]`が，`data`や`col`において`i`行目の要素が格納され始めた場所を表すとします．`indptr[i+1]`は`i+1`行目の要素が格納され始めた場所ですから，`data[indptr[i]:indptr[i+1]]`が`i`行目の非ゼロ要素を表します．\n",
    "\n",
    "わかりにくいので，実際に配列を表示しながら考えてみます．"
   ]
  },
  {
   "cell_type": "code",
   "execution_count": 8,
   "metadata": {},
   "outputs": [
    {
     "name": "stdout",
     "output_type": "stream",
     "text": [
      "[[ 0  0  1  0]\n",
      " [ 0  4 -1  0]\n",
      " [ 2  0 -3  0]\n",
      " [ 0  0  0  5]]\n",
      "[ 1  4 -1  2 -3  5]\n",
      "[0 1 1 2 2 3]\n",
      "[2 1 2 0 2 3]\n"
     ]
    }
   ],
   "source": [
    "print(A_ndarray)\n",
    "print(A_coo.data)\n",
    "print(A_coo.row)\n",
    "print(A_coo.col)"
   ]
  },
  {
   "cell_type": "markdown",
   "metadata": {},
   "source": [
    "`A`の0行目の要素は，`data`・`col`において0番目から開始します．したがって，`indptr[0]=0`です．\n",
    "\n",
    "次に，`A`の1行目の要素は，0行目の非ゼロ要素は1つなので，`data`・`col`において1番目から開始します．したがって，`indptr[1]=1`です．\n",
    "\n",
    "`A`の2行目の要素は，0行目と1行目の非ゼロ要素は3つなので，`data`・`col`において3番目から開始します．したがって，`indptr[2]=3`です．\n",
    "\n",
    "最後に，`A`の3行目の要素は，0行目から2行目の非ゼロ要素は5つなので，`data`・`col`において5番目から開始します．したがって，`indptr[3]=5`です．\n",
    "\n",
    "`indptr[i+1]`は，`i+1`行目の要素が始まる位置を表していますが，同時に`i`行目の要素がどこで終わるかを表してもいます．3行目の要素が何番目で終わるかを表すインデックスを格納している方が諸々の処理が綺麗に書けるため，`indptr[4]=6`とします．\n",
    "\n",
    "まとめると，`indptr=[0, 1, 3, 5, 6]`となります．明らかに，`indptr`の要素数は行数+1で，これは基本的には非ゼロ要素数よりも少ないです（例えば，ゼロベクトルであるような行が多数ある場合は非ゼロ要素数よりも行数が多くなりえます）．したがって，非ゼロ要素数のサイズのリスト`row`でインデックスを保持するよりも効率が良くなります (この例では一つ減っただけですが)．"
   ]
  },
  {
   "cell_type": "markdown",
   "metadata": {},
   "source": [
    "上の行から順に値を格納し，`data`・`col`においてある行の要素が何番目から始まっているかを表すリスト`indptr`を保持することでスパースな行列を表現するスパースマトリクスを，`scipy.sparse`では`csr_matrix`として提供しています (Compressed Sparse Row matrix)．`csr_matrix`では，`col`は`indices`という名前になります．\n",
    "\n",
    "`csr_matrix`は行毎に行う演算・処理に適しています．\n",
    "**`csr_matrix`では各行の非ゼロ要素には全体の非ゼロ要素数に依存しない時間でアクセスすることができます**．具体的には，`i`行目の非ゼロ要素は`data[indptr[i]:indptr[i+1]]`に格納されています．\n",
    "一方，`coo_matrix`は，先ほどの例では上の行から順に格納しましたが，一般にはそうとは限りません．したがって，**`coo_matrix`ではある行の非ゼロ要素を取り出すためには全ての非ゼロ要素にアクセスする必要があります**（`i`行目の要素を全て取り出すためには，`row`の要素をすべてチェックして`i`行目の非ゼロ要素を探さなければならない）．\n",
    "\n",
    "では実際に`csr_matrix`を作ってみましょう．これも，`np.ndarray`を被せることが作ることができます．\n",
    "また，`coo_matrix`と同様に`(data, (row, col))`によっても作成できます．詳しくはリファレンスを参照してください．"
   ]
  },
  {
   "cell_type": "code",
   "execution_count": 9,
   "metadata": {},
   "outputs": [
    {
     "name": "stdout",
     "output_type": "stream",
     "text": [
      "  (0, 2)\t1\n",
      "  (1, 1)\t4\n",
      "  (1, 2)\t-1\n",
      "  (2, 0)\t2\n",
      "  (2, 2)\t-3\n",
      "  (3, 3)\t5\n",
      "[ 1  4 -1  2 -3  5]\n",
      "[0 1 3 5 6]\n",
      "[2 1 2 0 2 3]\n"
     ]
    }
   ],
   "source": [
    "A_csr = sparse.csr_matrix(A_ndarray)\n",
    "print(A_csr)\n",
    "print(A_csr.data)\n",
    "print(A_csr.indptr)\n",
    "print(A_csr.indices)"
   ]
  },
  {
   "cell_type": "markdown",
   "metadata": {},
   "source": [
    "これもやはりライブラリに実装されているため書く必要は全く無いのですが，`csr_matrix`の和を求める関数と，`csr_matrix`と`ndarray`の内積を求める関数は，例えば以下のように書けます．上手く動いています．"
   ]
  },
  {
   "cell_type": "code",
   "execution_count": 10,
   "metadata": {},
   "outputs": [
    {
     "name": "stdout",
     "output_type": "stream",
     "text": [
      "8\n",
      "8\n",
      "56\n",
      "56.0\n"
     ]
    }
   ],
   "source": [
    "def sum_csr(X_csr):\n",
    "    return np.sum(X_csr.data)\n",
    "\n",
    "\n",
    "def dot_csr_ndarray(X_csr, Y_ndarray):\n",
    "    # 愚直に書くと以下のようになる\n",
    "    dot = 0.\n",
    "    indptr = X_csr.indptr\n",
    "    indices = X_csr.indices\n",
    "    data = X_csr.data\n",
    "    \n",
    "    for i in range(Y_ndarray.shape[0]):\n",
    "        i_start = indptr[i]\n",
    "        i_end = indptr[i+1]\n",
    "        for val, j in zip(data[i_start:i_end], indices[i_start:i_end]):\n",
    "            dot += val * Y_ndarray[i, j]\n",
    "    return dot\n",
    "    \"\"\"\n",
    "    # np.repeat・np.arange・インデックス配列によるアクセスを上手く使うと簡単に書ける\n",
    "    reps = X_csr.indptr[1:] - X_csr.indptr[:-1]\n",
    "    n_rows = Y_ndarray.shape[0]\n",
    "    return np.dot(X_csr.data, Y_ndarray[np.repeat(np.arange(n_rows), reps), X_csr.indices])\n",
    "    \"\"\"\n",
    "\n",
    "print(np.sum(A_ndarray)) # Aの和 (ndarray)\n",
    "print(sum_csr(A_csr)) # Aの和 (coo_matrix)\n",
    "print(np.sum(A_ndarray*A_ndarray)) # AとAの内積 (要素ごとの積の和) (ndarrayとndarray)\n",
    "print(dot_csr_ndarray(A_csr, A_ndarray)) # AとAの内積 (要素ごとの積の和) (coo_matrixとndarray)"
   ]
  },
  {
   "cell_type": "markdown",
   "metadata": {},
   "source": [
    "これまでは行の順に値を格納しました．一方で，列の順に値を格納するという方法も考えられます．すなわち，\n",
    "\n",
    "`data = [2, 4, 1, -1, -3, 5] # 非ゼロ要素の値のリスト`\n",
    "\n",
    "`row = [2, 1, 0, 1, 2, 3] # 非ゼロ要素の行のインデックスのリスト`\n",
    "\n",
    "`col = [0, 1, 2, 2, 2, 3] # 非ゼロ要素の列のインデックスのリスト`\n",
    "\n",
    "と，左の列から順に値を格納していく方法です．この場合，`col`がの要素が連続していますから，`csr_matrix`を作成した時の方法と同様の方法で，`col`を`indptr`に置き換えることができます．このようにして行列を表現するスパースマトリクスを，`scipy.sparse`では`csc_matrix` (Compressed Sparse Column matrix)として提供しています．`csr_matrix`では`col`が`indices`という名前になっていましたが，`csc_matrix`では`row`が`indices`という名前になっています．  \n"
   ]
  },
  {
   "cell_type": "code",
   "execution_count": 11,
   "metadata": {},
   "outputs": [
    {
     "name": "stdout",
     "output_type": "stream",
     "text": [
      "[[ 0  0  1  0]\n",
      " [ 0  4 -1  0]\n",
      " [ 2  0 -3  0]\n",
      " [ 0  0  0  5]]\n",
      "  (2, 0)\t2\n",
      "  (1, 1)\t4\n",
      "  (0, 2)\t1\n",
      "  (1, 2)\t-1\n",
      "  (2, 2)\t-3\n",
      "  (3, 3)\t5\n",
      "[ 2  4  1 -1 -3  5]\n",
      "[0 1 2 5 6]\n",
      "[2 1 0 1 2 3]\n"
     ]
    }
   ],
   "source": [
    "A_csc = sparse.csc_matrix(A_ndarray)\n",
    "print(A_ndarray)\n",
    "print(A_csc)\n",
    "print(A_csc.data)\n",
    "print(A_csc.indptr)\n",
    "print(A_csc.indices)"
   ]
  },
  {
   "cell_type": "markdown",
   "metadata": {},
   "source": [
    "`csr_matrix`は行毎に処理に適していましたが，`csc_matrix`は列毎に行う処理に適しています．理由は`csr_matrix`が行毎の処理に適しているのと同様の理由です：`csc_matrix`では各列の非ゼロ要素に「全体の非ゼロ要素数に依存しない時間」でアクセスが可能です．"
   ]
  },
  {
   "cell_type": "markdown",
   "metadata": {},
   "source": [
    "<a id='ad_disad'></a>\n",
    "## 3.4 各スパースマトリクスの長所・短所"
   ]
  },
  {
   "cell_type": "markdown",
   "metadata": {},
   "source": [
    "ここまで，`coo_matrix`・`csc_matrix`・`csr_matrix`について紹介しました．これらの違いはインデックスの保持の仕方でした．\n",
    "それぞれ長所と短所があります．\n",
    "1. `coo_matrix`\n",
    "    - 長所：他のスパースマトリクスに変換するのが高速．\n",
    "    - 短所：計算が遅い，インデキシング・スライス等をサポートしていない．\n",
    "2. `csr_matrix`\n",
    "    - 長所：行ベクトルを取り出すのが高速，行列-ベクトル積が高速，`csr_matrix`同士の演算が高速．\n",
    "    - 短所：列ベクトルを取り出すのが遅い，他のスパースマトリクスに変換するのが遅い．\n",
    "3. `csc_matrix`\n",
    "    - 長所：列ベクトルを取り出すのが高速，行列-ベクトル積が高速，`csc_matrix`同士の演算が高速．\n",
    "    - 短所：行ベクトルを取り出すのが遅い，他のスパースマトリクスに変換するのが遅い．\n",
    "\n",
    "インデックスの保持の仕方を考えるとある程度納得できるのではないかと思います．\n",
    "用途に応じて使い分けられると良いですね．"
   ]
  },
  {
   "cell_type": "markdown",
   "metadata": {},
   "source": [
    "<a id='basic_operation'></a>\n",
    "\n",
    "## 3.5 スパースマトリクスの基本操作"
   ]
  },
  {
   "cell_type": "markdown",
   "metadata": {},
   "source": [
    "スパースマトリクスの`np.ndarray`への変換は`.toarray()`で行うことができます．スパースマトリクスを上手く扱えずに困った時の必殺技は，`.toarray()`で`np.ndarray`に変換し`np.ndarray`として扱うことです (メモリに乗ればですが)．以降，計算結果の比較を行う際に，`np.ndarray`の方がわかりやすいことが多いため，表示する直前に`toarray()`を多用します．"
   ]
  },
  {
   "cell_type": "code",
   "execution_count": 12,
   "metadata": {},
   "outputs": [
    {
     "name": "stdout",
     "output_type": "stream",
     "text": [
      "[[ 0  0  1  0]\n",
      " [ 0  4 -1  0]\n",
      " [ 2  0 -3  0]\n",
      " [ 0  0  0  5]]\n",
      "  (0, 2)\t1\n",
      "  (1, 1)\t4\n",
      "  (1, 2)\t-1\n",
      "  (2, 0)\t2\n",
      "  (2, 2)\t-3\n",
      "  (3, 3)\t5\n",
      "[[ 0  0  1  0]\n",
      " [ 0  4 -1  0]\n",
      " [ 2  0 -3  0]\n",
      " [ 0  0  0  5]]\n",
      "np.array(A_csr)はダメ\n",
      "  (0, 2)\t1\n",
      "  (1, 1)\t4\n",
      "  (1, 2)\t-1\n",
      "  (2, 0)\t2\n",
      "  (2, 2)\t-3\n",
      "  (3, 3)\t5\n"
     ]
    }
   ],
   "source": [
    "print(A_ndarray)\n",
    "print(A_csr)\n",
    "print(A_csr.toarray())\n",
    "print(\"np.array(A_csr)はダメ\")\n",
    "print(np.array(A_csr)) # np.array()をかぶせても上手く行かない"
   ]
  },
  {
   "cell_type": "markdown",
   "metadata": {},
   "source": [
    "**与えられたオブジェクトがスパースマトリクスなのか否かの判定**は，`sparse.issparse`関数で行うことができます．"
   ]
  },
  {
   "cell_type": "code",
   "execution_count": 13,
   "metadata": {},
   "outputs": [
    {
     "name": "stdout",
     "output_type": "stream",
     "text": [
      "False\n",
      "False\n",
      "False\n",
      "True\n",
      "True\n",
      "True\n"
     ]
    }
   ],
   "source": [
    "print(sparse.issparse(1))\n",
    "print(sparse.issparse(\"aaaaaaaaaa\"))\n",
    "print(sparse.issparse(A_ndarray))\n",
    "print(sparse.issparse(A_csr))\n",
    "print(sparse.issparse(A_csc))\n",
    "print(sparse.issparse(A_coo))"
   ]
  },
  {
   "cell_type": "markdown",
   "metadata": {},
   "source": [
    "`np.ndarray`と同様の方法で基本情報を取得することができます．ただし，`size`では全体の要素数ではなく**非ゼロ要素数**が返ってきます．"
   ]
  },
  {
   "cell_type": "code",
   "execution_count": 14,
   "metadata": {},
   "outputs": [
    {
     "name": "stdout",
     "output_type": "stream",
     "text": [
      "2 2 2\n",
      "(4, 4) (4, 4) (4, 4)\n",
      "int64 int64 int64\n",
      "6 6 6\n"
     ]
    }
   ],
   "source": [
    "print(A_coo.ndim, A_csr.ndim, A_csc.ndim)\n",
    "print(A_coo.shape, A_csr.shape, A_csc.shape)\n",
    "print(A_coo.dtype, A_csr.dtype, A_csc.dtype)\n",
    "print(A_coo.size, A_csr.size, A_csc.size)"
   ]
  },
  {
   "cell_type": "markdown",
   "metadata": {},
   "source": [
    "`csr_matrix`・ `csc_matrix`では，要素へのアクセスやスライスもサポートしています．`np.ndarray`と同様の方法で行うことができます．行ベクトル・列ベクトルへのアクセスでは，スパースなベクトルとしての結果が返ってきます．"
   ]
  },
  {
   "cell_type": "code",
   "execution_count": 15,
   "metadata": {},
   "outputs": [
    {
     "name": "stdout",
     "output_type": "stream",
     "text": [
      "[[ 0  0  1  0]\n",
      " [ 0  4 -1  0]\n",
      " [ 2  0 -3  0]\n",
      " [ 0  0  0  5]]\n",
      "0 0 1 0\n",
      "csr_matrixで行ベクトル・列ベクトルにアクセス\n",
      "  (0, 1)\t4\n",
      "  (0, 2)\t-1\n",
      "  (3, 0)\t5\n",
      "csc_matrixで行ベクトル・列ベクトルにアクセス\n",
      "  (0, 1)\t4\n",
      "  (0, 2)\t-1\n",
      "  (3, 0)\t5\n"
     ]
    }
   ],
   "source": [
    "print(A_ndarray)\n",
    "print(A_csc[0, 0], A_csc[0, 1], A_csc[0, 2], A_csc[0, 3])\n",
    "print('csr_matrixで行ベクトル・列ベクトルにアクセス')\n",
    "print(A_csr[1])\n",
    "print(A_csr[:, 3])\n",
    "print('csc_matrixで行ベクトル・列ベクトルにアクセス')\n",
    "print(A_csc[1])\n",
    "print(A_csc[:, 3])"
   ]
  },
  {
   "cell_type": "markdown",
   "metadata": {},
   "source": [
    "`coo_matrix`では要素へのアクセスが禁じられています．**エラーが返ってきます．**"
   ]
  },
  {
   "cell_type": "code",
   "execution_count": 16,
   "metadata": {},
   "outputs": [
    {
     "ename": "TypeError",
     "evalue": "'coo_matrix' object is not subscriptable",
     "output_type": "error",
     "traceback": [
      "\u001b[0;31m---------------------------------------------------------------------------\u001b[0m",
      "\u001b[0;31mTypeError\u001b[0m                                 Traceback (most recent call last)",
      "\u001b[0;32m<ipython-input-16-b680cae18180>\u001b[0m in \u001b[0;36m<module>\u001b[0;34m()\u001b[0m\n\u001b[0;32m----> 1\u001b[0;31m \u001b[0mprint\u001b[0m\u001b[0;34m(\u001b[0m\u001b[0mA_coo\u001b[0m\u001b[0;34m[\u001b[0m\u001b[0;36m1\u001b[0m\u001b[0;34m,\u001b[0m \u001b[0;36m2\u001b[0m\u001b[0;34m]\u001b[0m\u001b[0;34m)\u001b[0m\u001b[0;34m\u001b[0m\u001b[0m\n\u001b[0m",
      "\u001b[0;31mTypeError\u001b[0m: 'coo_matrix' object is not subscriptable"
     ]
    }
   ],
   "source": [
    "print(A_coo[1, 2])"
   ]
  },
  {
   "cell_type": "markdown",
   "metadata": {},
   "source": [
    "**行列の定数倍**は`np.ndarray`と同様にできます．`csr_matrix`・`csc_matrix`では，行・列毎の定数倍も行えます．"
   ]
  },
  {
   "cell_type": "code",
   "execution_count": 23,
   "metadata": {},
   "outputs": [
    {
     "name": "stdout",
     "output_type": "stream",
     "text": [
      "[[ 0  0  1  0]\n",
      " [ 0  4 -1  0]\n",
      " [ 2  0 -3  0]\n",
      " [ 0  0  0  5]]\n",
      "[[  0   0   4   0]\n",
      " [  0  16  -4   0]\n",
      " [  8   0 -12   0]\n",
      " [  0   0   0  20]]\n",
      "[[  0   0   4   0]\n",
      " [  0  16  -4   0]\n",
      " [  8   0 -12   0]\n",
      " [  0   0   0  20]]\n",
      "[[  0   0   4   0]\n",
      " [  0  16  -4   0]\n",
      " [  8   0 -12   0]\n",
      " [  0   0   0  20]]\n",
      "[[ 0  0 -8  0]\n",
      " [ 0  4  2  0]\n",
      " [ 2  0  6  0]\n",
      " [ 0  0  0  5]]\n"
     ]
    }
   ],
   "source": [
    "print(A_ndarray)\n",
    "print((A_coo*4).toarray())\n",
    "print((A_csr*4).toarray())\n",
    "print((A_csc*4).toarray())\n",
    "_A_csr = A_csr.copy() # コピー\n",
    "_A_csr[0] *= 4\n",
    "_A_csr[:, 2] *= -2\n",
    "print(_A_csr.toarray())"
   ]
  },
  {
   "cell_type": "markdown",
   "metadata": {},
   "source": [
    "**定数和**はスパース性を破壊してしまうため**実行できません．**"
   ]
  },
  {
   "cell_type": "code",
   "execution_count": 24,
   "metadata": {},
   "outputs": [
    {
     "ename": "NotImplementedError",
     "evalue": "adding a nonzero scalar to a sparse matrix is not supported",
     "output_type": "error",
     "traceback": [
      "\u001b[0;31m---------------------------------------------------------------------------\u001b[0m",
      "\u001b[0;31mNotImplementedError\u001b[0m                       Traceback (most recent call last)",
      "\u001b[0;32m<ipython-input-24-7e17306db3fe>\u001b[0m in \u001b[0;36m<module>\u001b[0;34m()\u001b[0m\n\u001b[0;32m----> 1\u001b[0;31m \u001b[0mprint\u001b[0m\u001b[0;34m(\u001b[0m\u001b[0mA_csr\u001b[0m\u001b[0;34m+\u001b[0m\u001b[0;36m4\u001b[0m\u001b[0;34m)\u001b[0m\u001b[0;34m\u001b[0m\u001b[0m\n\u001b[0m",
      "\u001b[0;32m~/venv3/lib/python3.5/site-packages/scipy/sparse/base.py\u001b[0m in \u001b[0;36m__add__\u001b[0;34m(self, other)\u001b[0m\n\u001b[1;32m    409\u001b[0m                 \u001b[0;32mreturn\u001b[0m \u001b[0mself\u001b[0m\u001b[0;34m.\u001b[0m\u001b[0mcopy\u001b[0m\u001b[0;34m(\u001b[0m\u001b[0;34m)\u001b[0m\u001b[0;34m\u001b[0m\u001b[0m\n\u001b[1;32m    410\u001b[0m             \u001b[0;31m# Now we would add this scalar to every element.\u001b[0m\u001b[0;34m\u001b[0m\u001b[0;34m\u001b[0m\u001b[0m\n\u001b[0;32m--> 411\u001b[0;31m             raise NotImplementedError('adding a nonzero scalar to a '\n\u001b[0m\u001b[1;32m    412\u001b[0m                                       'sparse matrix is not supported')\n\u001b[1;32m    413\u001b[0m         \u001b[0;32melif\u001b[0m \u001b[0misspmatrix\u001b[0m\u001b[0;34m(\u001b[0m\u001b[0mother\u001b[0m\u001b[0;34m)\u001b[0m\u001b[0;34m:\u001b[0m\u001b[0;34m\u001b[0m\u001b[0m\n",
      "\u001b[0;31mNotImplementedError\u001b[0m: adding a nonzero scalar to a sparse matrix is not supported"
     ]
    }
   ],
   "source": [
    "print(A_csr+4)"
   ]
  },
  {
   "cell_type": "markdown",
   "metadata": {},
   "source": [
    "**スパースマトリクスとスパースマトリクスの和**は`np.ndarray`と同様にできます．異なるスパースマトリクス同士でもできます (が，同じタイプのスパースマトリクス同士で行うほうが高速です)．"
   ]
  },
  {
   "cell_type": "code",
   "execution_count": 29,
   "metadata": {},
   "outputs": [
    {
     "name": "stdout",
     "output_type": "stream",
     "text": [
      "[[ 0  0  2  0]\n",
      " [ 0  8 -2  0]\n",
      " [ 4  0 -6  0]\n",
      " [ 0  0  0 10]]\n",
      "[[ 0  0  2  0]\n",
      " [ 0  8 -2  0]\n",
      " [ 4  0 -6  0]\n",
      " [ 0  0  0 10]]\n",
      "[[ 0  0  2  0]\n",
      " [ 0  8 -2  0]\n",
      " [ 4  0 -6  0]\n",
      " [ 0  0  0 10]]\n",
      "[[ 0  0  2  0]\n",
      " [ 0  8 -2  0]\n",
      " [ 4  0 -6  0]\n",
      " [ 0  0  0 10]]\n",
      "[[ 0  0  2  0]\n",
      " [ 0  8 -2  0]\n",
      " [ 4  0 -6  0]\n",
      " [ 0  0  0 10]]\n"
     ]
    }
   ],
   "source": [
    "print((A_csr+A_csr).toarray())\n",
    "print((A_csc+A_csc).toarray())\n",
    "print((A_coo+A_coo).toarray())\n",
    "print((A_csr+A_csc).toarray())\n",
    "print((A_coo+A_csc).toarray())"
   ]
  },
  {
   "cell_type": "markdown",
   "metadata": {},
   "source": [
    "`np.ndarray`と同様に**転置は`.T`**で行うことができます．"
   ]
  },
  {
   "cell_type": "code",
   "execution_count": 54,
   "metadata": {},
   "outputs": [
    {
     "name": "stdout",
     "output_type": "stream",
     "text": [
      "[[ 0  0  1  0]\n",
      " [ 0  4 -1  0]\n",
      " [ 2  0 -3  0]\n",
      " [ 0  0  0  5]]\n",
      "[[ 0  0  1  0]\n",
      " [ 0  4 -1  0]\n",
      " [ 2  0 -3  0]\n",
      " [ 0  0  0  5]]\n",
      "[[ 0  0  2  0]\n",
      " [ 0  4  0  0]\n",
      " [ 1 -1 -3  0]\n",
      " [ 0  0  0  5]]\n"
     ]
    }
   ],
   "source": [
    "print(A_ndarray)\n",
    "print(A_csc.toarray())\n",
    "print(A_csc.T.toarray())"
   ]
  },
  {
   "cell_type": "markdown",
   "metadata": {},
   "source": [
    "**和**は`.sum()`で計算ができます．`np.ndarray`と同様に，`axis`キーワードを用いることができます．"
   ]
  },
  {
   "cell_type": "code",
   "execution_count": 23,
   "metadata": {},
   "outputs": [
    {
     "name": "stdout",
     "output_type": "stream",
     "text": [
      "8 8 8 8\n",
      "各行ベクトルの和\n",
      "[ 2  4 -3  5]\n",
      "[[ 2  4 -3  5]]\n",
      "[[ 2  4 -3  5]]\n",
      "[[ 2  4 -3  5]]\n",
      "各列ベクトルの和\n",
      "[ 1  3 -1  5]\n",
      "[[ 1]\n",
      " [ 3]\n",
      " [-1]\n",
      " [ 5]]\n",
      "[[ 1]\n",
      " [ 3]\n",
      " [-1]\n",
      " [ 5]]\n",
      "[[ 1]\n",
      " [ 3]\n",
      " [-1]\n",
      " [ 5]]\n"
     ]
    }
   ],
   "source": [
    "print(np.sum(A_ndarray), A_coo.sum(), A_csr.sum(),  A_csc.sum())\n",
    "print(\"各行ベクトルの和\")\n",
    "print(np.sum(A_ndarray, axis=0))\n",
    "print(A_coo.sum(axis=0))\n",
    "print(A_csr.sum(axis=0))\n",
    "print(A_csc.sum(axis=0))\n",
    "print(\"各列ベクトルの和\")\n",
    "print(np.sum(A_ndarray, axis=1))\n",
    "print(A_coo.sum(axis=1))\n",
    "print(A_csr.sum(axis=1))\n",
    "print(A_csc.sum(axis=1))"
   ]
  },
  {
   "cell_type": "markdown",
   "metadata": {},
   "source": [
    "上の結果を見ると，`axis`キーワードを指定した場合，`np.ndarray`の挙動とスパースマトリクスの挙動がやや異なっています．実は，スパースマトリクスの`sum`は，`axis`をキーワードを用いた場合`np.matrix`を返します．"
   ]
  },
  {
   "cell_type": "code",
   "execution_count": 87,
   "metadata": {},
   "outputs": [
    {
     "name": "stdout",
     "output_type": "stream",
     "text": [
      "<class 'numpy.ndarray'>\n",
      "<class 'numpy.matrix'>\n",
      "<class 'numpy.ndarray'>\n",
      "<class 'numpy.matrix'>\n"
     ]
    }
   ],
   "source": [
    "print(type(np.sum(A_ndarray, axis=0)))\n",
    "print(type(A_csr.sum(axis=0)))\n",
    "\n",
    "print(type(np.sum(A_ndarray, axis=1)))\n",
    "print(type(A_csr.sum(axis=1)))"
   ]
  },
  {
   "cell_type": "markdown",
   "metadata": {},
   "source": [
    "`np.matrix`は行列用のクラスで常に次元は2次元になります．それが先ほどの挙動の違いの理由です．\n",
    "\n",
    "残念なことに，`np.matrix`と`np.ndarray`の間で計算を行うと，`np.ndarray`同士での演算結果とは異なることがほとんどです．以下のセルがその例を示しています．下のセルでは，`np.ndarray`と`np.matrix`の間で演算が発生した時に，`np.matrix`準拠の結果になっています．計算の結果返ってくる型は`np.matrix`です．\n"
   ]
  },
  {
   "cell_type": "code",
   "execution_count": 37,
   "metadata": {},
   "outputs": [
    {
     "name": "stdout",
     "output_type": "stream",
     "text": [
      "ndarrayとndarrayで+\n",
      "[ 2  6 -2 10]\n",
      "ndarrayとmatrixで+\n",
      "[[ 2  4  0  6]\n",
      " [ 4  6  2  8]\n",
      " [ 0  2 -2  4]\n",
      " [ 6  8  4 10]]\n",
      "<class 'numpy.matrix'>\n",
      "ndarrayとndarrayで*\n",
      "[ 1  9  1 25]\n",
      "ndarrayとmatrixで*\n",
      "[[36]]\n",
      "<class 'numpy.matrix'>\n",
      "matrixとndarrayで*\n",
      "[[ 1  3 -1  5]\n",
      " [ 3  9 -3 15]\n",
      " [-1 -3  1 -5]\n",
      " [ 5 15 -5 25]]\n",
      "<class 'numpy.matrix'>\n"
     ]
    }
   ],
   "source": [
    "print(\"ndarrayとndarrayで+\")\n",
    "print(np.sum(A_ndarray, axis=1)+np.sum(A_ndarray, axis=1))\n",
    "print(\"ndarrayとmatrixで+\")\n",
    "print(np.sum(A_ndarray, axis=1)+A_csr.sum(axis=1))\n",
    "print(type(np.sum(A_ndarray, axis=1)+A_csr.sum(axis=1)))\n",
    "\n",
    "print(\"ndarrayとndarrayで*\")\n",
    "print(np.sum(A_ndarray, axis=1)*np.sum(A_ndarray, axis=1))\n",
    "print(\"ndarrayとmatrixで*\")\n",
    "print(np.sum(A_ndarray, axis=1)*A_csr.sum(axis=1))\n",
    "print(type(np.sum(A_ndarray, axis=1)*A_csr.sum(axis=1)))\n",
    "print(\"matrixとndarrayで*\") # 上と順序を逆にする\n",
    "print(A_csr.sum(axis=1)*np.sum(A_ndarray, axis=1))\n",
    "print(type(A_csr.sum(axis=1)*np.sum(A_ndarray, axis=1)))"
   ]
  },
  {
   "cell_type": "markdown",
   "metadata": {},
   "source": [
    "`np.matrix`よりも`np.ndarray`の方が使いやすいということも多いです．`np.matrix`に`np.ndarray`を被せることで`np.ndarray`に変換できます．"
   ]
  },
  {
   "cell_type": "code",
   "execution_count": 88,
   "metadata": {},
   "outputs": [
    {
     "name": "stdout",
     "output_type": "stream",
     "text": [
      "[[ 1]\n",
      " [ 3]\n",
      " [-1]\n",
      " [ 5]]\n",
      "<class 'numpy.matrix'>\n",
      "[[ 1]\n",
      " [ 3]\n",
      " [-1]\n",
      " [ 5]]\n",
      "<class 'numpy.ndarray'>\n"
     ]
    }
   ],
   "source": [
    "print(A_csr.sum(axis=1))\n",
    "print(type(A_csr.sum(axis=1)))\n",
    "print(np.array(A_csr.sum(axis=1)))\n",
    "print(type(np.array(A_csr.sum(axis=1))))"
   ]
  },
  {
   "cell_type": "markdown",
   "metadata": {},
   "source": [
    "スパースマトリクスでは`.toarray()`がありましたが，`np.matrix`にはありません．**エラーが出ます．**"
   ]
  },
  {
   "cell_type": "code",
   "execution_count": 89,
   "metadata": {},
   "outputs": [
    {
     "ename": "AttributeError",
     "evalue": "'matrix' object has no attribute 'toarray'",
     "output_type": "error",
     "traceback": [
      "\u001b[0;31m---------------------------------------------------------------------------\u001b[0m",
      "\u001b[0;31mAttributeError\u001b[0m                            Traceback (most recent call last)",
      "\u001b[0;32m<ipython-input-89-3dbd8258e417>\u001b[0m in \u001b[0;36m<module>\u001b[0;34m()\u001b[0m\n\u001b[0;32m----> 1\u001b[0;31m \u001b[0mprint\u001b[0m\u001b[0;34m(\u001b[0m\u001b[0mA_csr\u001b[0m\u001b[0;34m.\u001b[0m\u001b[0msum\u001b[0m\u001b[0;34m(\u001b[0m\u001b[0maxis\u001b[0m\u001b[0;34m=\u001b[0m\u001b[0;36m1\u001b[0m\u001b[0;34m)\u001b[0m\u001b[0;34m.\u001b[0m\u001b[0mtoarray\u001b[0m\u001b[0;34m(\u001b[0m\u001b[0;34m)\u001b[0m\u001b[0;34m)\u001b[0m\u001b[0;34m\u001b[0m\u001b[0m\n\u001b[0m",
      "\u001b[0;31mAttributeError\u001b[0m: 'matrix' object has no attribute 'toarray'"
     ]
    }
   ],
   "source": [
    "print(A_csr.sum(axis=1).toarray())"
   ]
  },
  {
   "cell_type": "markdown",
   "metadata": {},
   "source": [
    "`np.matrix`における`*`は，**要素ごとの積ではなく行列積**です．これはスパースマトリクスでも同じです．**スパースマトリクスで要素毎の積**を行いたい場合は，`.multiply`を使います．"
   ]
  },
  {
   "cell_type": "code",
   "execution_count": 14,
   "metadata": {},
   "outputs": [
    {
     "name": "stdout",
     "output_type": "stream",
     "text": [
      "スパースマトリクスの*は行列積(dot)\n",
      "[[ 1 -1 -3  0]\n",
      " [-1 17  3  0]\n",
      " [-3  3 13  0]\n",
      " [ 0  0  0 25]]\n",
      "[[ 1 -1 -3  0]\n",
      " [-1 17  3  0]\n",
      " [-3  3 13  0]\n",
      " [ 0  0  0 25]]\n",
      "スパースマトリクスの要素積はmultiply\n",
      "[[ 0  0  1  0]\n",
      " [ 0 16  1  0]\n",
      " [ 4  0  9  0]\n",
      " [ 0  0  0 25]]\n",
      "[[ 0  0  1  0]\n",
      " [ 0 16  1  0]\n",
      " [ 4  0  9  0]\n",
      " [ 0  0  0 25]]\n"
     ]
    }
   ],
   "source": [
    "print(\"スパースマトリクスの*は行列積(dot)\")\n",
    "print(np.dot(A_ndarray, A_ndarray.T))\n",
    "print((A_csc*A_csc.T).toarray())\n",
    "\n",
    "print(\"スパースマトリクスの要素積はmultiply\")\n",
    "print(A_ndarray*A_ndarray)\n",
    "print(A_csc.multiply(A_csc).toarray())"
   ]
  },
  {
   "cell_type": "markdown",
   "metadata": {},
   "source": [
    "スパースマトリクスと`np.ndarray`のベクトルで積を計算したい場合があります (`np.dot(A_ndarray, b)`に対応)．そのまま`np.dot`を使ってみると，次のような結果になります．一体どのような計算がされると次のような結果になるのでしょうか？"
   ]
  },
  {
   "cell_type": "code",
   "execution_count": 65,
   "metadata": {},
   "outputs": [
    {
     "name": "stdout",
     "output_type": "stream",
     "text": [
      "[[ 0  0  1  0]\n",
      " [ 0  4 -1  0]\n",
      " [ 2  0 -3  0]\n",
      " [ 0  0  0  5]]\n",
      "[ 2  2 -6 15]\n",
      "[<4x4 sparse matrix of type '<class 'numpy.int64'>'\n",
      "\twith 6 stored elements in Compressed Sparse Row format>\n",
      " <4x4 sparse matrix of type '<class 'numpy.int64'>'\n",
      "\twith 6 stored elements in Compressed Sparse Row format>\n",
      " <4x4 sparse matrix of type '<class 'numpy.int64'>'\n",
      "\twith 6 stored elements in Compressed Sparse Row format>\n",
      " <4x4 sparse matrix of type '<class 'numpy.int64'>'\n",
      "\twith 6 stored elements in Compressed Sparse Row format>]\n",
      "<class 'numpy.ndarray'>\n"
     ]
    }
   ],
   "source": [
    "b = np.arange(4)\n",
    "print(A_ndarray)\n",
    "print(np.dot(A_ndarray, b))\n",
    "print(np.dot(A_csr, b))\n",
    "print(type(np.dot(A_csr, b)))"
   ]
  },
  {
   "cell_type": "markdown",
   "metadata": {},
   "source": [
    "答え合わせです．`np.dot(A_csr, b)`の演算結果は，要素数4の`np.ndarray`で，各要素が`csr_matrix`となっています．中身を覗いてみましょう．各要素は，`A_csr`に`b[i]`を掛けた(定数倍)結果になっています．予想外です．"
   ]
  },
  {
   "cell_type": "code",
   "execution_count": 67,
   "metadata": {},
   "outputs": [
    {
     "name": "stdout",
     "output_type": "stream",
     "text": [
      "[[ 0  0  1  0]\n",
      " [ 0  4 -1  0]\n",
      " [ 2  0 -3  0]\n",
      " [ 0  0  0  5]]\n",
      "[[0 0 0 0]\n",
      " [0 0 0 0]\n",
      " [0 0 0 0]\n",
      " [0 0 0 0]]\n",
      "[[ 0  0  1  0]\n",
      " [ 0  4 -1  0]\n",
      " [ 2  0 -3  0]\n",
      " [ 0  0  0  5]]\n",
      "[[ 0  0  2  0]\n",
      " [ 0  8 -2  0]\n",
      " [ 4  0 -6  0]\n",
      " [ 0  0  0 10]]\n",
      "[[ 0  0  3  0]\n",
      " [ 0 12 -3  0]\n",
      " [ 6  0 -9  0]\n",
      " [ 0  0  0 15]]\n"
     ]
    }
   ],
   "source": [
    "print(A_ndarray)\n",
    "for i in range(4):\n",
    "    print(np.dot(A_csr, b)[i].toarray())"
   ]
  },
  {
   "cell_type": "markdown",
   "metadata": {},
   "source": [
    "スパースマトリクスと`np.ndarray`のベクトルの積 (`np.dot(A_ndarray, b)`に対応)は，`*`で計算できます．ややこしいですね．"
   ]
  },
  {
   "cell_type": "code",
   "execution_count": 97,
   "metadata": {},
   "outputs": [
    {
     "name": "stdout",
     "output_type": "stream",
     "text": [
      "[ 2  2 -6 15]\n",
      "[ 2  2 -6 15]\n"
     ]
    }
   ],
   "source": [
    "print(np.dot(A_ndarray, b))\n",
    "print((A_csr*b))"
   ]
  },
  {
   "cell_type": "markdown",
   "metadata": {},
   "source": [
    "`np.ndarray`同様に，ここで紹介した関数以外にも多くの関数があります．より詳しく知りたい方は公式のリファレンス (https://docs.scipy.org/doc/scipy/reference/sparse.html )をご覧ください．"
   ]
  },
  {
   "cell_type": "markdown",
   "metadata": {},
   "source": [
    "<a id='summary'></a>\n",
    "## 3.6 まとめ"
   ]
  },
  {
   "cell_type": "markdown",
   "metadata": {},
   "source": [
    "- スパースマトリクスは0が多い行列を効率良く扱うためのクラス(データ構造)です．\n",
    "- 非ゼロ要素の値と非ゼロ要素のインデックスを保持してデータを表現します．\n",
    "- インデックスの保持の仕方には色々あり，それによって`coo_matrix`や`csr_matrix`，`csc_matrix`といったようにいくつかのヴァリエーションが存在します．インデックスの保持の仕方によって，長所短所があります．\n",
    "- `np.ndarray`で行うことができた様々な演算の多くが同様に実行できます．ただし，`*`のように，いくつかの演算は`np.ndarray`とは異なる演算結果となるため注意が必要です．また，`np.matrix`を返すこともあり，それにも注意が必要です．\n",
    "- 操作に困ってどうしようもないときの最終奥義は，`.toarray()`で`np.ndarray`に変換し，`np.ndarray`として扱ってしまうことです．"
   ]
  },
  {
   "cell_type": "code",
   "execution_count": null,
   "metadata": {},
   "outputs": [],
   "source": []
  }
 ],
 "metadata": {
  "kernelspec": {
   "display_name": "Python 3",
   "language": "python",
   "name": "python3"
  },
  "language_info": {
   "codemirror_mode": {
    "name": "ipython",
    "version": 3
   },
   "file_extension": ".py",
   "mimetype": "text/x-python",
   "name": "python",
   "nbconvert_exporter": "python",
   "pygments_lexer": "ipython3",
   "version": "3.7.4"
  }
 },
 "nbformat": 4,
 "nbformat_minor": 4
}
